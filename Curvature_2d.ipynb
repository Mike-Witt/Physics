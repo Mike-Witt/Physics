{
 "metadata": {
  "name": "",
  "signature": "sha256:70803677572ab0db4c0292d361d784980eb161d204ac2e1e5c734552a0b0bf83"
 },
 "nbformat": 3,
 "nbformat_minor": 0,
 "worksheets": [
  {
   "cells": [
    {
     "cell_type": "markdown",
     "metadata": {},
     "source": [
      "<style type=\"text/css\">\n",
      "    p {font-size: 12pt; font-family: Geneva; }\n",
      "    b {font-size: 12pt; font-weight: bold; font-family: Geneva; }\n",
      "    i {font-size: 12pt; font-style: italic; font-family: Geneva;  }\n",
      "    ol {font-size: 12pt; list-style-type: decimal !important; font-family: Geneva; }\n",
      "    ol.sp {padding: 0 0 0 0; font-size: 12pt; list-style-type: decimal !important;}\n",
      "    ol.sp li {margin-bottom: 10pt; }\n",
      "    .in {padding-left: 50pt;}\n",
      "    .din {padding-left: 75pt;}\n",
      "    .sp {padding-left: 50pt;}\n",
      "    .f12 {font-size: 12pt;}\n",
      "    .ult {font-size: 12pt; font-family: Geneva;} \n",
      "    .fhel {font-family: \"Helvetica\";}\n",
      "    .fheln {font-family: \"Helvetica Neue\";}\n",
      "    .farial {font-family: \"Arial\";}\n",
      "    .fgen {font-family: \"Geneva\";}\n",
      "    .fss {font-family: \"sans-serif\";}\n",
      "    .ftr {font-family: \"times-roman\";}\n",
      "</style>\n",
      "\n",
      "<a name=top></a>\n",
      "<center>\n",
      "<h1>Curvature 2d</h1>\n",
      "</center>"
     ]
    },
    {
     "cell_type": "markdown",
     "metadata": {},
     "source": [
      "<h2>Contents</h2>\n",
      "<ul class=ult>\n",
      "    <li> <a href=\"#imports\">Imports and Subroutines</a></li>\n",
      "    <li> <a href=\"#tensorcalc\">GR Tensor Calculations</a></li>\n",
      "    <li> <a href=\"#geodesic\">The Geodesic Equation</a></li>\n",
      "    <li> <a href=\"#misc\">Misc. Tests</a></li>\n",
      "    <li> <a href=\"#2dpolar\">Example: Polar Coords - 2D Flat Space</a></li>\n",
      "    <li> <a href=\"#2dsphere\">Example: 2D Sphere</a></li>\n",
      "    <li> <a href=\"#consta\">Example: Constant Acceleration</a></li>\n",
      "</ul>"
     ]
    },
    {
     "cell_type": "markdown",
     "metadata": {},
     "source": [
      "   \n",
      "<h2>Status</h2>\n",
      "<ul class=ult>\n",
      "    <li>To run: <code>ipython notebook</code></li>\n",
      "    <li>For a \"2D Sphere\" test, I appear to be calculating the following correctly\n",
      "        <ul>\n",
      "            <li>The Christoffel symbol</li>\n",
      "            <li>The Riemann Curature tensor</li>\n",
      "            <li>The Ricci tensor</li>\n",
      "            <li>The Ricci scalar</li>\n",
      "        </ul>\n",
      "    </li>\n",
      "</ul>"
     ]
    },
    {
     "cell_type": "markdown",
     "metadata": {},
     "source": [
      "<a name=imports></a>\n",
      "<h2><a href=\"#top\">^</a> Imports and Subroutines</h2>"
     ]
    },
    {
     "cell_type": "code",
     "collapsed": false,
     "input": [
      "%autosave 0\n",
      "import numpy as np\n",
      "import sympy as sy\n",
      "sy.init_printing()\n",
      "from symbolic_calculations import *"
     ],
     "language": "python",
     "metadata": {},
     "outputs": []
    },
    {
     "cell_type": "markdown",
     "metadata": {},
     "source": [
      "<a name=tensorcalc></a>\n",
      "<h2><a href=\"#top\">^</a> GR Tensor Calculations</h2>\n",
      "\n",
      "<ol>\n",
      "\n",
      "<li><h4>The Metric Tensor</h4><br>\n",
      "<p>\n",
      "    I'm storing the metric tensor as a sympy matrix.\n",
      "    This is different than the way I treat the other objects, which\n",
      "    are lists of lists.\n",
      "</p>\n",
      "<p>\n",
      "    The metric is:\n",
      "    <font size=4><br><br>\n",
      "    <center>\n",
      "    $ds^2 = g_{mn} dx^m dx^n$\n",
      "    </center></font>\n",
      "</p>\n",
      "<p>\n",
      "    The inner product of two vectors $U$ and $V$ is given by:\n",
      "    <font size=4><br><br>\n",
      "    <center>\n",
      "    $IP = g_{mn} U^m V^n$\n",
      "    </center></font>\n",
      "</p>\n",
      "</li>\n",
      "    \n",
      "<li><h4>(Regular) Partial Derivatives</h4><br>\n",
      "</li>\n",
      "    \n",
      "<li> <h4>The Christoffel symbol</h4><br>\n",
      "<p>\n",
      "    <font size=4><br><br>\n",
      "    <center>\n",
      "        $ \\Gamma^\\sigma{}_{\\alpha\\beta} = \\frac{1}{2} g^{\\sigma\\rho}\n",
      "        \\left( \\partial_\\beta g_{\\rho\\alpha} + \\partial_\\alpha g_{\\rho\\beta}\n",
      "        - \\partial_\\rho g_{\\alpha\\beta}\\right)$\n",
      "    </center></font>\n",
      "</p>\n",
      "<p>\n",
      "    The formula above is from Franklin p. 115.\n",
      "</p>\n",
      "</li>\n",
      "\n",
      "\n",
      "<br>\n",
      "<li><h4>Covariant derivative of a covariant vector</h4><br>\n",
      "<p>\n",
      "<font size=4><br><br>\n",
      "    <center>\n",
      "    $D_\\beta V_\\alpha = \\partial_\\beta V_\\alpha - \\Gamma^\\sigma_{\\alpha\\beta} V_\\sigma$\n",
      "    </center></font>\n",
      "</p>\n",
      "<p>\n",
      "    This formula is from Franklin page 115. I don't believe I've actually\n",
      "    used this derivative in any of my calculations so far.\n",
      "</p>\n",
      "</li>\n",
      "\n",
      "<br>\n",
      "<li><h4>The Riemann curvature tensor:</h4>\n",
      "    <p>\n",
      "    <font size=4><br><br>\n",
      "    <center>\n",
      "    $\n",
      "        R^\\alpha{}_{\\rho\\gamma\\beta}=\n",
      "        \\Gamma^\\alpha{}_{\\gamma\\sigma} \\Gamma^\\sigma{}_{\\beta\\rho}\n",
      "        -\\Gamma^\\alpha{}_{\\beta\\sigma} \\Gamma^\\sigma{}_{\\gamma\\rho}\n",
      "        +\\partial_\\gamma\\Gamma^\\alpha{}_{\\beta\\rho}-\\partial_\\beta\\Gamma^\\alpha{}_{\\gamma\\rho}\n",
      "    $\n",
      "    </center></font>\n",
      "</p>\n",
      "<p>\n",
      "    The formula above is from Franklin page 131. But I've got the code structured\n",
      "    so that it's easy to change the names of the indices.\n",
      "</p>\n",
      "</li>\n",
      "\n",
      "<br><li><h4>The Ricci Tensor:</h4><br>\n",
      "<p>\n",
      "    <font size=4><br><br>\n",
      "        <center>\n",
      "        $\n",
      "            R_{\\mu\\nu} = R^\\alpha_{\\mu\\alpha\\nu}\n",
      "        $\n",
      "        </center></font>\n",
      "</p>\n",
      "<p>From Franklin page 141</p>\n",
      "</li>\n",
      "    \n",
      "    <br><li><h4>The Ricci Scalar:</h4><br>\n",
      "<p>\n",
      "        <font size=4><br><br>\n",
      "        <center>\n",
      "        $\n",
      "            R = R_{\\mu\\nu} g^{\\mu\\nu}\n",
      "        $\n",
      "        </center></font>\n",
      "</p>\n",
      "<p>From Franklin page 141</p>\n",
      "</li>\n",
      "    \n",
      "</ol>"
     ]
    },
    {
     "cell_type": "markdown",
     "metadata": {},
     "source": [
      "<a name=geodesic></a>\n",
      "<h2><a href=\"#top\">^</a> The Geodesic Equation</h2>\n",
      "<p>\n",
      "    Franklin page 98 (3.1) slightly modified:\n",
      "</p>\n",
      "<p>\n",
      "    <font size=4><br>\n",
      "    <center>\n",
      "    $ \n",
      "    \\ddot{x}^{\\mu} = -\\Gamma^{\\mu}_{\\alpha\\beta}\\, \\dot{x}^{\\alpha} \\dot{x}^{\\beta}\n",
      "    $\n",
      "    </center>\n",
      "    </font>\n",
      "</p>\n",
      "Which, assuming a parameter of $\\tau$ is equivalent to:\n",
      "<p>\n",
      "    <font size=4><br>\n",
      "    <center>\n",
      "    $ \n",
      "    \\frac{\\partial^2}{\\partial\\tau^2}x^{\\mu} = \n",
      "    -\\Gamma^{\\mu}_{\\alpha\\beta}\\, \n",
      "    \\frac{\\partial}{\\partial\\tau}x^{\\alpha} \n",
      "    \\frac{\\partial}{\\partial\\tau}x^{\\beta}\n",
      "    $\n",
      "    </center>\n",
      "    </font>\n",
      "</p>\n",
      "\n",
      "<b>Notes:</b>\n",
      "<ul>\n",
      "<li> This <i>does</i> get\n",
      "    the correct (symbolic) expression for the geodesic in polar coords\n",
      "    per \"Graviation\" page 213. \n",
      "<li> On that same page they give the <i>\n",
      "    solution</i> to the geodesic eq for polar as:\n",
      "    $$\n",
      "    x = r \\cos\\theta = a\\tau + b,\\;\\;\\; y = r \\sin\\theta = j\\tau+k\n",
      "    $$\n",
      "    (for some constant: $a,b,j,k$.)\n",
      "</ul>"
     ]
    },
    {
     "cell_type": "markdown",
     "metadata": {},
     "source": [
      "<a name=misc></a>\n",
      "<h2><a href=\"#top\">^</a> Various Tests</h2>"
     ]
    },
    {
     "cell_type": "code",
     "collapsed": false,
     "input": [
      "space = 'flat'\n",
      "if space=='flat':\n",
      "    N = 2 # Declare the dimension\n",
      "    x = sy.Symbol('x')\n",
      "    y = sy.Symbol('y')\n",
      "    X = [x,y]\n",
      "    g = sy.Matrix([[1,0],[0,1]])\n",
      "    g_inv = sy.Matrix(g).inv()\n",
      "    g, g_inv\n",
      "else:\n",
      "    print('I don\\'t know of a space called \"%s\"' %space)"
     ],
     "language": "python",
     "metadata": {},
     "outputs": []
    },
    {
     "cell_type": "code",
     "collapsed": false,
     "input": [
      "U = [sy.Symbol('U_1'), sy.Symbol('U_2')]\n",
      "V = [sy.Symbol('V_1'), sy.Symbol('V_2')]\n",
      "inner_product(g, U, V)"
     ],
     "language": "python",
     "metadata": {},
     "outputs": []
    },
    {
     "cell_type": "code",
     "collapsed": false,
     "input": [
      "g,partial(X, 0, g),partial(X, 1, g)"
     ],
     "language": "python",
     "metadata": {},
     "outputs": []
    },
    {
     "cell_type": "code",
     "collapsed": false,
     "input": [
      "Gamma = calc_christoffel_symbol(X, g, v=False)"
     ],
     "language": "python",
     "metadata": {},
     "outputs": []
    },
    {
     "cell_type": "code",
     "collapsed": false,
     "input": [
      "calculate_geodesic(X, Gamma, v=True)"
     ],
     "language": "python",
     "metadata": {},
     "outputs": []
    },
    {
     "cell_type": "markdown",
     "metadata": {},
     "source": [
      "<a name=2dpolar></a>\n",
      "<h2><a href=\"#top\">^</a> Example: 2D Polar Coordinates (flat space)</h2>\n",
      "<p>\n",
      "    See: <code>http://en.wikipedia.org/wiki/Metric_tensor</code>\n",
      "</p>"
     ]
    },
    {
     "cell_type": "code",
     "collapsed": false,
     "input": [
      "N = 2\n",
      "r = sy.Symbol('r')\n",
      "theta = sy.Symbol('theta')\n",
      "X = [r, theta]\n",
      "g = sy.Matrix([[1,0],[0,r**2]])\n",
      "g_inv = sy.Matrix(g).inv()\n",
      "g, g_inv"
     ],
     "language": "python",
     "metadata": {},
     "outputs": []
    },
    {
     "cell_type": "code",
     "collapsed": false,
     "input": [
      "U = [sy.Symbol('U_1'), sy.Symbol('U_2')]\n",
      "V = [sy.Symbol('V_1'), sy.Symbol('V_2')]\n",
      "inner_product(g, U, V)"
     ],
     "language": "python",
     "metadata": {},
     "outputs": []
    },
    {
     "cell_type": "code",
     "collapsed": false,
     "input": [
      "Gamma = calc_christoffel_symbol(X, g, v=False)\n",
      "Gamma"
     ],
     "language": "python",
     "metadata": {},
     "outputs": []
    },
    {
     "cell_type": "code",
     "collapsed": false,
     "input": [
      "riemann_tensor=calc_riemann_tensor(X, g, Gamma, v=False)\n",
      "Print(np.shape(riemann_tensor))\n",
      "riemann_tensor"
     ],
     "language": "python",
     "metadata": {},
     "outputs": []
    },
    {
     "cell_type": "code",
     "collapsed": false,
     "input": [
      "ricci_tensor = calc_ricci_tensor(riemann_tensor)\n",
      "ricci_tensor"
     ],
     "language": "python",
     "metadata": {},
     "outputs": []
    },
    {
     "cell_type": "code",
     "collapsed": false,
     "input": [
      "R = calc_ricci_scalar(g, ricci_tensor)\n",
      "R"
     ],
     "language": "python",
     "metadata": {},
     "outputs": []
    },
    {
     "cell_type": "code",
     "collapsed": false,
     "input": [
      "calculate_geodesic((r, theta), Gamma, v=True)"
     ],
     "language": "python",
     "metadata": {},
     "outputs": []
    },
    {
     "cell_type": "markdown",
     "metadata": {},
     "source": [
      "<a name=2dsphere></a>\n",
      "<h2><a href=\"#top\">^</a> Example: A 2D Sphere</h2>\n",
      "<p>\n",
      "    Franklin pages: 141-143 - For a \"2d sphere\", $R=2/r^2$.\n",
      "</p>"
     ]
    },
    {
     "cell_type": "code",
     "collapsed": false,
     "input": [
      "N = 2 # Declare the dimension\n",
      "r = sy.Symbol('r')\n",
      "theta = sy.Symbol('theta')\n",
      "phi = sy.Symbol('phi')\n",
      "X = [theta, phi] # X is the Basis set\n",
      "g = sy.Matrix([[r**2,0],[0,r**2*sy.sin(theta)**2]])\n",
      "g_inv = sy.Matrix(g).inv()\n",
      "g, g_inv"
     ],
     "language": "python",
     "metadata": {},
     "outputs": []
    },
    {
     "cell_type": "code",
     "collapsed": false,
     "input": [
      "Gamma = calc_christoffel_symbol(X, g, v=False)\n",
      "# This appears to be correct vis p.142 (4.49)\n",
      "# And it appears to agree with Franklin's GetCCull[] code\n",
      "Gamma"
     ],
     "language": "python",
     "metadata": {},
     "outputs": []
    },
    {
     "cell_type": "code",
     "collapsed": false,
     "input": [
      "riemann_tensor=calc_riemann_tensor(X, g, Gamma, v=False)\n",
      "Print(np.shape(riemann_tensor))\n",
      "riemann_tensor"
     ],
     "language": "python",
     "metadata": {},
     "outputs": []
    },
    {
     "cell_type": "code",
     "collapsed": false,
     "input": [
      "ricci_tensor = calc_ricci_tensor(riemann_tensor)\n",
      "ricci_tensor"
     ],
     "language": "python",
     "metadata": {},
     "outputs": []
    },
    {
     "cell_type": "code",
     "collapsed": false,
     "input": [
      "R = calc_ricci_scalar(g, ricci_tensor)\n",
      "R"
     ],
     "language": "python",
     "metadata": {},
     "outputs": []
    },
    {
     "cell_type": "code",
     "collapsed": false,
     "input": [
      "calculate_geodesic(X, Gamma, v=True)"
     ],
     "language": "python",
     "metadata": {},
     "outputs": []
    },
    {
     "cell_type": "markdown",
     "metadata": {},
     "source": [
      "<a name=consta></a>\n",
      "<h2><a href=\"#top\">^</a> Example: Constant Acceleration</h2>\n",
      "<p>\n",
      "    Susskind 2012 GR Lecture #4. Note that what I'm currently using\n",
      "    is (I believe) an <i>approximation.</i> Need to look back at\n",
      "    the lecture about that.\n",
      "</p>"
     ]
    },
    {
     "cell_type": "code",
     "collapsed": false,
     "input": [
      "N = 2 # Declare the dimension\n",
      "# G is simply a gravitational constant (say Earth's gravity)\n",
      "G = sy.Symbol('g')\n",
      "x = sy.Symbol('x')\n",
      "t = sy.Symbol('t')\n",
      "X = [t, x] # X is the Basis set\n",
      "g = sy.Matrix([[-1-2*x*G,0],[0,1]])\n",
      "g_inv = sy.Matrix(g).inv()\n",
      "Print(r'$g_{\\mu\\nu}=%s, \\;\\; g^{\\mu\\nu}=%s$'%(L(g),L(g_inv)))\n",
      "Gamma = calc_christoffel_symbol(X, g, v=False)\n",
      "Print(r'$\\Gamma = %s$'%L(Gamma))\n",
      "Print(r'$\\Gamma^x_{tt} = %s$'%(L(Gamma[1][0][0])))"
     ],
     "language": "python",
     "metadata": {},
     "outputs": []
    },
    {
     "cell_type": "code",
     "collapsed": false,
     "input": [
      "riemann_tensor=calc_riemann_tensor(X, g, Gamma, v=False)\n",
      "Print(np.shape(riemann_tensor))\n",
      "riemann_tensor"
     ],
     "language": "python",
     "metadata": {},
     "outputs": []
    },
    {
     "cell_type": "code",
     "collapsed": false,
     "input": [
      "ricci_tensor = calc_ricci_tensor(riemann_tensor)\n",
      "ricci_tensor"
     ],
     "language": "python",
     "metadata": {},
     "outputs": []
    },
    {
     "cell_type": "code",
     "collapsed": false,
     "input": [
      "R = calc_ricci_scalar(g, ricci_tensor)\n",
      "R.simplify()"
     ],
     "language": "python",
     "metadata": {},
     "outputs": []
    },
    {
     "cell_type": "code",
     "collapsed": false,
     "input": [
      "a = calculate_geodesic(X, Gamma, v=True)\n",
      "a"
     ],
     "language": "python",
     "metadata": {},
     "outputs": []
    }
   ],
   "metadata": {}
  }
 ]
}