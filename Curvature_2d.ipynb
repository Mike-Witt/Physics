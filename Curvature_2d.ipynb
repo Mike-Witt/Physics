{
 "metadata": {
  "name": "",
  "signature": "sha256:b2762986ffbec1063f107252033beb1ee3cbf24499f8fdeb591018155cbce9d1"
 },
 "nbformat": 3,
 "nbformat_minor": 0,
 "worksheets": [
  {
   "cells": [
    {
     "cell_type": "markdown",
     "metadata": {},
     "source": [
      "<style type=\"text/css\">\n",
      "    p {font-size: 12pt; font-family: Geneva; }\n",
      "    b {font-size: 12pt; font-weight: bold; font-family: Geneva; }\n",
      "    i {font-size: 12pt; font-style: italic; font-family: Geneva;  }\n",
      "    ol {font-size: 12pt; list-style-type: decimal !important; font-family: Geneva; }\n",
      "    ol.sp {padding: 0 0 0 0; font-size: 12pt; list-style-type: decimal !important;}\n",
      "    ol.sp li {margin-bottom: 10pt; }\n",
      "    .in {padding-left: 50pt;}\n",
      "    .din {padding-left: 75pt;}\n",
      "    .sp {padding-left: 50pt;}\n",
      "    .f12 {font-size: 12pt;}\n",
      "    .ult {font-size: 12pt; font-family: Geneva;} \n",
      "    .fhel {font-family: \"Helvetica\";}\n",
      "    .fheln {font-family: \"Helvetica Neue\";}\n",
      "    .farial {font-family: \"Arial\";}\n",
      "    .fgen {font-family: \"Geneva\";}\n",
      "    .fss {font-family: \"sans-serif\";}\n",
      "    .ftr {font-family: \"times-roman\";}\n",
      "</style>\n",
      "\n",
      "<a name=top></a>\n",
      "<center>\n",
      "<h1>Curvature 2d</h1>\n",
      "</center>"
     ]
    },
    {
     "cell_type": "markdown",
     "metadata": {},
     "source": [
      "<h2>Contents</h2>\n",
      "<ul class=ult>\n",
      "    <li> <a href=\"#imports\">Imports and Subroutines</a></li>\n",
      "    <li> <a href=\"#tensorcalc\">GR Tensor Calculations</a></li>\n",
      "    <li> <a href=\"#geodesic\">The Geodesic Equation</a></li>\n",
      "    <li> <a href=\"#misc\">Misc. Tests</a></li>\n",
      "    <li> <a href=\"#2dpolar\">Example: Polar Coords - 2D Flat Space</a></li>\n",
      "    <li> <a href=\"#2dsphere\">Example: 2D Sphere</a></li>\n",
      "    <li> <a href=\"#consta\">Example: Constant Acceleration</a></li>\n",
      "</ul>"
     ]
    },
    {
     "cell_type": "markdown",
     "metadata": {},
     "source": [
      "   \n",
      "<h2>Status</h2>\n",
      "<ul class=ult>\n",
      "    <li>To run: <code>ipython notebook</code></li>\n",
      "    <li>For a \"2D Sphere\" test, I appear to be calculating the following correctly\n",
      "        <ul>\n",
      "            <li>The Christoffel symbol</li>\n",
      "            <li>The Riemann Curature tensor</li>\n",
      "            <li>The Ricci tensor</li>\n",
      "            <li>The Ricci scalar</li>\n",
      "        </ul>\n",
      "    </li>\n",
      "</ul>"
     ]
    },
    {
     "cell_type": "markdown",
     "metadata": {},
     "source": [
      "<a name=imports></a>\n",
      "<h2><a href=\"#top\">^</a> Imports and Subroutines</h2>"
     ]
    },
    {
     "cell_type": "code",
     "collapsed": false,
     "input": [
      "%autosave 0\n",
      "import numpy as np\n",
      "import sympy as sy\n",
      "sy.init_printing()\n",
      "from symbolic_calculations import *"
     ],
     "language": "python",
     "metadata": {},
     "outputs": [
      {
       "javascript": [
        "IPython.notebook.set_autosave_interval(0)"
       ],
       "metadata": {},
       "output_type": "display_data"
      },
      {
       "output_type": "stream",
       "stream": "stdout",
       "text": [
        "Autosave disabled\n"
       ]
      }
     ],
     "prompt_number": 53
    },
    {
     "cell_type": "markdown",
     "metadata": {},
     "source": [
      "<a name=tensorcalc></a>\n",
      "<h2><a href=\"#top\">^</a> GR Tensor Calculations</h2>\n",
      "\n",
      "<ol>\n",
      "\n",
      "<li><h4>The Metric Tensor</h4><br>\n",
      "<p>\n",
      "    I'm storing the metric tensor as a sympy matrix.\n",
      "    This is different than the way I treat the other objects, which\n",
      "    are lists of lists.\n",
      "</p>\n",
      "<p>\n",
      "    The metric is:\n",
      "    <font size=4><br><br>\n",
      "    <center>\n",
      "    $ds^2 = g_{mn} dx^m dx^n$\n",
      "    </center></font>\n",
      "</p>\n",
      "<p>\n",
      "    The inner product of two vectors $U$ and $V$ is given by:\n",
      "    <font size=4><br><br>\n",
      "    <center>\n",
      "    $IP = g_{mn} U^m V^n$\n",
      "    </center></font>\n",
      "</p>\n",
      "</li>\n",
      "    \n",
      "<li><h4>(Regular) Partial Derivatives</h4><br>\n",
      "</li>\n",
      "    \n",
      "<li> <h4>The Christoffel symbol</h4><br>\n",
      "<p>\n",
      "    <font size=4><br><br>\n",
      "    <center>\n",
      "        $ \\Gamma^\\sigma{}_{\\alpha\\beta} = \\frac{1}{2} g^{\\sigma\\rho}\n",
      "        \\left( \\partial_\\beta g_{\\rho\\alpha} + \\partial_\\alpha g_{\\rho\\beta}\n",
      "        - \\partial_\\rho g_{\\alpha\\beta}\\right)$\n",
      "    </center></font>\n",
      "</p>\n",
      "<p>\n",
      "    The formula above is from Franklin p. 115.\n",
      "</p>\n",
      "</li>\n",
      "\n",
      "\n",
      "<br>\n",
      "<li><h4>Covariant derivative of a covariant vector</h4><br>\n",
      "<p>\n",
      "<font size=4><br><br>\n",
      "    <center>\n",
      "    $D_\\beta V_\\alpha = \\partial_\\beta V_\\alpha - \\Gamma^\\sigma_{\\alpha\\beta} V_\\sigma$\n",
      "    </center></font>\n",
      "</p>\n",
      "<p>\n",
      "    This formula is from Franklin page 115. I don't believe I've actually\n",
      "    used this derivative in any of my calculations so far.\n",
      "</p>\n",
      "</li>\n",
      "\n",
      "<br>\n",
      "<li><h4>The Riemann curvature tensor:</h4>\n",
      "    <p>\n",
      "    <font size=4><br><br>\n",
      "    <center>\n",
      "    $\n",
      "        R^\\alpha{}_{\\rho\\gamma\\beta}=\n",
      "        \\Gamma^\\alpha{}_{\\gamma\\sigma} \\Gamma^\\sigma{}_{\\beta\\rho}\n",
      "        -\\Gamma^\\alpha{}_{\\beta\\sigma} \\Gamma^\\sigma{}_{\\gamma\\rho}\n",
      "        +\\partial_\\gamma\\Gamma^\\alpha{}_{\\beta\\rho}-\\partial_\\beta\\Gamma^\\alpha{}_{\\gamma\\rho}\n",
      "    $\n",
      "    </center></font>\n",
      "</p>\n",
      "<p>\n",
      "    The formula above is from Franklin page 131. But I've got the code structured\n",
      "    so that it's easy to change the names of the indices.\n",
      "</p>\n",
      "</li>\n",
      "\n",
      "<br><li><h4>The Ricci Tensor:</h4><br>\n",
      "<p>\n",
      "    <font size=4><br><br>\n",
      "        <center>\n",
      "        $\n",
      "            R_{\\mu\\nu} = R^\\alpha_{\\mu\\alpha\\nu}\n",
      "        $\n",
      "        </center></font>\n",
      "</p>\n",
      "<p>From Franklin page 141</p>\n",
      "</li>\n",
      "    \n",
      "    <br><li><h4>The Ricci Scalar:</h4><br>\n",
      "<p>\n",
      "        <font size=4><br><br>\n",
      "        <center>\n",
      "        $\n",
      "            R = R_{\\mu\\nu} g^{\\mu\\nu}\n",
      "        $\n",
      "        </center></font>\n",
      "</p>\n",
      "<p>From Franklin page 141</p>\n",
      "</li>\n",
      "    \n",
      "</ol>"
     ]
    },
    {
     "cell_type": "markdown",
     "metadata": {},
     "source": [
      "<a name=geodesic></a>\n",
      "<h2><a href=\"#top\">^</a> The Geodesic Equation</h2>\n",
      "<p>\n",
      "    Franklin page 98 (3.1) slightly modified:\n",
      "</p>\n",
      "<p>\n",
      "    <font size=4><br>\n",
      "    <center>\n",
      "    $ \n",
      "    \\ddot{x}^{\\mu} = -\\Gamma^{\\mu}_{\\alpha\\beta}\\, \\dot{x}^{\\alpha} \\dot{x}^{\\beta}\n",
      "    $\n",
      "    </center>\n",
      "    </font>\n",
      "</p>\n",
      "Which, assuming a parameter of $\\tau$ is equivalent to:\n",
      "<p>\n",
      "    <font size=4><br>\n",
      "    <center>\n",
      "    $ \n",
      "    \\frac{\\partial^2}{\\partial\\tau^2}x^{\\mu} = \n",
      "    -\\Gamma^{\\mu}_{\\alpha\\beta}\\, \n",
      "    \\frac{\\partial}{\\partial\\tau}x^{\\alpha} \n",
      "    \\frac{\\partial}{\\partial\\tau}x^{\\beta}\n",
      "    $\n",
      "    </center>\n",
      "    </font>\n",
      "</p>\n",
      "\n",
      "<b>Notes:</b>\n",
      "<ul>\n",
      "<li> This <i>does</i> get\n",
      "    the correct (symbolic) expression for the geodesic in polar coords\n",
      "    per \"Graviation\" page 213. \n",
      "<li> On that same page they give the <i>\n",
      "    solution</i> to the geodesic eq for polar as:\n",
      "    $$\n",
      "    x = r \\cos\\theta = a\\tau + b,\\;\\;\\; y = r \\sin\\theta = j\\tau+k\n",
      "    $$\n",
      "    (for some constant: $a,b,j,k$.)\n",
      "</ul>"
     ]
    },
    {
     "cell_type": "markdown",
     "metadata": {},
     "source": [
      "<a name=misc></a>\n",
      "<h2><a href=\"#top\">^</a> Various Tests</h2>"
     ]
    },
    {
     "cell_type": "code",
     "collapsed": false,
     "input": [
      "space = 'flat'\n",
      "if space=='flat':\n",
      "    N = 2 # Declare the dimension\n",
      "    x = sy.Symbol('x')\n",
      "    y = sy.Symbol('y')\n",
      "    X = [x,y]\n",
      "    g = sy.Matrix([[1,0],[0,1]])\n",
      "    g_inv = sy.Matrix(g).inv()\n",
      "    g, g_inv\n",
      "else:\n",
      "    print('I don\\'t know of a space called \"%s\"' %space)"
     ],
     "language": "python",
     "metadata": {},
     "outputs": [],
     "prompt_number": 54
    },
    {
     "cell_type": "code",
     "collapsed": false,
     "input": [
      "U = [sy.Symbol('U_1'), sy.Symbol('U_2')]\n",
      "V = [sy.Symbol('V_1'), sy.Symbol('V_2')]\n",
      "inner_product(g, U, V)"
     ],
     "language": "python",
     "metadata": {},
     "outputs": [
      {
       "latex": [
        "$$U_{1} V_{1} + U_{2} V_{2}$$"
       ],
       "metadata": {},
       "output_type": "pyout",
       "png": "[encoded data removed]",
       "prompt_number": 55,
       "text": [
        "U\u2081\u22c5V\u2081 + U\u2082\u22c5V\u2082"
       ]
      }
     ],
     "prompt_number": 55
    },
    {
     "cell_type": "code",
     "collapsed": false,
     "input": [
      "g,partial(X, 0, g),partial(X, 1, g)"
     ],
     "language": "python",
     "metadata": {},
     "outputs": [
      {
       "latex": [
        "$$\\begin{pmatrix}\\left[\\begin{matrix}1 & 0\\\\0 & 1\\end{matrix}\\right], & \\left[\\begin{matrix}0 & 0\\\\0 & 0\\end{matrix}\\right], & \\left[\\begin{matrix}0 & 0\\\\0 & 0\\end{matrix}\\right]\\end{pmatrix}$$"
       ],
       "metadata": {},
       "output_type": "pyout",
       "png": "[encoded data removed]",
       "prompt_number": 56,
       "text": [
        "\u239b\u23a11  0\u23a4, \u23a10  0\u23a4, \u23a10  0\u23a4\u239e\n",
        "\u239c\u23a2    \u23a5  \u23a2    \u23a5  \u23a2    \u23a5\u239f\n",
        "\u239d\u23a30  1\u23a6  \u23a30  0\u23a6  \u23a30  0\u23a6\u23a0"
       ]
      }
     ],
     "prompt_number": 56
    },
    {
     "cell_type": "code",
     "collapsed": false,
     "input": [
      "Gamma = calc_christoffel_symbol(X, g, v=True)"
     ],
     "language": "python",
     "metadata": {},
     "outputs": [
      {
       "html": [
        "<font size=3 color=black>Calculating: $ \\Gamma^\\sigma{}_{\\alpha\\beta} = \\frac{1}{2} g^{\\sigma\\rho}\\left( \\partial_\\beta g_{\\rho\\alpha} + \\partial_\\alpha g_{\\rho\\beta}- \\partial_\\rho g_{\\alpha\\beta}\\right)$</font>"
       ],
       "metadata": {},
       "output_type": "display_data",
       "text": [
        "<IPython.core.display.HTML object>"
       ]
      },
      {
       "output_type": "stream",
       "stream": "stdout",
       "text": [
        "  alpha=0, beta=0, sigma=0, rho=0\n"
       ]
      },
      {
       "html": [
        "<font size=3 color=black>$\\;\\; \\Gamma^0_{00} += $$\\frac{1}{2} g^{00}$$(\\partial_0 g_{00}$$+ \\partial_0 g_{00}$$- \\partial_0 g_{00})$</font>"
       ],
       "metadata": {},
       "output_type": "display_data",
       "text": [
        "<IPython.core.display.HTML object>"
       ]
      },
      {
       "html": [
        "<font size=3 color=black>$\\;\\; \\Gamma^0_{00} += $$\\frac{1}{2} (1) $$((0) + (0) - (0))$</font>"
       ],
       "metadata": {},
       "output_type": "display_data",
       "text": [
        "<IPython.core.display.HTML object>"
       ]
      },
      {
       "output_type": "stream",
       "stream": "stdout",
       "text": [
        "  alpha=0, beta=0, sigma=0, rho=1\n"
       ]
      },
      {
       "html": [
        "<font size=3 color=black>$\\;\\; \\Gamma^0_{00} += $$\\frac{1}{2} g^{01}$$(\\partial_0 g_{10}$$+ \\partial_0 g_{10}$$- \\partial_1 g_{00})$</font>"
       ],
       "metadata": {},
       "output_type": "display_data",
       "text": [
        "<IPython.core.display.HTML object>"
       ]
      },
      {
       "html": [
        "<font size=3 color=black>$\\;\\; \\Gamma^0_{00} += $$\\frac{1}{2} (0) $$((0) + (0) - (0))$</font>"
       ],
       "metadata": {},
       "output_type": "display_data",
       "text": [
        "<IPython.core.display.HTML object>"
       ]
      },
      {
       "html": [
        "<font size=3 color=black>$\\Gamma^0_{00} = 0$</font>"
       ],
       "metadata": {},
       "output_type": "display_data",
       "text": [
        "<IPython.core.display.HTML object>"
       ]
      },
      {
       "output_type": "stream",
       "stream": "stdout",
       "text": [
        "  alpha=0, beta=1, sigma=0, rho=0\n"
       ]
      },
      {
       "html": [
        "<font size=3 color=black>$\\;\\; \\Gamma^0_{01} += $$\\frac{1}{2} g^{00}$$(\\partial_1 g_{00}$$+ \\partial_0 g_{01}$$- \\partial_0 g_{01})$</font>"
       ],
       "metadata": {},
       "output_type": "display_data",
       "text": [
        "<IPython.core.display.HTML object>"
       ]
      },
      {
       "html": [
        "<font size=3 color=black>$\\;\\; \\Gamma^0_{01} += $$\\frac{1}{2} (1) $$((0) + (0) - (0))$</font>"
       ],
       "metadata": {},
       "output_type": "display_data",
       "text": [
        "<IPython.core.display.HTML object>"
       ]
      },
      {
       "output_type": "stream",
       "stream": "stdout",
       "text": [
        "  alpha=0, beta=1, sigma=0, rho=1\n"
       ]
      },
      {
       "html": [
        "<font size=3 color=black>$\\;\\; \\Gamma^0_{01} += $$\\frac{1}{2} g^{01}$$(\\partial_1 g_{10}$$+ \\partial_0 g_{11}$$- \\partial_1 g_{01})$</font>"
       ],
       "metadata": {},
       "output_type": "display_data",
       "text": [
        "<IPython.core.display.HTML object>"
       ]
      },
      {
       "html": [
        "<font size=3 color=black>$\\;\\; \\Gamma^0_{01} += $$\\frac{1}{2} (0) $$((0) + (0) - (0))$</font>"
       ],
       "metadata": {},
       "output_type": "display_data",
       "text": [
        "<IPython.core.display.HTML object>"
       ]
      },
      {
       "html": [
        "<font size=3 color=black>$\\Gamma^0_{01} = 0$</font>"
       ],
       "metadata": {},
       "output_type": "display_data",
       "text": [
        "<IPython.core.display.HTML object>"
       ]
      },
      {
       "output_type": "stream",
       "stream": "stdout",
       "text": [
        "  alpha=1, beta=0, sigma=0, rho=0\n"
       ]
      },
      {
       "html": [
        "<font size=3 color=black>$\\;\\; \\Gamma^0_{10} += $$\\frac{1}{2} g^{00}$$(\\partial_0 g_{01}$$+ \\partial_1 g_{00}$$- \\partial_0 g_{10})$</font>"
       ],
       "metadata": {},
       "output_type": "display_data",
       "text": [
        "<IPython.core.display.HTML object>"
       ]
      },
      {
       "html": [
        "<font size=3 color=black>$\\;\\; \\Gamma^0_{10} += $$\\frac{1}{2} (1) $$((0) + (0) - (0))$</font>"
       ],
       "metadata": {},
       "output_type": "display_data",
       "text": [
        "<IPython.core.display.HTML object>"
       ]
      },
      {
       "output_type": "stream",
       "stream": "stdout",
       "text": [
        "  alpha=1, beta=0, sigma=0, rho=1\n"
       ]
      },
      {
       "html": [
        "<font size=3 color=black>$\\;\\; \\Gamma^0_{10} += $$\\frac{1}{2} g^{01}$$(\\partial_0 g_{11}$$+ \\partial_1 g_{10}$$- \\partial_1 g_{10})$</font>"
       ],
       "metadata": {},
       "output_type": "display_data",
       "text": [
        "<IPython.core.display.HTML object>"
       ]
      },
      {
       "html": [
        "<font size=3 color=black>$\\;\\; \\Gamma^0_{10} += $$\\frac{1}{2} (0) $$((0) + (0) - (0))$</font>"
       ],
       "metadata": {},
       "output_type": "display_data",
       "text": [
        "<IPython.core.display.HTML object>"
       ]
      },
      {
       "html": [
        "<font size=3 color=black>$\\Gamma^0_{10} = 0$</font>"
       ],
       "metadata": {},
       "output_type": "display_data",
       "text": [
        "<IPython.core.display.HTML object>"
       ]
      },
      {
       "output_type": "stream",
       "stream": "stdout",
       "text": [
        "  alpha=1, beta=1, sigma=0, rho=0\n"
       ]
      },
      {
       "html": [
        "<font size=3 color=black>$\\;\\; \\Gamma^0_{11} += $$\\frac{1}{2} g^{00}$$(\\partial_1 g_{01}$$+ \\partial_1 g_{01}$$- \\partial_0 g_{11})$</font>"
       ],
       "metadata": {},
       "output_type": "display_data",
       "text": [
        "<IPython.core.display.HTML object>"
       ]
      },
      {
       "html": [
        "<font size=3 color=black>$\\;\\; \\Gamma^0_{11} += $$\\frac{1}{2} (1) $$((0) + (0) - (0))$</font>"
       ],
       "metadata": {},
       "output_type": "display_data",
       "text": [
        "<IPython.core.display.HTML object>"
       ]
      },
      {
       "output_type": "stream",
       "stream": "stdout",
       "text": [
        "  alpha=1, beta=1, sigma=0, rho=1\n"
       ]
      },
      {
       "html": [
        "<font size=3 color=black>$\\;\\; \\Gamma^0_{11} += $$\\frac{1}{2} g^{01}$$(\\partial_1 g_{11}$$+ \\partial_1 g_{11}$$- \\partial_1 g_{11})$</font>"
       ],
       "metadata": {},
       "output_type": "display_data",
       "text": [
        "<IPython.core.display.HTML object>"
       ]
      },
      {
       "html": [
        "<font size=3 color=black>$\\;\\; \\Gamma^0_{11} += $$\\frac{1}{2} (0) $$((0) + (0) - (0))$</font>"
       ],
       "metadata": {},
       "output_type": "display_data",
       "text": [
        "<IPython.core.display.HTML object>"
       ]
      },
      {
       "html": [
        "<font size=3 color=black>$\\Gamma^0_{11} = 0$</font>"
       ],
       "metadata": {},
       "output_type": "display_data",
       "text": [
        "<IPython.core.display.HTML object>"
       ]
      },
      {
       "output_type": "stream",
       "stream": "stdout",
       "text": [
        "  alpha=0, beta=0, sigma=1, rho=0\n"
       ]
      },
      {
       "html": [
        "<font size=3 color=black>$\\;\\; \\Gamma^1_{00} += $$\\frac{1}{2} g^{10}$$(\\partial_0 g_{00}$$+ \\partial_0 g_{00}$$- \\partial_0 g_{00})$</font>"
       ],
       "metadata": {},
       "output_type": "display_data",
       "text": [
        "<IPython.core.display.HTML object>"
       ]
      },
      {
       "html": [
        "<font size=3 color=black>$\\;\\; \\Gamma^1_{00} += $$\\frac{1}{2} (0) $$((0) + (0) - (0))$</font>"
       ],
       "metadata": {},
       "output_type": "display_data",
       "text": [
        "<IPython.core.display.HTML object>"
       ]
      },
      {
       "output_type": "stream",
       "stream": "stdout",
       "text": [
        "  alpha=0, beta=0, sigma=1, rho=1\n"
       ]
      },
      {
       "html": [
        "<font size=3 color=black>$\\;\\; \\Gamma^1_{00} += $$\\frac{1}{2} g^{11}$$(\\partial_0 g_{10}$$+ \\partial_0 g_{10}$$- \\partial_1 g_{00})$</font>"
       ],
       "metadata": {},
       "output_type": "display_data",
       "text": [
        "<IPython.core.display.HTML object>"
       ]
      },
      {
       "html": [
        "<font size=3 color=black>$\\;\\; \\Gamma^1_{00} += $$\\frac{1}{2} (1) $$((0) + (0) - (0))$</font>"
       ],
       "metadata": {},
       "output_type": "display_data",
       "text": [
        "<IPython.core.display.HTML object>"
       ]
      },
      {
       "html": [
        "<font size=3 color=black>$\\Gamma^1_{00} = 0$</font>"
       ],
       "metadata": {},
       "output_type": "display_data",
       "text": [
        "<IPython.core.display.HTML object>"
       ]
      },
      {
       "output_type": "stream",
       "stream": "stdout",
       "text": [
        "  alpha=0, beta=1, sigma=1, rho=0\n"
       ]
      },
      {
       "html": [
        "<font size=3 color=black>$\\;\\; \\Gamma^1_{01} += $$\\frac{1}{2} g^{10}$$(\\partial_1 g_{00}$$+ \\partial_0 g_{01}$$- \\partial_0 g_{01})$</font>"
       ],
       "metadata": {},
       "output_type": "display_data",
       "text": [
        "<IPython.core.display.HTML object>"
       ]
      },
      {
       "html": [
        "<font size=3 color=black>$\\;\\; \\Gamma^1_{01} += $$\\frac{1}{2} (0) $$((0) + (0) - (0))$</font>"
       ],
       "metadata": {},
       "output_type": "display_data",
       "text": [
        "<IPython.core.display.HTML object>"
       ]
      },
      {
       "output_type": "stream",
       "stream": "stdout",
       "text": [
        "  alpha=0, beta=1, sigma=1, rho=1\n"
       ]
      },
      {
       "html": [
        "<font size=3 color=black>$\\;\\; \\Gamma^1_{01} += $$\\frac{1}{2} g^{11}$$(\\partial_1 g_{10}$$+ \\partial_0 g_{11}$$- \\partial_1 g_{01})$</font>"
       ],
       "metadata": {},
       "output_type": "display_data",
       "text": [
        "<IPython.core.display.HTML object>"
       ]
      },
      {
       "html": [
        "<font size=3 color=black>$\\;\\; \\Gamma^1_{01} += $$\\frac{1}{2} (1) $$((0) + (0) - (0))$</font>"
       ],
       "metadata": {},
       "output_type": "display_data",
       "text": [
        "<IPython.core.display.HTML object>"
       ]
      },
      {
       "html": [
        "<font size=3 color=black>$\\Gamma^1_{01} = 0$</font>"
       ],
       "metadata": {},
       "output_type": "display_data",
       "text": [
        "<IPython.core.display.HTML object>"
       ]
      },
      {
       "output_type": "stream",
       "stream": "stdout",
       "text": [
        "  alpha=1, beta=0, sigma=1, rho=0\n"
       ]
      },
      {
       "html": [
        "<font size=3 color=black>$\\;\\; \\Gamma^1_{10} += $$\\frac{1}{2} g^{10}$$(\\partial_0 g_{01}$$+ \\partial_1 g_{00}$$- \\partial_0 g_{10})$</font>"
       ],
       "metadata": {},
       "output_type": "display_data",
       "text": [
        "<IPython.core.display.HTML object>"
       ]
      },
      {
       "html": [
        "<font size=3 color=black>$\\;\\; \\Gamma^1_{10} += $$\\frac{1}{2} (0) $$((0) + (0) - (0))$</font>"
       ],
       "metadata": {},
       "output_type": "display_data",
       "text": [
        "<IPython.core.display.HTML object>"
       ]
      },
      {
       "output_type": "stream",
       "stream": "stdout",
       "text": [
        "  alpha=1, beta=0, sigma=1, rho=1\n"
       ]
      },
      {
       "html": [
        "<font size=3 color=black>$\\;\\; \\Gamma^1_{10} += $$\\frac{1}{2} g^{11}$$(\\partial_0 g_{11}$$+ \\partial_1 g_{10}$$- \\partial_1 g_{10})$</font>"
       ],
       "metadata": {},
       "output_type": "display_data",
       "text": [
        "<IPython.core.display.HTML object>"
       ]
      },
      {
       "html": [
        "<font size=3 color=black>$\\;\\; \\Gamma^1_{10} += $$\\frac{1}{2} (1) $$((0) + (0) - (0))$</font>"
       ],
       "metadata": {},
       "output_type": "display_data",
       "text": [
        "<IPython.core.display.HTML object>"
       ]
      },
      {
       "html": [
        "<font size=3 color=black>$\\Gamma^1_{10} = 0$</font>"
       ],
       "metadata": {},
       "output_type": "display_data",
       "text": [
        "<IPython.core.display.HTML object>"
       ]
      },
      {
       "output_type": "stream",
       "stream": "stdout",
       "text": [
        "  alpha=1, beta=1, sigma=1, rho=0\n"
       ]
      },
      {
       "html": [
        "<font size=3 color=black>$\\;\\; \\Gamma^1_{11} += $$\\frac{1}{2} g^{10}$$(\\partial_1 g_{01}$$+ \\partial_1 g_{01}$$- \\partial_0 g_{11})$</font>"
       ],
       "metadata": {},
       "output_type": "display_data",
       "text": [
        "<IPython.core.display.HTML object>"
       ]
      },
      {
       "html": [
        "<font size=3 color=black>$\\;\\; \\Gamma^1_{11} += $$\\frac{1}{2} (0) $$((0) + (0) - (0))$</font>"
       ],
       "metadata": {},
       "output_type": "display_data",
       "text": [
        "<IPython.core.display.HTML object>"
       ]
      },
      {
       "output_type": "stream",
       "stream": "stdout",
       "text": [
        "  alpha=1, beta=1, sigma=1, rho=1\n"
       ]
      },
      {
       "html": [
        "<font size=3 color=black>$\\;\\; \\Gamma^1_{11} += $$\\frac{1}{2} g^{11}$$(\\partial_1 g_{11}$$+ \\partial_1 g_{11}$$- \\partial_1 g_{11})$</font>"
       ],
       "metadata": {},
       "output_type": "display_data",
       "text": [
        "<IPython.core.display.HTML object>"
       ]
      },
      {
       "html": [
        "<font size=3 color=black>$\\;\\; \\Gamma^1_{11} += $$\\frac{1}{2} (1) $$((0) + (0) - (0))$</font>"
       ],
       "metadata": {},
       "output_type": "display_data",
       "text": [
        "<IPython.core.display.HTML object>"
       ]
      },
      {
       "html": [
        "<font size=3 color=black>$\\Gamma^1_{11} = 0$</font>"
       ],
       "metadata": {},
       "output_type": "display_data",
       "text": [
        "<IPython.core.display.HTML object>"
       ]
      }
     ],
     "prompt_number": 57
    },
    {
     "cell_type": "code",
     "collapsed": false,
     "input": [
      "calculate_geodesic(X, Gamma, v=True)"
     ],
     "language": "python",
     "metadata": {},
     "outputs": [
      {
       "html": [
        "<font size=3 color=black>$\\ddot{x}^0 = $</font>"
       ],
       "metadata": {},
       "output_type": "display_data",
       "text": [
        "<IPython.core.display.HTML object>"
       ]
      },
      {
       "html": [
        "<font size=3 color=black>$\\;\\;\\;\\; -\\Gamma^x{}_{x x}\\,$$\\dot{x}^x\\dot{x}^x$$(0)\\,(\\frac{d}{d \\tau} x)\\,(\\frac{d}{d \\tau} x) = 0$</font>"
       ],
       "metadata": {},
       "output_type": "display_data",
       "text": [
        "<IPython.core.display.HTML object>"
       ]
      },
      {
       "html": [
        "<font size=3 color=black>$\\;\\;\\;\\; -\\Gamma^x{}_{x y}\\,$$\\dot{x}^x\\dot{x}^x$$(0)\\,(\\frac{d}{d \\tau} x)\\,(\\frac{d}{d \\tau} y) = 0$</font>"
       ],
       "metadata": {},
       "output_type": "display_data",
       "text": [
        "<IPython.core.display.HTML object>"
       ]
      },
      {
       "html": [
        "<font size=3 color=black>$\\;\\;\\;\\; -\\Gamma^x{}_{y x}\\,$$\\dot{x}^x\\dot{x}^y$$(0)\\,(\\frac{d}{d \\tau} y)\\,(\\frac{d}{d \\tau} x) = 0$</font>"
       ],
       "metadata": {},
       "output_type": "display_data",
       "text": [
        "<IPython.core.display.HTML object>"
       ]
      },
      {
       "html": [
        "<font size=3 color=black>$\\;\\;\\;\\; -\\Gamma^x{}_{y y}\\,$$\\dot{x}^x\\dot{x}^y$$(0)\\,(\\frac{d}{d \\tau} y)\\,(\\frac{d}{d \\tau} y) = 0$</font>"
       ],
       "metadata": {},
       "output_type": "display_data",
       "text": [
        "<IPython.core.display.HTML object>"
       ]
      },
      {
       "html": [
        "<font size=3 color=black>$\\ddot{x}^1 = $</font>"
       ],
       "metadata": {},
       "output_type": "display_data",
       "text": [
        "<IPython.core.display.HTML object>"
       ]
      },
      {
       "html": [
        "<font size=3 color=black>$\\;\\;\\;\\; -\\Gamma^y{}_{x x}\\,$$\\dot{x}^y\\dot{x}^x$$(0)\\,(\\frac{d}{d \\tau} x)\\,(\\frac{d}{d \\tau} x) = 0$</font>"
       ],
       "metadata": {},
       "output_type": "display_data",
       "text": [
        "<IPython.core.display.HTML object>"
       ]
      },
      {
       "html": [
        "<font size=3 color=black>$\\;\\;\\;\\; -\\Gamma^y{}_{x y}\\,$$\\dot{x}^y\\dot{x}^x$$(0)\\,(\\frac{d}{d \\tau} x)\\,(\\frac{d}{d \\tau} y) = 0$</font>"
       ],
       "metadata": {},
       "output_type": "display_data",
       "text": [
        "<IPython.core.display.HTML object>"
       ]
      },
      {
       "html": [
        "<font size=3 color=black>$\\;\\;\\;\\; -\\Gamma^y{}_{y x}\\,$$\\dot{x}^y\\dot{x}^y$$(0)\\,(\\frac{d}{d \\tau} y)\\,(\\frac{d}{d \\tau} x) = 0$</font>"
       ],
       "metadata": {},
       "output_type": "display_data",
       "text": [
        "<IPython.core.display.HTML object>"
       ]
      },
      {
       "html": [
        "<font size=3 color=black>$\\;\\;\\;\\; -\\Gamma^y{}_{y y}\\,$$\\dot{x}^y\\dot{x}^y$$(0)\\,(\\frac{d}{d \\tau} y)\\,(\\frac{d}{d \\tau} y) = 0$</font>"
       ],
       "metadata": {},
       "output_type": "display_data",
       "text": [
        "<IPython.core.display.HTML object>"
       ]
      },
      {
       "latex": [
        "$$\\begin{bmatrix}0, & 0\\end{bmatrix}$$"
       ],
       "metadata": {},
       "output_type": "pyout",
       "png": "[encoded data removed]",
       "prompt_number": 58,
       "text": [
        "[0, 0]"
       ]
      }
     ],
     "prompt_number": 58
    },
    {
     "cell_type": "markdown",
     "metadata": {},
     "source": [
      "<a name=2dpolar></a>\n",
      "<h2><a href=\"#top\">^</a> Example: 2D Polar Coordinates (flat space)</h2>\n",
      "<p>\n",
      "    See: <code>http://en.wikipedia.org/wiki/Metric_tensor</code>\n",
      "</p>"
     ]
    },
    {
     "cell_type": "code",
     "collapsed": false,
     "input": [
      "N = 2\n",
      "r = sy.Symbol('r')\n",
      "theta = sy.Symbol('theta')\n",
      "X = [r, theta]\n",
      "g = sy.Matrix([[1,0],[0,r**2]])\n",
      "g_inv = sy.Matrix(g).inv()\n",
      "g, g_inv"
     ],
     "language": "python",
     "metadata": {},
     "outputs": [
      {
       "latex": [
        "$$\\begin{pmatrix}\\left[\\begin{matrix}1 & 0\\\\0 & r^{2}\\end{matrix}\\right], & \\left[\\begin{matrix}1 & 0\\\\0 & \\frac{1}{r^{2}}\\end{matrix}\\right]\\end{pmatrix}$$"
       ],
       "metadata": {},
       "output_type": "pyout",
       "png": "[encoded data removed]",
       "prompt_number": 59,
       "text": [
        "\u239b\u23a11  0 \u23a4, \u23a11  0 \u23a4\u239e\n",
        "\u239c\u23a2     \u23a5  \u23a2     \u23a5\u239f\n",
        "\u239c\u23a2    2\u23a5  \u23a2   1 \u23a5\u239f\n",
        "\u239c\u23a30  r \u23a6  \u23a20  \u2500\u2500\u23a5\u239f\n",
        "\u239c         \u23a2    2\u23a5\u239f\n",
        "\u239d         \u23a3   r \u23a6\u23a0"
       ]
      }
     ],
     "prompt_number": 59
    },
    {
     "cell_type": "code",
     "collapsed": false,
     "input": [
      "U = [sy.Symbol('U_1'), sy.Symbol('U_2')]\n",
      "V = [sy.Symbol('V_1'), sy.Symbol('V_2')]\n",
      "inner_product(g, U, V)"
     ],
     "language": "python",
     "metadata": {},
     "outputs": [
      {
       "latex": [
        "$$U_{1} V_{1} + U_{2} V_{2} r^{2}$$"
       ],
       "metadata": {},
       "output_type": "pyout",
       "png": "[encoded data removed]",
       "prompt_number": 60,
       "text": [
        "               2\n",
        "U\u2081\u22c5V\u2081 + U\u2082\u22c5V\u2082\u22c5r "
       ]
      }
     ],
     "prompt_number": 60
    },
    {
     "cell_type": "code",
     "collapsed": false,
     "input": [
      "Gamma = calc_christoffel_symbol(X, g, v=True)\n",
      "Gamma"
     ],
     "language": "python",
     "metadata": {},
     "outputs": [
      {
       "html": [
        "<font size=3 color=black>Calculating: $ \\Gamma^\\sigma{}_{\\alpha\\beta} = \\frac{1}{2} g^{\\sigma\\rho}\\left( \\partial_\\beta g_{\\rho\\alpha} + \\partial_\\alpha g_{\\rho\\beta}- \\partial_\\rho g_{\\alpha\\beta}\\right)$</font>"
       ],
       "metadata": {},
       "output_type": "display_data",
       "text": [
        "<IPython.core.display.HTML object>"
       ]
      },
      {
       "output_type": "stream",
       "stream": "stdout",
       "text": [
        "  alpha=0, beta=0, sigma=0, rho=0\n"
       ]
      },
      {
       "html": [
        "<font size=3 color=black>$\\;\\; \\Gamma^0_{00} += $$\\frac{1}{2} g^{00}$$(\\partial_0 g_{00}$$+ \\partial_0 g_{00}$$- \\partial_0 g_{00})$</font>"
       ],
       "metadata": {},
       "output_type": "display_data",
       "text": [
        "<IPython.core.display.HTML object>"
       ]
      },
      {
       "html": [
        "<font size=3 color=black>$\\;\\; \\Gamma^0_{00} += $$\\frac{1}{2} (1) $$((0) + (0) - (0))$</font>"
       ],
       "metadata": {},
       "output_type": "display_data",
       "text": [
        "<IPython.core.display.HTML object>"
       ]
      },
      {
       "output_type": "stream",
       "stream": "stdout",
       "text": [
        "  alpha=0, beta=0, sigma=0, rho=1\n"
       ]
      },
      {
       "html": [
        "<font size=3 color=black>$\\;\\; \\Gamma^0_{00} += $$\\frac{1}{2} g^{01}$$(\\partial_0 g_{10}$$+ \\partial_0 g_{10}$$- \\partial_1 g_{00})$</font>"
       ],
       "metadata": {},
       "output_type": "display_data",
       "text": [
        "<IPython.core.display.HTML object>"
       ]
      },
      {
       "html": [
        "<font size=3 color=black>$\\;\\; \\Gamma^0_{00} += $$\\frac{1}{2} (0) $$((0) + (0) - (0))$</font>"
       ],
       "metadata": {},
       "output_type": "display_data",
       "text": [
        "<IPython.core.display.HTML object>"
       ]
      },
      {
       "html": [
        "<font size=3 color=black>$\\Gamma^0_{00} = 0$</font>"
       ],
       "metadata": {},
       "output_type": "display_data",
       "text": [
        "<IPython.core.display.HTML object>"
       ]
      },
      {
       "output_type": "stream",
       "stream": "stdout",
       "text": [
        "  alpha=0, beta=1, sigma=0, rho=0\n"
       ]
      },
      {
       "html": [
        "<font size=3 color=black>$\\;\\; \\Gamma^0_{01} += $$\\frac{1}{2} g^{00}$$(\\partial_1 g_{00}$$+ \\partial_0 g_{01}$$- \\partial_0 g_{01})$</font>"
       ],
       "metadata": {},
       "output_type": "display_data",
       "text": [
        "<IPython.core.display.HTML object>"
       ]
      },
      {
       "html": [
        "<font size=3 color=black>$\\;\\; \\Gamma^0_{01} += $$\\frac{1}{2} (1) $$((0) + (0) - (0))$</font>"
       ],
       "metadata": {},
       "output_type": "display_data",
       "text": [
        "<IPython.core.display.HTML object>"
       ]
      },
      {
       "output_type": "stream",
       "stream": "stdout",
       "text": [
        "  alpha=0, beta=1, sigma=0, rho=1\n"
       ]
      },
      {
       "html": [
        "<font size=3 color=black>$\\;\\; \\Gamma^0_{01} += $$\\frac{1}{2} g^{01}$$(\\partial_1 g_{10}$$+ \\partial_0 g_{11}$$- \\partial_1 g_{01})$</font>"
       ],
       "metadata": {},
       "output_type": "display_data",
       "text": [
        "<IPython.core.display.HTML object>"
       ]
      },
      {
       "html": [
        "<font size=3 color=black>$\\;\\; \\Gamma^0_{01} += $$\\frac{1}{2} (0) $$((0) + (2 r) - (0))$</font>"
       ],
       "metadata": {},
       "output_type": "display_data",
       "text": [
        "<IPython.core.display.HTML object>"
       ]
      },
      {
       "html": [
        "<font size=3 color=black>$\\Gamma^0_{01} = 0$</font>"
       ],
       "metadata": {},
       "output_type": "display_data",
       "text": [
        "<IPython.core.display.HTML object>"
       ]
      },
      {
       "output_type": "stream",
       "stream": "stdout",
       "text": [
        "  alpha=1, beta=0, sigma=0, rho=0\n"
       ]
      },
      {
       "html": [
        "<font size=3 color=black>$\\;\\; \\Gamma^0_{10} += $$\\frac{1}{2} g^{00}$$(\\partial_0 g_{01}$$+ \\partial_1 g_{00}$$- \\partial_0 g_{10})$</font>"
       ],
       "metadata": {},
       "output_type": "display_data",
       "text": [
        "<IPython.core.display.HTML object>"
       ]
      },
      {
       "html": [
        "<font size=3 color=black>$\\;\\; \\Gamma^0_{10} += $$\\frac{1}{2} (1) $$((0) + (0) - (0))$</font>"
       ],
       "metadata": {},
       "output_type": "display_data",
       "text": [
        "<IPython.core.display.HTML object>"
       ]
      },
      {
       "output_type": "stream",
       "stream": "stdout",
       "text": [
        "  alpha=1, beta=0, sigma=0, rho=1\n"
       ]
      },
      {
       "html": [
        "<font size=3 color=black>$\\;\\; \\Gamma^0_{10} += $$\\frac{1}{2} g^{01}$$(\\partial_0 g_{11}$$+ \\partial_1 g_{10}$$- \\partial_1 g_{10})$</font>"
       ],
       "metadata": {},
       "output_type": "display_data",
       "text": [
        "<IPython.core.display.HTML object>"
       ]
      },
      {
       "html": [
        "<font size=3 color=black>$\\;\\; \\Gamma^0_{10} += $$\\frac{1}{2} (0) $$((2 r) + (0) - (0))$</font>"
       ],
       "metadata": {},
       "output_type": "display_data",
       "text": [
        "<IPython.core.display.HTML object>"
       ]
      },
      {
       "html": [
        "<font size=3 color=black>$\\Gamma^0_{10} = 0$</font>"
       ],
       "metadata": {},
       "output_type": "display_data",
       "text": [
        "<IPython.core.display.HTML object>"
       ]
      },
      {
       "output_type": "stream",
       "stream": "stdout",
       "text": [
        "  alpha=1, beta=1, sigma=0, rho=0\n"
       ]
      },
      {
       "html": [
        "<font size=3 color=black>$\\;\\; \\Gamma^0_{11} += $$\\frac{1}{2} g^{00}$$(\\partial_1 g_{01}$$+ \\partial_1 g_{01}$$- \\partial_0 g_{11})$</font>"
       ],
       "metadata": {},
       "output_type": "display_data",
       "text": [
        "<IPython.core.display.HTML object>"
       ]
      },
      {
       "html": [
        "<font size=3 color=black>$\\;\\; \\Gamma^0_{11} += $$\\frac{1}{2} (1) $$((0) + (0) - (2 r))$</font>"
       ],
       "metadata": {},
       "output_type": "display_data",
       "text": [
        "<IPython.core.display.HTML object>"
       ]
      },
      {
       "output_type": "stream",
       "stream": "stdout",
       "text": [
        "  alpha=1, beta=1, sigma=0, rho=1\n"
       ]
      },
      {
       "html": [
        "<font size=3 color=black>$\\;\\; \\Gamma^0_{11} += $$\\frac{1}{2} g^{01}$$(\\partial_1 g_{11}$$+ \\partial_1 g_{11}$$- \\partial_1 g_{11})$</font>"
       ],
       "metadata": {},
       "output_type": "display_data",
       "text": [
        "<IPython.core.display.HTML object>"
       ]
      },
      {
       "html": [
        "<font size=3 color=black>$\\;\\; \\Gamma^0_{11} += $$\\frac{1}{2} (0) $$((0) + (0) - (0))$</font>"
       ],
       "metadata": {},
       "output_type": "display_data",
       "text": [
        "<IPython.core.display.HTML object>"
       ]
      },
      {
       "html": [
        "<font size=3 color=black>$\\Gamma^0_{11} = -r$</font>"
       ],
       "metadata": {},
       "output_type": "display_data",
       "text": [
        "<IPython.core.display.HTML object>"
       ]
      },
      {
       "output_type": "stream",
       "stream": "stdout",
       "text": [
        "  alpha=0, beta=0, sigma=1, rho=0\n"
       ]
      },
      {
       "html": [
        "<font size=3 color=black>$\\;\\; \\Gamma^1_{00} += $$\\frac{1}{2} g^{10}$$(\\partial_0 g_{00}$$+ \\partial_0 g_{00}$$- \\partial_0 g_{00})$</font>"
       ],
       "metadata": {},
       "output_type": "display_data",
       "text": [
        "<IPython.core.display.HTML object>"
       ]
      },
      {
       "html": [
        "<font size=3 color=black>$\\;\\; \\Gamma^1_{00} += $$\\frac{1}{2} (0) $$((0) + (0) - (0))$</font>"
       ],
       "metadata": {},
       "output_type": "display_data",
       "text": [
        "<IPython.core.display.HTML object>"
       ]
      },
      {
       "output_type": "stream",
       "stream": "stdout",
       "text": [
        "  alpha=0, beta=0, sigma=1, rho=1\n"
       ]
      },
      {
       "html": [
        "<font size=3 color=black>$\\;\\; \\Gamma^1_{00} += $$\\frac{1}{2} g^{11}$$(\\partial_0 g_{10}$$+ \\partial_0 g_{10}$$- \\partial_1 g_{00})$</font>"
       ],
       "metadata": {},
       "output_type": "display_data",
       "text": [
        "<IPython.core.display.HTML object>"
       ]
      },
      {
       "html": [
        "<font size=3 color=black>$\\;\\; \\Gamma^1_{00} += $$\\frac{1}{2} (\\frac{1}{r^{2}}) $$((0) + (0) - (0))$</font>"
       ],
       "metadata": {},
       "output_type": "display_data",
       "text": [
        "<IPython.core.display.HTML object>"
       ]
      },
      {
       "html": [
        "<font size=3 color=black>$\\Gamma^1_{00} = 0$</font>"
       ],
       "metadata": {},
       "output_type": "display_data",
       "text": [
        "<IPython.core.display.HTML object>"
       ]
      },
      {
       "output_type": "stream",
       "stream": "stdout",
       "text": [
        "  alpha=0, beta=1, sigma=1, rho=0\n"
       ]
      },
      {
       "html": [
        "<font size=3 color=black>$\\;\\; \\Gamma^1_{01} += $$\\frac{1}{2} g^{10}$$(\\partial_1 g_{00}$$+ \\partial_0 g_{01}$$- \\partial_0 g_{01})$</font>"
       ],
       "metadata": {},
       "output_type": "display_data",
       "text": [
        "<IPython.core.display.HTML object>"
       ]
      },
      {
       "html": [
        "<font size=3 color=black>$\\;\\; \\Gamma^1_{01} += $$\\frac{1}{2} (0) $$((0) + (0) - (0))$</font>"
       ],
       "metadata": {},
       "output_type": "display_data",
       "text": [
        "<IPython.core.display.HTML object>"
       ]
      },
      {
       "output_type": "stream",
       "stream": "stdout",
       "text": [
        "  alpha=0, beta=1, sigma=1, rho=1\n"
       ]
      },
      {
       "html": [
        "<font size=3 color=black>$\\;\\; \\Gamma^1_{01} += $$\\frac{1}{2} g^{11}$$(\\partial_1 g_{10}$$+ \\partial_0 g_{11}$$- \\partial_1 g_{01})$</font>"
       ],
       "metadata": {},
       "output_type": "display_data",
       "text": [
        "<IPython.core.display.HTML object>"
       ]
      },
      {
       "html": [
        "<font size=3 color=black>$\\;\\; \\Gamma^1_{01} += $$\\frac{1}{2} (\\frac{1}{r^{2}}) $$((0) + (2 r) - (0))$</font>"
       ],
       "metadata": {},
       "output_type": "display_data",
       "text": [
        "<IPython.core.display.HTML object>"
       ]
      },
      {
       "html": [
        "<font size=3 color=black>$\\Gamma^1_{01} = 1/r$</font>"
       ],
       "metadata": {},
       "output_type": "display_data",
       "text": [
        "<IPython.core.display.HTML object>"
       ]
      },
      {
       "output_type": "stream",
       "stream": "stdout",
       "text": [
        "  alpha=1, beta=0, sigma=1, rho=0\n"
       ]
      },
      {
       "html": [
        "<font size=3 color=black>$\\;\\; \\Gamma^1_{10} += $$\\frac{1}{2} g^{10}$$(\\partial_0 g_{01}$$+ \\partial_1 g_{00}$$- \\partial_0 g_{10})$</font>"
       ],
       "metadata": {},
       "output_type": "display_data",
       "text": [
        "<IPython.core.display.HTML object>"
       ]
      },
      {
       "html": [
        "<font size=3 color=black>$\\;\\; \\Gamma^1_{10} += $$\\frac{1}{2} (0) $$((0) + (0) - (0))$</font>"
       ],
       "metadata": {},
       "output_type": "display_data",
       "text": [
        "<IPython.core.display.HTML object>"
       ]
      },
      {
       "output_type": "stream",
       "stream": "stdout",
       "text": [
        "  alpha=1, beta=0, sigma=1, rho=1\n"
       ]
      },
      {
       "html": [
        "<font size=3 color=black>$\\;\\; \\Gamma^1_{10} += $$\\frac{1}{2} g^{11}$$(\\partial_0 g_{11}$$+ \\partial_1 g_{10}$$- \\partial_1 g_{10})$</font>"
       ],
       "metadata": {},
       "output_type": "display_data",
       "text": [
        "<IPython.core.display.HTML object>"
       ]
      },
      {
       "html": [
        "<font size=3 color=black>$\\;\\; \\Gamma^1_{10} += $$\\frac{1}{2} (\\frac{1}{r^{2}}) $$((2 r) + (0) - (0))$</font>"
       ],
       "metadata": {},
       "output_type": "display_data",
       "text": [
        "<IPython.core.display.HTML object>"
       ]
      },
      {
       "html": [
        "<font size=3 color=black>$\\Gamma^1_{10} = 1/r$</font>"
       ],
       "metadata": {},
       "output_type": "display_data",
       "text": [
        "<IPython.core.display.HTML object>"
       ]
      },
      {
       "output_type": "stream",
       "stream": "stdout",
       "text": [
        "  alpha=1, beta=1, sigma=1, rho=0\n"
       ]
      },
      {
       "html": [
        "<font size=3 color=black>$\\;\\; \\Gamma^1_{11} += $$\\frac{1}{2} g^{10}$$(\\partial_1 g_{01}$$+ \\partial_1 g_{01}$$- \\partial_0 g_{11})$</font>"
       ],
       "metadata": {},
       "output_type": "display_data",
       "text": [
        "<IPython.core.display.HTML object>"
       ]
      },
      {
       "html": [
        "<font size=3 color=black>$\\;\\; \\Gamma^1_{11} += $$\\frac{1}{2} (0) $$((0) + (0) - (2 r))$</font>"
       ],
       "metadata": {},
       "output_type": "display_data",
       "text": [
        "<IPython.core.display.HTML object>"
       ]
      },
      {
       "output_type": "stream",
       "stream": "stdout",
       "text": [
        "  alpha=1, beta=1, sigma=1, rho=1\n"
       ]
      },
      {
       "html": [
        "<font size=3 color=black>$\\;\\; \\Gamma^1_{11} += $$\\frac{1}{2} g^{11}$$(\\partial_1 g_{11}$$+ \\partial_1 g_{11}$$- \\partial_1 g_{11})$</font>"
       ],
       "metadata": {},
       "output_type": "display_data",
       "text": [
        "<IPython.core.display.HTML object>"
       ]
      },
      {
       "html": [
        "<font size=3 color=black>$\\;\\; \\Gamma^1_{11} += $$\\frac{1}{2} (\\frac{1}{r^{2}}) $$((0) + (0) - (0))$</font>"
       ],
       "metadata": {},
       "output_type": "display_data",
       "text": [
        "<IPython.core.display.HTML object>"
       ]
      },
      {
       "html": [
        "<font size=3 color=black>$\\Gamma^1_{11} = 0$</font>"
       ],
       "metadata": {},
       "output_type": "display_data",
       "text": [
        "<IPython.core.display.HTML object>"
       ]
      },
      {
       "latex": [
        "$$\\begin{bmatrix}\\begin{bmatrix}\\begin{bmatrix}0, & 0\\end{bmatrix}, & \\begin{bmatrix}0, & - r\\end{bmatrix}\\end{bmatrix}, & \\begin{bmatrix}\\begin{bmatrix}0, & \\frac{1}{r}\\end{bmatrix}, & \\begin{bmatrix}\\frac{1}{r}, & 0\\end{bmatrix}\\end{bmatrix}\\end{bmatrix}$$"
       ],
       "metadata": {},
       "output_type": "pyout",
       "png": "[encoded data removed]",
       "prompt_number": 61,
       "text": [
        "\u23a1                   \u23a1\u23a1   1\u23a4  \u23a11   \u23a4\u23a4\u23a4\n",
        "\u23a2[[0, 0], [0, -r]], \u23a2\u23a20, \u2500\u23a5, \u23a2\u2500, 0\u23a5\u23a5\u23a5\n",
        "\u23a3                   \u23a3\u23a3   r\u23a6  \u23a3r   \u23a6\u23a6\u23a6"
       ]
      }
     ],
     "prompt_number": 61
    },
    {
     "cell_type": "code",
     "collapsed": false,
     "input": [
      "riemann_tensor=calc_riemann_tensor(X, g, Gamma, v=True)\n",
      "Print(np.shape(riemann_tensor))\n",
      "riemann_tensor"
     ],
     "language": "python",
     "metadata": {},
     "outputs": [
      {
       "html": [
        "<font size=3 color=black>Calculating the Riemann Tensor, by the formula:</font>"
       ],
       "metadata": {},
       "output_type": "display_data",
       "text": [
        "<IPython.core.display.HTML object>"
       ]
      },
      {
       "html": [
        "<font size=3 color=black><font size=4>&nbsp; &nbsp;$R^{\\alpha}{}_{\\rho\\gamma\\beta} =\\ $$\\Gamma^{\\alpha}{}_{\\gamma\\sigma}\\,\\Gamma^{\\sigma}{}_{\\beta\\rho}$$\\;-\\;\\Gamma^{\\alpha}{}_{\\beta\\sigma}\\,\\Gamma^{\\sigma}{}_{\\gamma\\rho}$$\\;+\\;\\partial_{\\gamma} \\Gamma^{\\alpha}{}_{\\beta\\rho}$$\\;-\\;\\partial_{\\beta} \\Gamma^{\\alpha}{}_{\\gamma\\rho}$</font></font>"
       ],
       "metadata": {},
       "output_type": "display_data",
       "text": [
        "<IPython.core.display.HTML object>"
       ]
      },
      {
       "html": [
        "<font size=3 color=black>Doing $R^{\\alpha=0}_{\\rho=0, \\gamma=0, \\beta=0}$</font>"
       ],
       "metadata": {},
       "output_type": "display_data",
       "text": [
        "<IPython.core.display.HTML object>"
       ]
      },
      {
       "html": [
        "<font size=3 color=black>&nbsp; &nbsp; &nbsp; &nbsp;&nbsp; &nbsp; &nbsp; &nbsp;$\\sigma=0:\\;$$\\Gamma^{r}{}_{rr} \\Gamma^{r}{}_{rr} = 0$</font>"
       ],
       "metadata": {},
       "output_type": "display_data",
       "text": [
        "<IPython.core.display.HTML object>"
       ]
      },
      {
       "html": [
        "<font size=3 color=black>&nbsp; &nbsp; &nbsp; &nbsp;&nbsp; &nbsp; &nbsp; &nbsp;$\\sigma=1:\\;$$\\Gamma^{r}{}_{r\\theta} \\Gamma^{\\theta}{}_{rr} = 0$</font>"
       ],
       "metadata": {},
       "output_type": "display_data",
       "text": [
        "<IPython.core.display.HTML object>"
       ]
      },
      {
       "html": [
        "<font size=3 color=black>&nbsp; &nbsp; &nbsp; &nbsp;1st product = 0</font>"
       ],
       "metadata": {},
       "output_type": "display_data",
       "text": [
        "<IPython.core.display.HTML object>"
       ]
      },
      {
       "html": [
        "<font size=3 color=black>&nbsp; &nbsp; &nbsp; &nbsp;&nbsp; &nbsp; &nbsp; &nbsp;$\\sigma=0:\\;$$\\Gamma^{r}{}_{rr} \\Gamma^{r}{}_{rr} = 0$</font>"
       ],
       "metadata": {},
       "output_type": "display_data",
       "text": [
        "<IPython.core.display.HTML object>"
       ]
      },
      {
       "html": [
        "<font size=3 color=black>&nbsp; &nbsp; &nbsp; &nbsp;&nbsp; &nbsp; &nbsp; &nbsp;$\\sigma=1:\\;$$\\Gamma^{r}{}_{r\\theta} \\Gamma^{\\theta}{}_{rr} = 0$</font>"
       ],
       "metadata": {},
       "output_type": "display_data",
       "text": [
        "<IPython.core.display.HTML object>"
       ]
      },
      {
       "html": [
        "<font size=3 color=black>&nbsp; &nbsp; &nbsp; &nbsp;2nd product = 0</font>"
       ],
       "metadata": {},
       "output_type": "display_data",
       "text": [
        "<IPython.core.display.HTML object>"
       ]
      },
      {
       "html": [
        "<font size=3 color=black>&nbsp; &nbsp; &nbsp; &nbsp;$\\partial_{r} \\Gamma^{r}{}_{rr} = 0$</font>"
       ],
       "metadata": {},
       "output_type": "display_data",
       "text": [
        "<IPython.core.display.HTML object>"
       ]
      },
      {
       "html": [
        "<font size=3 color=black>&nbsp; &nbsp; &nbsp; &nbsp;$\\partial_{r} \\Gamma^{r}{}_{rr} = 0$</font>"
       ],
       "metadata": {},
       "output_type": "display_data",
       "text": [
        "<IPython.core.display.HTML object>"
       ]
      },
      {
       "html": [
        "<font size=3 color=black>$R^{r}{}_{rrr}$</font>"
       ],
       "metadata": {},
       "output_type": "display_data",
       "text": [
        "<IPython.core.display.HTML object>"
       ]
      },
      {
       "html": [
        "<font size=3 color=black>$ = (0)-(0)+(0)-(0)$</font>"
       ],
       "metadata": {},
       "output_type": "display_data",
       "text": [
        "<IPython.core.display.HTML object>"
       ]
      },
      {
       "html": [
        "<font size=3 color=black>$ = 0$</font>"
       ],
       "metadata": {},
       "output_type": "display_data",
       "text": [
        "<IPython.core.display.HTML object>"
       ]
      },
      {
       "output_type": "stream",
       "stream": "stdout",
       "text": [
        "\n"
       ]
      },
      {
       "html": [
        "<font size=3 color=black>Doing $R^{\\alpha=0}_{\\rho=0, \\gamma=0, \\beta=1}$</font>"
       ],
       "metadata": {},
       "output_type": "display_data",
       "text": [
        "<IPython.core.display.HTML object>"
       ]
      },
      {
       "html": [
        "<font size=3 color=black>&nbsp; &nbsp; &nbsp; &nbsp;&nbsp; &nbsp; &nbsp; &nbsp;$\\sigma=0:\\;$$\\Gamma^{r}{}_{rr} \\Gamma^{r}{}_{\\thetar} = 0$</font>"
       ],
       "metadata": {},
       "output_type": "display_data",
       "text": [
        "<IPython.core.display.HTML object>"
       ]
      },
      {
       "html": [
        "<font size=3 color=black>&nbsp; &nbsp; &nbsp; &nbsp;&nbsp; &nbsp; &nbsp; &nbsp;$\\sigma=1:\\;$$\\Gamma^{r}{}_{r\\theta} \\Gamma^{\\theta}{}_{\\thetar} = 0$</font>"
       ],
       "metadata": {},
       "output_type": "display_data",
       "text": [
        "<IPython.core.display.HTML object>"
       ]
      },
      {
       "html": [
        "<font size=3 color=black>&nbsp; &nbsp; &nbsp; &nbsp;1st product = 0</font>"
       ],
       "metadata": {},
       "output_type": "display_data",
       "text": [
        "<IPython.core.display.HTML object>"
       ]
      },
      {
       "html": [
        "<font size=3 color=black>&nbsp; &nbsp; &nbsp; &nbsp;&nbsp; &nbsp; &nbsp; &nbsp;$\\sigma=0:\\;$$\\Gamma^{r}{}_{\\thetar} \\Gamma^{r}{}_{rr} = 0$</font>"
       ],
       "metadata": {},
       "output_type": "display_data",
       "text": [
        "<IPython.core.display.HTML object>"
       ]
      },
      {
       "html": [
        "<font size=3 color=black>&nbsp; &nbsp; &nbsp; &nbsp;&nbsp; &nbsp; &nbsp; &nbsp;$\\sigma=1:\\;$$\\Gamma^{r}{}_{\\theta\\theta} \\Gamma^{\\theta}{}_{rr} = 0$</font>"
       ],
       "metadata": {},
       "output_type": "display_data",
       "text": [
        "<IPython.core.display.HTML object>"
       ]
      },
      {
       "html": [
        "<font size=3 color=black>&nbsp; &nbsp; &nbsp; &nbsp;2nd product = 0</font>"
       ],
       "metadata": {},
       "output_type": "display_data",
       "text": [
        "<IPython.core.display.HTML object>"
       ]
      },
      {
       "html": [
        "<font size=3 color=black>&nbsp; &nbsp; &nbsp; &nbsp;$\\partial_{r} \\Gamma^{r}{}_{\\thetar} = 0$</font>"
       ],
       "metadata": {},
       "output_type": "display_data",
       "text": [
        "<IPython.core.display.HTML object>"
       ]
      },
      {
       "html": [
        "<font size=3 color=black>&nbsp; &nbsp; &nbsp; &nbsp;$\\partial_{\\theta} \\Gamma^{r}{}_{rr} = 0$</font>"
       ],
       "metadata": {},
       "output_type": "display_data",
       "text": [
        "<IPython.core.display.HTML object>"
       ]
      },
      {
       "html": [
        "<font size=3 color=black>$R^{r}{}_{rr\\theta}$</font>"
       ],
       "metadata": {},
       "output_type": "display_data",
       "text": [
        "<IPython.core.display.HTML object>"
       ]
      },
      {
       "html": [
        "<font size=3 color=black>$ = (0)-(0)+(0)-(0)$</font>"
       ],
       "metadata": {},
       "output_type": "display_data",
       "text": [
        "<IPython.core.display.HTML object>"
       ]
      },
      {
       "html": [
        "<font size=3 color=black>$ = 0$</font>"
       ],
       "metadata": {},
       "output_type": "display_data",
       "text": [
        "<IPython.core.display.HTML object>"
       ]
      },
      {
       "output_type": "stream",
       "stream": "stdout",
       "text": [
        "\n"
       ]
      },
      {
       "html": [
        "<font size=3 color=black>Doing $R^{\\alpha=0}_{\\rho=0, \\gamma=1, \\beta=0}$</font>"
       ],
       "metadata": {},
       "output_type": "display_data",
       "text": [
        "<IPython.core.display.HTML object>"
       ]
      },
      {
       "html": [
        "<font size=3 color=black>&nbsp; &nbsp; &nbsp; &nbsp;&nbsp; &nbsp; &nbsp; &nbsp;$\\sigma=0:\\;$$\\Gamma^{r}{}_{\\thetar} \\Gamma^{r}{}_{rr} = 0$</font>"
       ],
       "metadata": {},
       "output_type": "display_data",
       "text": [
        "<IPython.core.display.HTML object>"
       ]
      },
      {
       "html": [
        "<font size=3 color=black>&nbsp; &nbsp; &nbsp; &nbsp;&nbsp; &nbsp; &nbsp; &nbsp;$\\sigma=1:\\;$$\\Gamma^{r}{}_{\\theta\\theta} \\Gamma^{\\theta}{}_{rr} = 0$</font>"
       ],
       "metadata": {},
       "output_type": "display_data",
       "text": [
        "<IPython.core.display.HTML object>"
       ]
      },
      {
       "html": [
        "<font size=3 color=black>&nbsp; &nbsp; &nbsp; &nbsp;1st product = 0</font>"
       ],
       "metadata": {},
       "output_type": "display_data",
       "text": [
        "<IPython.core.display.HTML object>"
       ]
      },
      {
       "html": [
        "<font size=3 color=black>&nbsp; &nbsp; &nbsp; &nbsp;&nbsp; &nbsp; &nbsp; &nbsp;$\\sigma=0:\\;$$\\Gamma^{r}{}_{rr} \\Gamma^{r}{}_{\\thetar} = 0$</font>"
       ],
       "metadata": {},
       "output_type": "display_data",
       "text": [
        "<IPython.core.display.HTML object>"
       ]
      },
      {
       "html": [
        "<font size=3 color=black>&nbsp; &nbsp; &nbsp; &nbsp;&nbsp; &nbsp; &nbsp; &nbsp;$\\sigma=1:\\;$$\\Gamma^{r}{}_{r\\theta} \\Gamma^{\\theta}{}_{\\thetar} = 0$</font>"
       ],
       "metadata": {},
       "output_type": "display_data",
       "text": [
        "<IPython.core.display.HTML object>"
       ]
      },
      {
       "html": [
        "<font size=3 color=black>&nbsp; &nbsp; &nbsp; &nbsp;2nd product = 0</font>"
       ],
       "metadata": {},
       "output_type": "display_data",
       "text": [
        "<IPython.core.display.HTML object>"
       ]
      },
      {
       "html": [
        "<font size=3 color=black>&nbsp; &nbsp; &nbsp; &nbsp;$\\partial_{\\theta} \\Gamma^{r}{}_{rr} = 0$</font>"
       ],
       "metadata": {},
       "output_type": "display_data",
       "text": [
        "<IPython.core.display.HTML object>"
       ]
      },
      {
       "html": [
        "<font size=3 color=black>&nbsp; &nbsp; &nbsp; &nbsp;$\\partial_{r} \\Gamma^{r}{}_{\\thetar} = 0$</font>"
       ],
       "metadata": {},
       "output_type": "display_data",
       "text": [
        "<IPython.core.display.HTML object>"
       ]
      },
      {
       "html": [
        "<font size=3 color=black>$R^{r}{}_{r\\thetar}$</font>"
       ],
       "metadata": {},
       "output_type": "display_data",
       "text": [
        "<IPython.core.display.HTML object>"
       ]
      },
      {
       "html": [
        "<font size=3 color=black>$ = (0)-(0)+(0)-(0)$</font>"
       ],
       "metadata": {},
       "output_type": "display_data",
       "text": [
        "<IPython.core.display.HTML object>"
       ]
      },
      {
       "html": [
        "<font size=3 color=black>$ = 0$</font>"
       ],
       "metadata": {},
       "output_type": "display_data",
       "text": [
        "<IPython.core.display.HTML object>"
       ]
      },
      {
       "output_type": "stream",
       "stream": "stdout",
       "text": [
        "\n"
       ]
      },
      {
       "html": [
        "<font size=3 color=black>Doing $R^{\\alpha=0}_{\\rho=0, \\gamma=1, \\beta=1}$</font>"
       ],
       "metadata": {},
       "output_type": "display_data",
       "text": [
        "<IPython.core.display.HTML object>"
       ]
      },
      {
       "html": [
        "<font size=3 color=black>&nbsp; &nbsp; &nbsp; &nbsp;&nbsp; &nbsp; &nbsp; &nbsp;$\\sigma=0:\\;$$\\Gamma^{r}{}_{\\thetar} \\Gamma^{r}{}_{\\thetar} = 0$</font>"
       ],
       "metadata": {},
       "output_type": "display_data",
       "text": [
        "<IPython.core.display.HTML object>"
       ]
      },
      {
       "html": [
        "<font size=3 color=black>&nbsp; &nbsp; &nbsp; &nbsp;&nbsp; &nbsp; &nbsp; &nbsp;$\\sigma=1:\\;$$\\Gamma^{r}{}_{\\theta\\theta} \\Gamma^{\\theta}{}_{\\thetar} = -1$</font>"
       ],
       "metadata": {},
       "output_type": "display_data",
       "text": [
        "<IPython.core.display.HTML object>"
       ]
      },
      {
       "html": [
        "<font size=3 color=black>&nbsp; &nbsp; &nbsp; &nbsp;1st product = -1</font>"
       ],
       "metadata": {},
       "output_type": "display_data",
       "text": [
        "<IPython.core.display.HTML object>"
       ]
      },
      {
       "html": [
        "<font size=3 color=black>&nbsp; &nbsp; &nbsp; &nbsp;&nbsp; &nbsp; &nbsp; &nbsp;$\\sigma=0:\\;$$\\Gamma^{r}{}_{\\thetar} \\Gamma^{r}{}_{\\thetar} = 0$</font>"
       ],
       "metadata": {},
       "output_type": "display_data",
       "text": [
        "<IPython.core.display.HTML object>"
       ]
      },
      {
       "html": [
        "<font size=3 color=black>&nbsp; &nbsp; &nbsp; &nbsp;&nbsp; &nbsp; &nbsp; &nbsp;$\\sigma=1:\\;$$\\Gamma^{r}{}_{\\theta\\theta} \\Gamma^{\\theta}{}_{\\thetar} = -1$</font>"
       ],
       "metadata": {},
       "output_type": "display_data",
       "text": [
        "<IPython.core.display.HTML object>"
       ]
      },
      {
       "html": [
        "<font size=3 color=black>&nbsp; &nbsp; &nbsp; &nbsp;2nd product = -1</font>"
       ],
       "metadata": {},
       "output_type": "display_data",
       "text": [
        "<IPython.core.display.HTML object>"
       ]
      },
      {
       "html": [
        "<font size=3 color=black>&nbsp; &nbsp; &nbsp; &nbsp;$\\partial_{\\theta} \\Gamma^{r}{}_{\\thetar} = 0$</font>"
       ],
       "metadata": {},
       "output_type": "display_data",
       "text": [
        "<IPython.core.display.HTML object>"
       ]
      },
      {
       "html": [
        "<font size=3 color=black>&nbsp; &nbsp; &nbsp; &nbsp;$\\partial_{\\theta} \\Gamma^{r}{}_{\\thetar} = 0$</font>"
       ],
       "metadata": {},
       "output_type": "display_data",
       "text": [
        "<IPython.core.display.HTML object>"
       ]
      },
      {
       "html": [
        "<font size=3 color=black>$R^{r}{}_{r\\theta\\theta}$</font>"
       ],
       "metadata": {},
       "output_type": "display_data",
       "text": [
        "<IPython.core.display.HTML object>"
       ]
      },
      {
       "html": [
        "<font size=3 color=black>$ = (-1)-(-1)+(0)-(0)$</font>"
       ],
       "metadata": {},
       "output_type": "display_data",
       "text": [
        "<IPython.core.display.HTML object>"
       ]
      },
      {
       "html": [
        "<font size=3 color=black>$ = 0$</font>"
       ],
       "metadata": {},
       "output_type": "display_data",
       "text": [
        "<IPython.core.display.HTML object>"
       ]
      },
      {
       "output_type": "stream",
       "stream": "stdout",
       "text": [
        "\n"
       ]
      },
      {
       "html": [
        "<font size=3 color=black>Doing $R^{\\alpha=0}_{\\rho=1, \\gamma=0, \\beta=0}$</font>"
       ],
       "metadata": {},
       "output_type": "display_data",
       "text": [
        "<IPython.core.display.HTML object>"
       ]
      },
      {
       "html": [
        "<font size=3 color=black>&nbsp; &nbsp; &nbsp; &nbsp;&nbsp; &nbsp; &nbsp; &nbsp;$\\sigma=0:\\;$$\\Gamma^{r}{}_{rr} \\Gamma^{r}{}_{r\\theta} = 0$</font>"
       ],
       "metadata": {},
       "output_type": "display_data",
       "text": [
        "<IPython.core.display.HTML object>"
       ]
      },
      {
       "html": [
        "<font size=3 color=black>&nbsp; &nbsp; &nbsp; &nbsp;&nbsp; &nbsp; &nbsp; &nbsp;$\\sigma=1:\\;$$\\Gamma^{r}{}_{r\\theta} \\Gamma^{\\theta}{}_{r\\theta} = 0$</font>"
       ],
       "metadata": {},
       "output_type": "display_data",
       "text": [
        "<IPython.core.display.HTML object>"
       ]
      },
      {
       "html": [
        "<font size=3 color=black>&nbsp; &nbsp; &nbsp; &nbsp;1st product = 0</font>"
       ],
       "metadata": {},
       "output_type": "display_data",
       "text": [
        "<IPython.core.display.HTML object>"
       ]
      },
      {
       "html": [
        "<font size=3 color=black>&nbsp; &nbsp; &nbsp; &nbsp;&nbsp; &nbsp; &nbsp; &nbsp;$\\sigma=0:\\;$$\\Gamma^{r}{}_{rr} \\Gamma^{r}{}_{r\\theta} = 0$</font>"
       ],
       "metadata": {},
       "output_type": "display_data",
       "text": [
        "<IPython.core.display.HTML object>"
       ]
      },
      {
       "html": [
        "<font size=3 color=black>&nbsp; &nbsp; &nbsp; &nbsp;&nbsp; &nbsp; &nbsp; &nbsp;$\\sigma=1:\\;$$\\Gamma^{r}{}_{r\\theta} \\Gamma^{\\theta}{}_{r\\theta} = 0$</font>"
       ],
       "metadata": {},
       "output_type": "display_data",
       "text": [
        "<IPython.core.display.HTML object>"
       ]
      },
      {
       "html": [
        "<font size=3 color=black>&nbsp; &nbsp; &nbsp; &nbsp;2nd product = 0</font>"
       ],
       "metadata": {},
       "output_type": "display_data",
       "text": [
        "<IPython.core.display.HTML object>"
       ]
      },
      {
       "html": [
        "<font size=3 color=black>&nbsp; &nbsp; &nbsp; &nbsp;$\\partial_{r} \\Gamma^{r}{}_{r\\theta} = 0$</font>"
       ],
       "metadata": {},
       "output_type": "display_data",
       "text": [
        "<IPython.core.display.HTML object>"
       ]
      },
      {
       "html": [
        "<font size=3 color=black>&nbsp; &nbsp; &nbsp; &nbsp;$\\partial_{r} \\Gamma^{r}{}_{r\\theta} = 0$</font>"
       ],
       "metadata": {},
       "output_type": "display_data",
       "text": [
        "<IPython.core.display.HTML object>"
       ]
      },
      {
       "html": [
        "<font size=3 color=black>$R^{r}{}_{\\thetarr}$</font>"
       ],
       "metadata": {},
       "output_type": "display_data",
       "text": [
        "<IPython.core.display.HTML object>"
       ]
      },
      {
       "html": [
        "<font size=3 color=black>$ = (0)-(0)+(0)-(0)$</font>"
       ],
       "metadata": {},
       "output_type": "display_data",
       "text": [
        "<IPython.core.display.HTML object>"
       ]
      },
      {
       "html": [
        "<font size=3 color=black>$ = 0$</font>"
       ],
       "metadata": {},
       "output_type": "display_data",
       "text": [
        "<IPython.core.display.HTML object>"
       ]
      },
      {
       "output_type": "stream",
       "stream": "stdout",
       "text": [
        "\n"
       ]
      },
      {
       "html": [
        "<font size=3 color=black>Doing $R^{\\alpha=0}_{\\rho=1, \\gamma=0, \\beta=1}$</font>"
       ],
       "metadata": {},
       "output_type": "display_data",
       "text": [
        "<IPython.core.display.HTML object>"
       ]
      },
      {
       "html": [
        "<font size=3 color=black>&nbsp; &nbsp; &nbsp; &nbsp;&nbsp; &nbsp; &nbsp; &nbsp;$\\sigma=0:\\;$$\\Gamma^{r}{}_{rr} \\Gamma^{r}{}_{\\theta\\theta} = 0$</font>"
       ],
       "metadata": {},
       "output_type": "display_data",
       "text": [
        "<IPython.core.display.HTML object>"
       ]
      },
      {
       "html": [
        "<font size=3 color=black>&nbsp; &nbsp; &nbsp; &nbsp;&nbsp; &nbsp; &nbsp; &nbsp;$\\sigma=1:\\;$$\\Gamma^{r}{}_{r\\theta} \\Gamma^{\\theta}{}_{\\theta\\theta} = 0$</font>"
       ],
       "metadata": {},
       "output_type": "display_data",
       "text": [
        "<IPython.core.display.HTML object>"
       ]
      },
      {
       "html": [
        "<font size=3 color=black>&nbsp; &nbsp; &nbsp; &nbsp;1st product = 0</font>"
       ],
       "metadata": {},
       "output_type": "display_data",
       "text": [
        "<IPython.core.display.HTML object>"
       ]
      },
      {
       "html": [
        "<font size=3 color=black>&nbsp; &nbsp; &nbsp; &nbsp;&nbsp; &nbsp; &nbsp; &nbsp;$\\sigma=0:\\;$$\\Gamma^{r}{}_{\\thetar} \\Gamma^{r}{}_{r\\theta} = 0$</font>"
       ],
       "metadata": {},
       "output_type": "display_data",
       "text": [
        "<IPython.core.display.HTML object>"
       ]
      },
      {
       "html": [
        "<font size=3 color=black>&nbsp; &nbsp; &nbsp; &nbsp;&nbsp; &nbsp; &nbsp; &nbsp;$\\sigma=1:\\;$$\\Gamma^{r}{}_{\\theta\\theta} \\Gamma^{\\theta}{}_{r\\theta} = -1$</font>"
       ],
       "metadata": {},
       "output_type": "display_data",
       "text": [
        "<IPython.core.display.HTML object>"
       ]
      },
      {
       "html": [
        "<font size=3 color=black>&nbsp; &nbsp; &nbsp; &nbsp;2nd product = -1</font>"
       ],
       "metadata": {},
       "output_type": "display_data",
       "text": [
        "<IPython.core.display.HTML object>"
       ]
      },
      {
       "html": [
        "<font size=3 color=black>&nbsp; &nbsp; &nbsp; &nbsp;$\\partial_{r} \\Gamma^{r}{}_{\\theta\\theta} = -1$</font>"
       ],
       "metadata": {},
       "output_type": "display_data",
       "text": [
        "<IPython.core.display.HTML object>"
       ]
      },
      {
       "html": [
        "<font size=3 color=black>&nbsp; &nbsp; &nbsp; &nbsp;$\\partial_{\\theta} \\Gamma^{r}{}_{r\\theta} = 0$</font>"
       ],
       "metadata": {},
       "output_type": "display_data",
       "text": [
        "<IPython.core.display.HTML object>"
       ]
      },
      {
       "html": [
        "<font size=3 color=black>$R^{r}{}_{\\thetar\\theta}$</font>"
       ],
       "metadata": {},
       "output_type": "display_data",
       "text": [
        "<IPython.core.display.HTML object>"
       ]
      },
      {
       "html": [
        "<font size=3 color=black>$ = (0)-(-1)+(-1)-(0)$</font>"
       ],
       "metadata": {},
       "output_type": "display_data",
       "text": [
        "<IPython.core.display.HTML object>"
       ]
      },
      {
       "html": [
        "<font size=3 color=black>$ = 0$</font>"
       ],
       "metadata": {},
       "output_type": "display_data",
       "text": [
        "<IPython.core.display.HTML object>"
       ]
      },
      {
       "output_type": "stream",
       "stream": "stdout",
       "text": [
        "\n"
       ]
      },
      {
       "html": [
        "<font size=3 color=black>Doing $R^{\\alpha=0}_{\\rho=1, \\gamma=1, \\beta=0}$</font>"
       ],
       "metadata": {},
       "output_type": "display_data",
       "text": [
        "<IPython.core.display.HTML object>"
       ]
      },
      {
       "html": [
        "<font size=3 color=black>&nbsp; &nbsp; &nbsp; &nbsp;&nbsp; &nbsp; &nbsp; &nbsp;$\\sigma=0:\\;$$\\Gamma^{r}{}_{\\thetar} \\Gamma^{r}{}_{r\\theta} = 0$</font>"
       ],
       "metadata": {},
       "output_type": "display_data",
       "text": [
        "<IPython.core.display.HTML object>"
       ]
      },
      {
       "html": [
        "<font size=3 color=black>&nbsp; &nbsp; &nbsp; &nbsp;&nbsp; &nbsp; &nbsp; &nbsp;$\\sigma=1:\\;$$\\Gamma^{r}{}_{\\theta\\theta} \\Gamma^{\\theta}{}_{r\\theta} = -1$</font>"
       ],
       "metadata": {},
       "output_type": "display_data",
       "text": [
        "<IPython.core.display.HTML object>"
       ]
      },
      {
       "html": [
        "<font size=3 color=black>&nbsp; &nbsp; &nbsp; &nbsp;1st product = -1</font>"
       ],
       "metadata": {},
       "output_type": "display_data",
       "text": [
        "<IPython.core.display.HTML object>"
       ]
      },
      {
       "html": [
        "<font size=3 color=black>&nbsp; &nbsp; &nbsp; &nbsp;&nbsp; &nbsp; &nbsp; &nbsp;$\\sigma=0:\\;$$\\Gamma^{r}{}_{rr} \\Gamma^{r}{}_{\\theta\\theta} = 0$</font>"
       ],
       "metadata": {},
       "output_type": "display_data",
       "text": [
        "<IPython.core.display.HTML object>"
       ]
      },
      {
       "html": [
        "<font size=3 color=black>&nbsp; &nbsp; &nbsp; &nbsp;&nbsp; &nbsp; &nbsp; &nbsp;$\\sigma=1:\\;$$\\Gamma^{r}{}_{r\\theta} \\Gamma^{\\theta}{}_{\\theta\\theta} = 0$</font>"
       ],
       "metadata": {},
       "output_type": "display_data",
       "text": [
        "<IPython.core.display.HTML object>"
       ]
      },
      {
       "html": [
        "<font size=3 color=black>&nbsp; &nbsp; &nbsp; &nbsp;2nd product = 0</font>"
       ],
       "metadata": {},
       "output_type": "display_data",
       "text": [
        "<IPython.core.display.HTML object>"
       ]
      },
      {
       "html": [
        "<font size=3 color=black>&nbsp; &nbsp; &nbsp; &nbsp;$\\partial_{\\theta} \\Gamma^{r}{}_{r\\theta} = 0$</font>"
       ],
       "metadata": {},
       "output_type": "display_data",
       "text": [
        "<IPython.core.display.HTML object>"
       ]
      },
      {
       "html": [
        "<font size=3 color=black>&nbsp; &nbsp; &nbsp; &nbsp;$\\partial_{r} \\Gamma^{r}{}_{\\theta\\theta} = -1$</font>"
       ],
       "metadata": {},
       "output_type": "display_data",
       "text": [
        "<IPython.core.display.HTML object>"
       ]
      },
      {
       "html": [
        "<font size=3 color=black>$R^{r}{}_{\\theta\\thetar}$</font>"
       ],
       "metadata": {},
       "output_type": "display_data",
       "text": [
        "<IPython.core.display.HTML object>"
       ]
      },
      {
       "html": [
        "<font size=3 color=black>$ = (-1)-(0)+(0)-(-1)$</font>"
       ],
       "metadata": {},
       "output_type": "display_data",
       "text": [
        "<IPython.core.display.HTML object>"
       ]
      },
      {
       "html": [
        "<font size=3 color=black>$ = 0$</font>"
       ],
       "metadata": {},
       "output_type": "display_data",
       "text": [
        "<IPython.core.display.HTML object>"
       ]
      },
      {
       "output_type": "stream",
       "stream": "stdout",
       "text": [
        "\n"
       ]
      },
      {
       "html": [
        "<font size=3 color=black>Doing $R^{\\alpha=0}_{\\rho=1, \\gamma=1, \\beta=1}$</font>"
       ],
       "metadata": {},
       "output_type": "display_data",
       "text": [
        "<IPython.core.display.HTML object>"
       ]
      },
      {
       "html": [
        "<font size=3 color=black>&nbsp; &nbsp; &nbsp; &nbsp;&nbsp; &nbsp; &nbsp; &nbsp;$\\sigma=0:\\;$$\\Gamma^{r}{}_{\\thetar} \\Gamma^{r}{}_{\\theta\\theta} = 0$</font>"
       ],
       "metadata": {},
       "output_type": "display_data",
       "text": [
        "<IPython.core.display.HTML object>"
       ]
      },
      {
       "html": [
        "<font size=3 color=black>&nbsp; &nbsp; &nbsp; &nbsp;&nbsp; &nbsp; &nbsp; &nbsp;$\\sigma=1:\\;$$\\Gamma^{r}{}_{\\theta\\theta} \\Gamma^{\\theta}{}_{\\theta\\theta} = 0$</font>"
       ],
       "metadata": {},
       "output_type": "display_data",
       "text": [
        "<IPython.core.display.HTML object>"
       ]
      },
      {
       "html": [
        "<font size=3 color=black>&nbsp; &nbsp; &nbsp; &nbsp;1st product = 0</font>"
       ],
       "metadata": {},
       "output_type": "display_data",
       "text": [
        "<IPython.core.display.HTML object>"
       ]
      },
      {
       "html": [
        "<font size=3 color=black>&nbsp; &nbsp; &nbsp; &nbsp;&nbsp; &nbsp; &nbsp; &nbsp;$\\sigma=0:\\;$$\\Gamma^{r}{}_{\\thetar} \\Gamma^{r}{}_{\\theta\\theta} = 0$</font>"
       ],
       "metadata": {},
       "output_type": "display_data",
       "text": [
        "<IPython.core.display.HTML object>"
       ]
      },
      {
       "html": [
        "<font size=3 color=black>&nbsp; &nbsp; &nbsp; &nbsp;&nbsp; &nbsp; &nbsp; &nbsp;$\\sigma=1:\\;$$\\Gamma^{r}{}_{\\theta\\theta} \\Gamma^{\\theta}{}_{\\theta\\theta} = 0$</font>"
       ],
       "metadata": {},
       "output_type": "display_data",
       "text": [
        "<IPython.core.display.HTML object>"
       ]
      },
      {
       "html": [
        "<font size=3 color=black>&nbsp; &nbsp; &nbsp; &nbsp;2nd product = 0</font>"
       ],
       "metadata": {},
       "output_type": "display_data",
       "text": [
        "<IPython.core.display.HTML object>"
       ]
      },
      {
       "html": [
        "<font size=3 color=black>&nbsp; &nbsp; &nbsp; &nbsp;$\\partial_{\\theta} \\Gamma^{r}{}_{\\theta\\theta} = 0$</font>"
       ],
       "metadata": {},
       "output_type": "display_data",
       "text": [
        "<IPython.core.display.HTML object>"
       ]
      },
      {
       "html": [
        "<font size=3 color=black>&nbsp; &nbsp; &nbsp; &nbsp;$\\partial_{\\theta} \\Gamma^{r}{}_{\\theta\\theta} = 0$</font>"
       ],
       "metadata": {},
       "output_type": "display_data",
       "text": [
        "<IPython.core.display.HTML object>"
       ]
      },
      {
       "html": [
        "<font size=3 color=black>$R^{r}{}_{\\theta\\theta\\theta}$</font>"
       ],
       "metadata": {},
       "output_type": "display_data",
       "text": [
        "<IPython.core.display.HTML object>"
       ]
      },
      {
       "html": [
        "<font size=3 color=black>$ = (0)-(0)+(0)-(0)$</font>"
       ],
       "metadata": {},
       "output_type": "display_data",
       "text": [
        "<IPython.core.display.HTML object>"
       ]
      },
      {
       "html": [
        "<font size=3 color=black>$ = 0$</font>"
       ],
       "metadata": {},
       "output_type": "display_data",
       "text": [
        "<IPython.core.display.HTML object>"
       ]
      },
      {
       "output_type": "stream",
       "stream": "stdout",
       "text": [
        "\n"
       ]
      },
      {
       "html": [
        "<font size=3 color=black>Doing $R^{\\alpha=1}_{\\rho=0, \\gamma=0, \\beta=0}$</font>"
       ],
       "metadata": {},
       "output_type": "display_data",
       "text": [
        "<IPython.core.display.HTML object>"
       ]
      },
      {
       "html": [
        "<font size=3 color=black>&nbsp; &nbsp; &nbsp; &nbsp;&nbsp; &nbsp; &nbsp; &nbsp;$\\sigma=0:\\;$$\\Gamma^{\\theta}{}_{rr} \\Gamma^{r}{}_{rr} = 0$</font>"
       ],
       "metadata": {},
       "output_type": "display_data",
       "text": [
        "<IPython.core.display.HTML object>"
       ]
      },
      {
       "html": [
        "<font size=3 color=black>&nbsp; &nbsp; &nbsp; &nbsp;&nbsp; &nbsp; &nbsp; &nbsp;$\\sigma=1:\\;$$\\Gamma^{\\theta}{}_{r\\theta} \\Gamma^{\\theta}{}_{rr} = 0$</font>"
       ],
       "metadata": {},
       "output_type": "display_data",
       "text": [
        "<IPython.core.display.HTML object>"
       ]
      },
      {
       "html": [
        "<font size=3 color=black>&nbsp; &nbsp; &nbsp; &nbsp;1st product = 0</font>"
       ],
       "metadata": {},
       "output_type": "display_data",
       "text": [
        "<IPython.core.display.HTML object>"
       ]
      },
      {
       "html": [
        "<font size=3 color=black>&nbsp; &nbsp; &nbsp; &nbsp;&nbsp; &nbsp; &nbsp; &nbsp;$\\sigma=0:\\;$$\\Gamma^{\\theta}{}_{rr} \\Gamma^{r}{}_{rr} = 0$</font>"
       ],
       "metadata": {},
       "output_type": "display_data",
       "text": [
        "<IPython.core.display.HTML object>"
       ]
      },
      {
       "html": [
        "<font size=3 color=black>&nbsp; &nbsp; &nbsp; &nbsp;&nbsp; &nbsp; &nbsp; &nbsp;$\\sigma=1:\\;$$\\Gamma^{\\theta}{}_{r\\theta} \\Gamma^{\\theta}{}_{rr} = 0$</font>"
       ],
       "metadata": {},
       "output_type": "display_data",
       "text": [
        "<IPython.core.display.HTML object>"
       ]
      },
      {
       "html": [
        "<font size=3 color=black>&nbsp; &nbsp; &nbsp; &nbsp;2nd product = 0</font>"
       ],
       "metadata": {},
       "output_type": "display_data",
       "text": [
        "<IPython.core.display.HTML object>"
       ]
      },
      {
       "html": [
        "<font size=3 color=black>&nbsp; &nbsp; &nbsp; &nbsp;$\\partial_{r} \\Gamma^{\\theta}{}_{rr} = 0$</font>"
       ],
       "metadata": {},
       "output_type": "display_data",
       "text": [
        "<IPython.core.display.HTML object>"
       ]
      },
      {
       "html": [
        "<font size=3 color=black>&nbsp; &nbsp; &nbsp; &nbsp;$\\partial_{r} \\Gamma^{\\theta}{}_{rr} = 0$</font>"
       ],
       "metadata": {},
       "output_type": "display_data",
       "text": [
        "<IPython.core.display.HTML object>"
       ]
      },
      {
       "html": [
        "<font size=3 color=black>$R^{\\theta}{}_{rrr}$</font>"
       ],
       "metadata": {},
       "output_type": "display_data",
       "text": [
        "<IPython.core.display.HTML object>"
       ]
      },
      {
       "html": [
        "<font size=3 color=black>$ = (0)-(0)+(0)-(0)$</font>"
       ],
       "metadata": {},
       "output_type": "display_data",
       "text": [
        "<IPython.core.display.HTML object>"
       ]
      },
      {
       "html": [
        "<font size=3 color=black>$ = 0$</font>"
       ],
       "metadata": {},
       "output_type": "display_data",
       "text": [
        "<IPython.core.display.HTML object>"
       ]
      },
      {
       "output_type": "stream",
       "stream": "stdout",
       "text": [
        "\n"
       ]
      },
      {
       "html": [
        "<font size=3 color=black>Doing $R^{\\alpha=1}_{\\rho=0, \\gamma=0, \\beta=1}$</font>"
       ],
       "metadata": {},
       "output_type": "display_data",
       "text": [
        "<IPython.core.display.HTML object>"
       ]
      },
      {
       "html": [
        "<font size=3 color=black>&nbsp; &nbsp; &nbsp; &nbsp;&nbsp; &nbsp; &nbsp; &nbsp;$\\sigma=0:\\;$$\\Gamma^{\\theta}{}_{rr} \\Gamma^{r}{}_{\\thetar} = 0$</font>"
       ],
       "metadata": {},
       "output_type": "display_data",
       "text": [
        "<IPython.core.display.HTML object>"
       ]
      },
      {
       "html": [
        "<font size=3 color=black>&nbsp; &nbsp; &nbsp; &nbsp;&nbsp; &nbsp; &nbsp; &nbsp;$\\sigma=1:\\;$$\\Gamma^{\\theta}{}_{r\\theta} \\Gamma^{\\theta}{}_{\\thetar} = \\frac{1}{r^{2}}$</font>"
       ],
       "metadata": {},
       "output_type": "display_data",
       "text": [
        "<IPython.core.display.HTML object>"
       ]
      },
      {
       "html": [
        "<font size=3 color=black>&nbsp; &nbsp; &nbsp; &nbsp;1st product = r**(-2)</font>"
       ],
       "metadata": {},
       "output_type": "display_data",
       "text": [
        "<IPython.core.display.HTML object>"
       ]
      },
      {
       "html": [
        "<font size=3 color=black>&nbsp; &nbsp; &nbsp; &nbsp;&nbsp; &nbsp; &nbsp; &nbsp;$\\sigma=0:\\;$$\\Gamma^{\\theta}{}_{\\thetar} \\Gamma^{r}{}_{rr} = 0$</font>"
       ],
       "metadata": {},
       "output_type": "display_data",
       "text": [
        "<IPython.core.display.HTML object>"
       ]
      },
      {
       "html": [
        "<font size=3 color=black>&nbsp; &nbsp; &nbsp; &nbsp;&nbsp; &nbsp; &nbsp; &nbsp;$\\sigma=1:\\;$$\\Gamma^{\\theta}{}_{\\theta\\theta} \\Gamma^{\\theta}{}_{rr} = 0$</font>"
       ],
       "metadata": {},
       "output_type": "display_data",
       "text": [
        "<IPython.core.display.HTML object>"
       ]
      },
      {
       "html": [
        "<font size=3 color=black>&nbsp; &nbsp; &nbsp; &nbsp;2nd product = 0</font>"
       ],
       "metadata": {},
       "output_type": "display_data",
       "text": [
        "<IPython.core.display.HTML object>"
       ]
      },
      {
       "html": [
        "<font size=3 color=black>&nbsp; &nbsp; &nbsp; &nbsp;$\\partial_{r} \\Gamma^{\\theta}{}_{\\thetar} = - \\frac{1}{r^{2}}$</font>"
       ],
       "metadata": {},
       "output_type": "display_data",
       "text": [
        "<IPython.core.display.HTML object>"
       ]
      },
      {
       "html": [
        "<font size=3 color=black>&nbsp; &nbsp; &nbsp; &nbsp;$\\partial_{\\theta} \\Gamma^{\\theta}{}_{rr} = 0$</font>"
       ],
       "metadata": {},
       "output_type": "display_data",
       "text": [
        "<IPython.core.display.HTML object>"
       ]
      },
      {
       "html": [
        "<font size=3 color=black>$R^{\\theta}{}_{rr\\theta}$</font>"
       ],
       "metadata": {},
       "output_type": "display_data",
       "text": [
        "<IPython.core.display.HTML object>"
       ]
      },
      {
       "html": [
        "<font size=3 color=black>$ = (\\frac{1}{r^{2}})-(0)+(- \\frac{1}{r^{2}})-(0)$</font>"
       ],
       "metadata": {},
       "output_type": "display_data",
       "text": [
        "<IPython.core.display.HTML object>"
       ]
      },
      {
       "html": [
        "<font size=3 color=black>$ = 0$</font>"
       ],
       "metadata": {},
       "output_type": "display_data",
       "text": [
        "<IPython.core.display.HTML object>"
       ]
      },
      {
       "output_type": "stream",
       "stream": "stdout",
       "text": [
        "\n"
       ]
      },
      {
       "html": [
        "<font size=3 color=black>Doing $R^{\\alpha=1}_{\\rho=0, \\gamma=1, \\beta=0}$</font>"
       ],
       "metadata": {},
       "output_type": "display_data",
       "text": [
        "<IPython.core.display.HTML object>"
       ]
      },
      {
       "html": [
        "<font size=3 color=black>&nbsp; &nbsp; &nbsp; &nbsp;&nbsp; &nbsp; &nbsp; &nbsp;$\\sigma=0:\\;$$\\Gamma^{\\theta}{}_{\\thetar} \\Gamma^{r}{}_{rr} = 0$</font>"
       ],
       "metadata": {},
       "output_type": "display_data",
       "text": [
        "<IPython.core.display.HTML object>"
       ]
      },
      {
       "html": [
        "<font size=3 color=black>&nbsp; &nbsp; &nbsp; &nbsp;&nbsp; &nbsp; &nbsp; &nbsp;$\\sigma=1:\\;$$\\Gamma^{\\theta}{}_{\\theta\\theta} \\Gamma^{\\theta}{}_{rr} = 0$</font>"
       ],
       "metadata": {},
       "output_type": "display_data",
       "text": [
        "<IPython.core.display.HTML object>"
       ]
      },
      {
       "html": [
        "<font size=3 color=black>&nbsp; &nbsp; &nbsp; &nbsp;1st product = 0</font>"
       ],
       "metadata": {},
       "output_type": "display_data",
       "text": [
        "<IPython.core.display.HTML object>"
       ]
      },
      {
       "html": [
        "<font size=3 color=black>&nbsp; &nbsp; &nbsp; &nbsp;&nbsp; &nbsp; &nbsp; &nbsp;$\\sigma=0:\\;$$\\Gamma^{\\theta}{}_{rr} \\Gamma^{r}{}_{\\thetar} = 0$</font>"
       ],
       "metadata": {},
       "output_type": "display_data",
       "text": [
        "<IPython.core.display.HTML object>"
       ]
      },
      {
       "html": [
        "<font size=3 color=black>&nbsp; &nbsp; &nbsp; &nbsp;&nbsp; &nbsp; &nbsp; &nbsp;$\\sigma=1:\\;$$\\Gamma^{\\theta}{}_{r\\theta} \\Gamma^{\\theta}{}_{\\thetar} = \\frac{1}{r^{2}}$</font>"
       ],
       "metadata": {},
       "output_type": "display_data",
       "text": [
        "<IPython.core.display.HTML object>"
       ]
      },
      {
       "html": [
        "<font size=3 color=black>&nbsp; &nbsp; &nbsp; &nbsp;2nd product = r**(-2)</font>"
       ],
       "metadata": {},
       "output_type": "display_data",
       "text": [
        "<IPython.core.display.HTML object>"
       ]
      },
      {
       "html": [
        "<font size=3 color=black>&nbsp; &nbsp; &nbsp; &nbsp;$\\partial_{\\theta} \\Gamma^{\\theta}{}_{rr} = 0$</font>"
       ],
       "metadata": {},
       "output_type": "display_data",
       "text": [
        "<IPython.core.display.HTML object>"
       ]
      },
      {
       "html": [
        "<font size=3 color=black>&nbsp; &nbsp; &nbsp; &nbsp;$\\partial_{r} \\Gamma^{\\theta}{}_{\\thetar} = - \\frac{1}{r^{2}}$</font>"
       ],
       "metadata": {},
       "output_type": "display_data",
       "text": [
        "<IPython.core.display.HTML object>"
       ]
      },
      {
       "html": [
        "<font size=3 color=black>$R^{\\theta}{}_{r\\thetar}$</font>"
       ],
       "metadata": {},
       "output_type": "display_data",
       "text": [
        "<IPython.core.display.HTML object>"
       ]
      },
      {
       "html": [
        "<font size=3 color=black>$ = (0)-(\\frac{1}{r^{2}})+(0)-(- \\frac{1}{r^{2}})$</font>"
       ],
       "metadata": {},
       "output_type": "display_data",
       "text": [
        "<IPython.core.display.HTML object>"
       ]
      },
      {
       "html": [
        "<font size=3 color=black>$ = 0$</font>"
       ],
       "metadata": {},
       "output_type": "display_data",
       "text": [
        "<IPython.core.display.HTML object>"
       ]
      },
      {
       "output_type": "stream",
       "stream": "stdout",
       "text": [
        "\n"
       ]
      },
      {
       "html": [
        "<font size=3 color=black>Doing $R^{\\alpha=1}_{\\rho=0, \\gamma=1, \\beta=1}$</font>"
       ],
       "metadata": {},
       "output_type": "display_data",
       "text": [
        "<IPython.core.display.HTML object>"
       ]
      },
      {
       "html": [
        "<font size=3 color=black>&nbsp; &nbsp; &nbsp; &nbsp;&nbsp; &nbsp; &nbsp; &nbsp;$\\sigma=0:\\;$$\\Gamma^{\\theta}{}_{\\thetar} \\Gamma^{r}{}_{\\thetar} = 0$</font>"
       ],
       "metadata": {},
       "output_type": "display_data",
       "text": [
        "<IPython.core.display.HTML object>"
       ]
      },
      {
       "html": [
        "<font size=3 color=black>&nbsp; &nbsp; &nbsp; &nbsp;&nbsp; &nbsp; &nbsp; &nbsp;$\\sigma=1:\\;$$\\Gamma^{\\theta}{}_{\\theta\\theta} \\Gamma^{\\theta}{}_{\\thetar} = 0$</font>"
       ],
       "metadata": {},
       "output_type": "display_data",
       "text": [
        "<IPython.core.display.HTML object>"
       ]
      },
      {
       "html": [
        "<font size=3 color=black>&nbsp; &nbsp; &nbsp; &nbsp;1st product = 0</font>"
       ],
       "metadata": {},
       "output_type": "display_data",
       "text": [
        "<IPython.core.display.HTML object>"
       ]
      },
      {
       "html": [
        "<font size=3 color=black>&nbsp; &nbsp; &nbsp; &nbsp;&nbsp; &nbsp; &nbsp; &nbsp;$\\sigma=0:\\;$$\\Gamma^{\\theta}{}_{\\thetar} \\Gamma^{r}{}_{\\thetar} = 0$</font>"
       ],
       "metadata": {},
       "output_type": "display_data",
       "text": [
        "<IPython.core.display.HTML object>"
       ]
      },
      {
       "html": [
        "<font size=3 color=black>&nbsp; &nbsp; &nbsp; &nbsp;&nbsp; &nbsp; &nbsp; &nbsp;$\\sigma=1:\\;$$\\Gamma^{\\theta}{}_{\\theta\\theta} \\Gamma^{\\theta}{}_{\\thetar} = 0$</font>"
       ],
       "metadata": {},
       "output_type": "display_data",
       "text": [
        "<IPython.core.display.HTML object>"
       ]
      },
      {
       "html": [
        "<font size=3 color=black>&nbsp; &nbsp; &nbsp; &nbsp;2nd product = 0</font>"
       ],
       "metadata": {},
       "output_type": "display_data",
       "text": [
        "<IPython.core.display.HTML object>"
       ]
      },
      {
       "html": [
        "<font size=3 color=black>&nbsp; &nbsp; &nbsp; &nbsp;$\\partial_{\\theta} \\Gamma^{\\theta}{}_{\\thetar} = 0$</font>"
       ],
       "metadata": {},
       "output_type": "display_data",
       "text": [
        "<IPython.core.display.HTML object>"
       ]
      },
      {
       "html": [
        "<font size=3 color=black>&nbsp; &nbsp; &nbsp; &nbsp;$\\partial_{\\theta} \\Gamma^{\\theta}{}_{\\thetar} = 0$</font>"
       ],
       "metadata": {},
       "output_type": "display_data",
       "text": [
        "<IPython.core.display.HTML object>"
       ]
      },
      {
       "html": [
        "<font size=3 color=black>$R^{\\theta}{}_{r\\theta\\theta}$</font>"
       ],
       "metadata": {},
       "output_type": "display_data",
       "text": [
        "<IPython.core.display.HTML object>"
       ]
      },
      {
       "html": [
        "<font size=3 color=black>$ = (0)-(0)+(0)-(0)$</font>"
       ],
       "metadata": {},
       "output_type": "display_data",
       "text": [
        "<IPython.core.display.HTML object>"
       ]
      },
      {
       "html": [
        "<font size=3 color=black>$ = 0$</font>"
       ],
       "metadata": {},
       "output_type": "display_data",
       "text": [
        "<IPython.core.display.HTML object>"
       ]
      },
      {
       "output_type": "stream",
       "stream": "stdout",
       "text": [
        "\n"
       ]
      },
      {
       "html": [
        "<font size=3 color=black>Doing $R^{\\alpha=1}_{\\rho=1, \\gamma=0, \\beta=0}$</font>"
       ],
       "metadata": {},
       "output_type": "display_data",
       "text": [
        "<IPython.core.display.HTML object>"
       ]
      },
      {
       "html": [
        "<font size=3 color=black>&nbsp; &nbsp; &nbsp; &nbsp;&nbsp; &nbsp; &nbsp; &nbsp;$\\sigma=0:\\;$$\\Gamma^{\\theta}{}_{rr} \\Gamma^{r}{}_{r\\theta} = 0$</font>"
       ],
       "metadata": {},
       "output_type": "display_data",
       "text": [
        "<IPython.core.display.HTML object>"
       ]
      },
      {
       "html": [
        "<font size=3 color=black>&nbsp; &nbsp; &nbsp; &nbsp;&nbsp; &nbsp; &nbsp; &nbsp;$\\sigma=1:\\;$$\\Gamma^{\\theta}{}_{r\\theta} \\Gamma^{\\theta}{}_{r\\theta} = \\frac{1}{r^{2}}$</font>"
       ],
       "metadata": {},
       "output_type": "display_data",
       "text": [
        "<IPython.core.display.HTML object>"
       ]
      },
      {
       "html": [
        "<font size=3 color=black>&nbsp; &nbsp; &nbsp; &nbsp;1st product = r**(-2)</font>"
       ],
       "metadata": {},
       "output_type": "display_data",
       "text": [
        "<IPython.core.display.HTML object>"
       ]
      },
      {
       "html": [
        "<font size=3 color=black>&nbsp; &nbsp; &nbsp; &nbsp;&nbsp; &nbsp; &nbsp; &nbsp;$\\sigma=0:\\;$$\\Gamma^{\\theta}{}_{rr} \\Gamma^{r}{}_{r\\theta} = 0$</font>"
       ],
       "metadata": {},
       "output_type": "display_data",
       "text": [
        "<IPython.core.display.HTML object>"
       ]
      },
      {
       "html": [
        "<font size=3 color=black>&nbsp; &nbsp; &nbsp; &nbsp;&nbsp; &nbsp; &nbsp; &nbsp;$\\sigma=1:\\;$$\\Gamma^{\\theta}{}_{r\\theta} \\Gamma^{\\theta}{}_{r\\theta} = \\frac{1}{r^{2}}$</font>"
       ],
       "metadata": {},
       "output_type": "display_data",
       "text": [
        "<IPython.core.display.HTML object>"
       ]
      },
      {
       "html": [
        "<font size=3 color=black>&nbsp; &nbsp; &nbsp; &nbsp;2nd product = r**(-2)</font>"
       ],
       "metadata": {},
       "output_type": "display_data",
       "text": [
        "<IPython.core.display.HTML object>"
       ]
      },
      {
       "html": [
        "<font size=3 color=black>&nbsp; &nbsp; &nbsp; &nbsp;$\\partial_{r} \\Gamma^{\\theta}{}_{r\\theta} = - \\frac{1}{r^{2}}$</font>"
       ],
       "metadata": {},
       "output_type": "display_data",
       "text": [
        "<IPython.core.display.HTML object>"
       ]
      },
      {
       "html": [
        "<font size=3 color=black>&nbsp; &nbsp; &nbsp; &nbsp;$\\partial_{r} \\Gamma^{\\theta}{}_{r\\theta} = - \\frac{1}{r^{2}}$</font>"
       ],
       "metadata": {},
       "output_type": "display_data",
       "text": [
        "<IPython.core.display.HTML object>"
       ]
      },
      {
       "html": [
        "<font size=3 color=black>$R^{\\theta}{}_{\\thetarr}$</font>"
       ],
       "metadata": {},
       "output_type": "display_data",
       "text": [
        "<IPython.core.display.HTML object>"
       ]
      },
      {
       "html": [
        "<font size=3 color=black>$ = (\\frac{1}{r^{2}})-(\\frac{1}{r^{2}})+(- \\frac{1}{r^{2}})-(- \\frac{1}{r^{2}})$</font>"
       ],
       "metadata": {},
       "output_type": "display_data",
       "text": [
        "<IPython.core.display.HTML object>"
       ]
      },
      {
       "html": [
        "<font size=3 color=black>$ = 0$</font>"
       ],
       "metadata": {},
       "output_type": "display_data",
       "text": [
        "<IPython.core.display.HTML object>"
       ]
      },
      {
       "output_type": "stream",
       "stream": "stdout",
       "text": [
        "\n"
       ]
      },
      {
       "html": [
        "<font size=3 color=black>Doing $R^{\\alpha=1}_{\\rho=1, \\gamma=0, \\beta=1}$</font>"
       ],
       "metadata": {},
       "output_type": "display_data",
       "text": [
        "<IPython.core.display.HTML object>"
       ]
      },
      {
       "html": [
        "<font size=3 color=black>&nbsp; &nbsp; &nbsp; &nbsp;&nbsp; &nbsp; &nbsp; &nbsp;$\\sigma=0:\\;$$\\Gamma^{\\theta}{}_{rr} \\Gamma^{r}{}_{\\theta\\theta} = 0$</font>"
       ],
       "metadata": {},
       "output_type": "display_data",
       "text": [
        "<IPython.core.display.HTML object>"
       ]
      },
      {
       "html": [
        "<font size=3 color=black>&nbsp; &nbsp; &nbsp; &nbsp;&nbsp; &nbsp; &nbsp; &nbsp;$\\sigma=1:\\;$$\\Gamma^{\\theta}{}_{r\\theta} \\Gamma^{\\theta}{}_{\\theta\\theta} = 0$</font>"
       ],
       "metadata": {},
       "output_type": "display_data",
       "text": [
        "<IPython.core.display.HTML object>"
       ]
      },
      {
       "html": [
        "<font size=3 color=black>&nbsp; &nbsp; &nbsp; &nbsp;1st product = 0</font>"
       ],
       "metadata": {},
       "output_type": "display_data",
       "text": [
        "<IPython.core.display.HTML object>"
       ]
      },
      {
       "html": [
        "<font size=3 color=black>&nbsp; &nbsp; &nbsp; &nbsp;&nbsp; &nbsp; &nbsp; &nbsp;$\\sigma=0:\\;$$\\Gamma^{\\theta}{}_{\\thetar} \\Gamma^{r}{}_{r\\theta} = 0$</font>"
       ],
       "metadata": {},
       "output_type": "display_data",
       "text": [
        "<IPython.core.display.HTML object>"
       ]
      },
      {
       "html": [
        "<font size=3 color=black>&nbsp; &nbsp; &nbsp; &nbsp;&nbsp; &nbsp; &nbsp; &nbsp;$\\sigma=1:\\;$$\\Gamma^{\\theta}{}_{\\theta\\theta} \\Gamma^{\\theta}{}_{r\\theta} = 0$</font>"
       ],
       "metadata": {},
       "output_type": "display_data",
       "text": [
        "<IPython.core.display.HTML object>"
       ]
      },
      {
       "html": [
        "<font size=3 color=black>&nbsp; &nbsp; &nbsp; &nbsp;2nd product = 0</font>"
       ],
       "metadata": {},
       "output_type": "display_data",
       "text": [
        "<IPython.core.display.HTML object>"
       ]
      },
      {
       "html": [
        "<font size=3 color=black>&nbsp; &nbsp; &nbsp; &nbsp;$\\partial_{r} \\Gamma^{\\theta}{}_{\\theta\\theta} = 0$</font>"
       ],
       "metadata": {},
       "output_type": "display_data",
       "text": [
        "<IPython.core.display.HTML object>"
       ]
      },
      {
       "html": [
        "<font size=3 color=black>&nbsp; &nbsp; &nbsp; &nbsp;$\\partial_{\\theta} \\Gamma^{\\theta}{}_{r\\theta} = 0$</font>"
       ],
       "metadata": {},
       "output_type": "display_data",
       "text": [
        "<IPython.core.display.HTML object>"
       ]
      },
      {
       "html": [
        "<font size=3 color=black>$R^{\\theta}{}_{\\thetar\\theta}$</font>"
       ],
       "metadata": {},
       "output_type": "display_data",
       "text": [
        "<IPython.core.display.HTML object>"
       ]
      },
      {
       "html": [
        "<font size=3 color=black>$ = (0)-(0)+(0)-(0)$</font>"
       ],
       "metadata": {},
       "output_type": "display_data",
       "text": [
        "<IPython.core.display.HTML object>"
       ]
      },
      {
       "html": [
        "<font size=3 color=black>$ = 0$</font>"
       ],
       "metadata": {},
       "output_type": "display_data",
       "text": [
        "<IPython.core.display.HTML object>"
       ]
      },
      {
       "output_type": "stream",
       "stream": "stdout",
       "text": [
        "\n"
       ]
      },
      {
       "html": [
        "<font size=3 color=black>Doing $R^{\\alpha=1}_{\\rho=1, \\gamma=1, \\beta=0}$</font>"
       ],
       "metadata": {},
       "output_type": "display_data",
       "text": [
        "<IPython.core.display.HTML object>"
       ]
      },
      {
       "html": [
        "<font size=3 color=black>&nbsp; &nbsp; &nbsp; &nbsp;&nbsp; &nbsp; &nbsp; &nbsp;$\\sigma=0:\\;$$\\Gamma^{\\theta}{}_{\\thetar} \\Gamma^{r}{}_{r\\theta} = 0$</font>"
       ],
       "metadata": {},
       "output_type": "display_data",
       "text": [
        "<IPython.core.display.HTML object>"
       ]
      },
      {
       "html": [
        "<font size=3 color=black>&nbsp; &nbsp; &nbsp; &nbsp;&nbsp; &nbsp; &nbsp; &nbsp;$\\sigma=1:\\;$$\\Gamma^{\\theta}{}_{\\theta\\theta} \\Gamma^{\\theta}{}_{r\\theta} = 0$</font>"
       ],
       "metadata": {},
       "output_type": "display_data",
       "text": [
        "<IPython.core.display.HTML object>"
       ]
      },
      {
       "html": [
        "<font size=3 color=black>&nbsp; &nbsp; &nbsp; &nbsp;1st product = 0</font>"
       ],
       "metadata": {},
       "output_type": "display_data",
       "text": [
        "<IPython.core.display.HTML object>"
       ]
      },
      {
       "html": [
        "<font size=3 color=black>&nbsp; &nbsp; &nbsp; &nbsp;&nbsp; &nbsp; &nbsp; &nbsp;$\\sigma=0:\\;$$\\Gamma^{\\theta}{}_{rr} \\Gamma^{r}{}_{\\theta\\theta} = 0$</font>"
       ],
       "metadata": {},
       "output_type": "display_data",
       "text": [
        "<IPython.core.display.HTML object>"
       ]
      },
      {
       "html": [
        "<font size=3 color=black>&nbsp; &nbsp; &nbsp; &nbsp;&nbsp; &nbsp; &nbsp; &nbsp;$\\sigma=1:\\;$$\\Gamma^{\\theta}{}_{r\\theta} \\Gamma^{\\theta}{}_{\\theta\\theta} = 0$</font>"
       ],
       "metadata": {},
       "output_type": "display_data",
       "text": [
        "<IPython.core.display.HTML object>"
       ]
      },
      {
       "html": [
        "<font size=3 color=black>&nbsp; &nbsp; &nbsp; &nbsp;2nd product = 0</font>"
       ],
       "metadata": {},
       "output_type": "display_data",
       "text": [
        "<IPython.core.display.HTML object>"
       ]
      },
      {
       "html": [
        "<font size=3 color=black>&nbsp; &nbsp; &nbsp; &nbsp;$\\partial_{\\theta} \\Gamma^{\\theta}{}_{r\\theta} = 0$</font>"
       ],
       "metadata": {},
       "output_type": "display_data",
       "text": [
        "<IPython.core.display.HTML object>"
       ]
      },
      {
       "html": [
        "<font size=3 color=black>&nbsp; &nbsp; &nbsp; &nbsp;$\\partial_{r} \\Gamma^{\\theta}{}_{\\theta\\theta} = 0$</font>"
       ],
       "metadata": {},
       "output_type": "display_data",
       "text": [
        "<IPython.core.display.HTML object>"
       ]
      },
      {
       "html": [
        "<font size=3 color=black>$R^{\\theta}{}_{\\theta\\thetar}$</font>"
       ],
       "metadata": {},
       "output_type": "display_data",
       "text": [
        "<IPython.core.display.HTML object>"
       ]
      },
      {
       "html": [
        "<font size=3 color=black>$ = (0)-(0)+(0)-(0)$</font>"
       ],
       "metadata": {},
       "output_type": "display_data",
       "text": [
        "<IPython.core.display.HTML object>"
       ]
      },
      {
       "html": [
        "<font size=3 color=black>$ = 0$</font>"
       ],
       "metadata": {},
       "output_type": "display_data",
       "text": [
        "<IPython.core.display.HTML object>"
       ]
      },
      {
       "output_type": "stream",
       "stream": "stdout",
       "text": [
        "\n"
       ]
      },
      {
       "html": [
        "<font size=3 color=black>Doing $R^{\\alpha=1}_{\\rho=1, \\gamma=1, \\beta=1}$</font>"
       ],
       "metadata": {},
       "output_type": "display_data",
       "text": [
        "<IPython.core.display.HTML object>"
       ]
      },
      {
       "html": [
        "<font size=3 color=black>&nbsp; &nbsp; &nbsp; &nbsp;&nbsp; &nbsp; &nbsp; &nbsp;$\\sigma=0:\\;$$\\Gamma^{\\theta}{}_{\\thetar} \\Gamma^{r}{}_{\\theta\\theta} = -1$</font>"
       ],
       "metadata": {},
       "output_type": "display_data",
       "text": [
        "<IPython.core.display.HTML object>"
       ]
      },
      {
       "html": [
        "<font size=3 color=black>&nbsp; &nbsp; &nbsp; &nbsp;&nbsp; &nbsp; &nbsp; &nbsp;$\\sigma=1:\\;$$\\Gamma^{\\theta}{}_{\\theta\\theta} \\Gamma^{\\theta}{}_{\\theta\\theta} = 0$</font>"
       ],
       "metadata": {},
       "output_type": "display_data",
       "text": [
        "<IPython.core.display.HTML object>"
       ]
      },
      {
       "html": [
        "<font size=3 color=black>&nbsp; &nbsp; &nbsp; &nbsp;1st product = -1</font>"
       ],
       "metadata": {},
       "output_type": "display_data",
       "text": [
        "<IPython.core.display.HTML object>"
       ]
      },
      {
       "html": [
        "<font size=3 color=black>&nbsp; &nbsp; &nbsp; &nbsp;&nbsp; &nbsp; &nbsp; &nbsp;$\\sigma=0:\\;$$\\Gamma^{\\theta}{}_{\\thetar} \\Gamma^{r}{}_{\\theta\\theta} = -1$</font>"
       ],
       "metadata": {},
       "output_type": "display_data",
       "text": [
        "<IPython.core.display.HTML object>"
       ]
      },
      {
       "html": [
        "<font size=3 color=black>&nbsp; &nbsp; &nbsp; &nbsp;&nbsp; &nbsp; &nbsp; &nbsp;$\\sigma=1:\\;$$\\Gamma^{\\theta}{}_{\\theta\\theta} \\Gamma^{\\theta}{}_{\\theta\\theta} = 0$</font>"
       ],
       "metadata": {},
       "output_type": "display_data",
       "text": [
        "<IPython.core.display.HTML object>"
       ]
      },
      {
       "html": [
        "<font size=3 color=black>&nbsp; &nbsp; &nbsp; &nbsp;2nd product = -1</font>"
       ],
       "metadata": {},
       "output_type": "display_data",
       "text": [
        "<IPython.core.display.HTML object>"
       ]
      },
      {
       "html": [
        "<font size=3 color=black>&nbsp; &nbsp; &nbsp; &nbsp;$\\partial_{\\theta} \\Gamma^{\\theta}{}_{\\theta\\theta} = 0$</font>"
       ],
       "metadata": {},
       "output_type": "display_data",
       "text": [
        "<IPython.core.display.HTML object>"
       ]
      },
      {
       "html": [
        "<font size=3 color=black>&nbsp; &nbsp; &nbsp; &nbsp;$\\partial_{\\theta} \\Gamma^{\\theta}{}_{\\theta\\theta} = 0$</font>"
       ],
       "metadata": {},
       "output_type": "display_data",
       "text": [
        "<IPython.core.display.HTML object>"
       ]
      },
      {
       "html": [
        "<font size=3 color=black>$R^{\\theta}{}_{\\theta\\theta\\theta}$</font>"
       ],
       "metadata": {},
       "output_type": "display_data",
       "text": [
        "<IPython.core.display.HTML object>"
       ]
      },
      {
       "html": [
        "<font size=3 color=black>$ = (-1)-(-1)+(0)-(0)$</font>"
       ],
       "metadata": {},
       "output_type": "display_data",
       "text": [
        "<IPython.core.display.HTML object>"
       ]
      },
      {
       "html": [
        "<font size=3 color=black>$ = 0$</font>"
       ],
       "metadata": {},
       "output_type": "display_data",
       "text": [
        "<IPython.core.display.HTML object>"
       ]
      },
      {
       "output_type": "stream",
       "stream": "stdout",
       "text": [
        "\n"
       ]
      },
      {
       "html": [
        "<font size=3 color=black>(2, 2, 2, 2)</font>"
       ],
       "metadata": {},
       "output_type": "display_data",
       "text": [
        "<IPython.core.display.HTML object>"
       ]
      },
      {
       "latex": [
        "$$\\begin{bmatrix}\\begin{bmatrix}\\begin{bmatrix}\\begin{bmatrix}0, & 0\\end{bmatrix}, & \\begin{bmatrix}0, & 0\\end{bmatrix}\\end{bmatrix}, & \\begin{bmatrix}\\begin{bmatrix}0, & 0\\end{bmatrix}, & \\begin{bmatrix}0, & 0\\end{bmatrix}\\end{bmatrix}\\end{bmatrix}, & \\begin{bmatrix}\\begin{bmatrix}\\begin{bmatrix}0, & 0\\end{bmatrix}, & \\begin{bmatrix}0, & 0\\end{bmatrix}\\end{bmatrix}, & \\begin{bmatrix}\\begin{bmatrix}0, & 0\\end{bmatrix}, & \\begin{bmatrix}0, & 0\\end{bmatrix}\\end{bmatrix}\\end{bmatrix}\\end{bmatrix}$$"
       ],
       "metadata": {},
       "output_type": "pyout",
       "png": "[encoded data removed]",
       "prompt_number": 62,
       "text": [
        "[[[[0, 0], [0, 0]], [[0, 0], [0, 0]]], [[[0, 0], [0, 0]], [[0, 0], [0, 0]]]]"
       ]
      }
     ],
     "prompt_number": 62
    },
    {
     "cell_type": "code",
     "collapsed": false,
     "input": [
      "ricci_tensor = calc_ricci_tensor(riemann_tensor)\n",
      "ricci_tensor"
     ],
     "language": "python",
     "metadata": {},
     "outputs": [
      {
       "latex": [
        "$$\\begin{bmatrix}\\begin{bmatrix}0, & 0\\end{bmatrix}, & \\begin{bmatrix}0, & 0\\end{bmatrix}\\end{bmatrix}$$"
       ],
       "metadata": {},
       "output_type": "pyout",
       "png": "[encoded data removed]",
       "prompt_number": 63,
       "text": [
        "[[0, 0], [0, 0]]"
       ]
      }
     ],
     "prompt_number": 63
    },
    {
     "cell_type": "code",
     "collapsed": false,
     "input": [
      "R = calc_ricci_scalar(g, ricci_tensor)\n",
      "R"
     ],
     "language": "python",
     "metadata": {},
     "outputs": [
      {
       "latex": [
        "$$0$$"
       ],
       "metadata": {},
       "output_type": "pyout",
       "png": "[encoded data removed]",
       "prompt_number": 64,
       "text": [
        "0"
       ]
      }
     ],
     "prompt_number": 64
    },
    {
     "cell_type": "code",
     "collapsed": false,
     "input": [
      "calculate_geodesic((r, theta), Gamma, v=True)"
     ],
     "language": "python",
     "metadata": {},
     "outputs": [
      {
       "html": [
        "<font size=3 color=black>$\\ddot{x}^0 = $</font>"
       ],
       "metadata": {},
       "output_type": "display_data",
       "text": [
        "<IPython.core.display.HTML object>"
       ]
      },
      {
       "html": [
        "<font size=3 color=black>$\\;\\;\\;\\; -\\Gamma^r{}_{r r}\\,$$\\dot{x}^r\\dot{x}^r$$(0)\\,(\\frac{d}{d \\tau} r)\\,(\\frac{d}{d \\tau} r) = 0$</font>"
       ],
       "metadata": {},
       "output_type": "display_data",
       "text": [
        "<IPython.core.display.HTML object>"
       ]
      },
      {
       "html": [
        "<font size=3 color=black>$\\;\\;\\;\\; -\\Gamma^r{}_{r \\theta}\\,$$\\dot{x}^r\\dot{x}^r$$(0)\\,(\\frac{d}{d \\tau} r)\\,(\\frac{d}{d \\tau} \\theta) = 0$</font>"
       ],
       "metadata": {},
       "output_type": "display_data",
       "text": [
        "<IPython.core.display.HTML object>"
       ]
      },
      {
       "html": [
        "<font size=3 color=black>$\\;\\;\\;\\; -\\Gamma^r{}_{\\theta r}\\,$$\\dot{x}^r\\dot{x}^\\theta$$(0)\\,(\\frac{d}{d \\tau} \\theta)\\,(\\frac{d}{d \\tau} r) = 0$</font>"
       ],
       "metadata": {},
       "output_type": "display_data",
       "text": [
        "<IPython.core.display.HTML object>"
       ]
      },
      {
       "html": [
        "<font size=3 color=black>$\\;\\;\\;\\; -\\Gamma^r{}_{\\theta \\theta}\\,$$\\dot{x}^r\\dot{x}^\\theta$$(r)\\,(\\frac{d}{d \\tau} \\theta)\\,(\\frac{d}{d \\tau} \\theta) = r \\left(\\frac{d}{d \\tau} \\theta\\right)^{2}$</font>"
       ],
       "metadata": {},
       "output_type": "display_data",
       "text": [
        "<IPython.core.display.HTML object>"
       ]
      },
      {
       "html": [
        "<font size=3 color=black>$\\ddot{x}^1 = $</font>"
       ],
       "metadata": {},
       "output_type": "display_data",
       "text": [
        "<IPython.core.display.HTML object>"
       ]
      },
      {
       "html": [
        "<font size=3 color=black>$\\;\\;\\;\\; -\\Gamma^\\theta{}_{r r}\\,$$\\dot{x}^\\theta\\dot{x}^r$$(0)\\,(\\frac{d}{d \\tau} r)\\,(\\frac{d}{d \\tau} r) = 0$</font>"
       ],
       "metadata": {},
       "output_type": "display_data",
       "text": [
        "<IPython.core.display.HTML object>"
       ]
      },
      {
       "html": [
        "<font size=3 color=black>$\\;\\;\\;\\; -\\Gamma^\\theta{}_{r \\theta}\\,$$\\dot{x}^\\theta\\dot{x}^r$$(- \\frac{1}{r})\\,(\\frac{d}{d \\tau} r)\\,(\\frac{d}{d \\tau} \\theta) = - \\frac{1}{r} \\frac{d}{d \\tau} r \\frac{d}{d \\tau} \\theta$</font>"
       ],
       "metadata": {},
       "output_type": "display_data",
       "text": [
        "<IPython.core.display.HTML object>"
       ]
      },
      {
       "html": [
        "<font size=3 color=black>$\\;\\;\\;\\; -\\Gamma^\\theta{}_{\\theta r}\\,$$\\dot{x}^\\theta\\dot{x}^\\theta$$(- \\frac{1}{r})\\,(\\frac{d}{d \\tau} \\theta)\\,(\\frac{d}{d \\tau} r) = - \\frac{1}{r} \\frac{d}{d \\tau} r \\frac{d}{d \\tau} \\theta$</font>"
       ],
       "metadata": {},
       "output_type": "display_data",
       "text": [
        "<IPython.core.display.HTML object>"
       ]
      },
      {
       "html": [
        "<font size=3 color=black>$\\;\\;\\;\\; -\\Gamma^\\theta{}_{\\theta \\theta}\\,$$\\dot{x}^\\theta\\dot{x}^\\theta$$(0)\\,(\\frac{d}{d \\tau} \\theta)\\,(\\frac{d}{d \\tau} \\theta) = 0$</font>"
       ],
       "metadata": {},
       "output_type": "display_data",
       "text": [
        "<IPython.core.display.HTML object>"
       ]
      },
      {
       "latex": [
        "$$\\begin{bmatrix}r \\left(\\frac{d}{d \\tau} \\theta\\right)^{2}, & - \\frac{2}{r} \\frac{d}{d \\tau} r \\frac{d}{d \\tau} \\theta\\end{bmatrix}$$"
       ],
       "metadata": {},
       "output_type": "pyout",
       "png": "[encoded data removed]",
       "prompt_number": 65,
       "text": [
        "\u23a1               d     d     \u23a4\n",
        "\u23a2         2  -2\u22c5\u2500\u2500(r)\u22c5\u2500\u2500(\u03b8) \u23a5\n",
        "\u23a2  \u239bd    \u239e      d\u03c4    d\u03c4    \u23a5\n",
        "\u23a2r\u22c5\u239c\u2500\u2500(\u03b8)\u239f , \u2500\u2500\u2500\u2500\u2500\u2500\u2500\u2500\u2500\u2500\u2500\u2500\u2500\u2500\u2500\u23a5\n",
        "\u23a3  \u239dd\u03c4   \u23a0          r       \u23a6"
       ]
      }
     ],
     "prompt_number": 65
    },
    {
     "cell_type": "markdown",
     "metadata": {},
     "source": [
      "<a name=2dsphere></a>\n",
      "<h2><a href=\"#top\">^</a> Example: A 2D Sphere</h2>\n",
      "<p>\n",
      "    Franklin pages: 141-143 - For a \"2d sphere\", $R=2/r^2$.\n",
      "</p>"
     ]
    },
    {
     "cell_type": "code",
     "collapsed": false,
     "input": [
      "N = 2 # Declare the dimension\n",
      "r = sy.Symbol('r')\n",
      "theta = sy.Symbol('theta')\n",
      "phi = sy.Symbol('phi')\n",
      "X = [theta, phi] # X is the Basis set\n",
      "g = sy.Matrix([[r**2,0],[0,r**2*sy.sin(theta)**2]])\n",
      "g_inv = sy.Matrix(g).inv()\n",
      "g, g_inv"
     ],
     "language": "python",
     "metadata": {},
     "outputs": [
      {
       "latex": [
        "$$\\begin{pmatrix}\\left[\\begin{matrix}r^{2} & 0\\\\0 & r^{2} \\sin^{2}{\\left (\\theta \\right )}\\end{matrix}\\right], & \\left[\\begin{matrix}\\frac{1}{r^{2}} & 0\\\\0 & \\frac{1}{r^{2} \\sin^{2}{\\left (\\theta \\right )}}\\end{matrix}\\right]\\end{pmatrix}$$"
       ],
       "metadata": {},
       "output_type": "pyout",
       "png": "[encoded data removed]",
       "prompt_number": 66,
       "text": [
        "\u239b\u23a1 2            \u23a4  \u23a11             \u23a4\u239e\n",
        "\u239c\u23a2r       0     \u23a5, \u23a2\u2500\u2500      0     \u23a5\u239f\n",
        "\u239c\u23a2              \u23a5  \u23a2 2            \u23a5\u239f\n",
        "\u239c\u23a2     2    2   \u23a5  \u23a2r             \u23a5\u239f\n",
        "\u239c\u23a30   r \u22c5sin (\u03b8)\u23a6  \u23a2              \u23a5\u239f\n",
        "\u239c                  \u23a2        1     \u23a5\u239f\n",
        "\u239c                  \u23a20   \u2500\u2500\u2500\u2500\u2500\u2500\u2500\u2500\u2500\u2500\u23a5\u239f\n",
        "\u239c                  \u23a2     2    2   \u23a5\u239f\n",
        "\u239d                  \u23a3    r \u22c5sin (\u03b8)\u23a6\u23a0"
       ]
      }
     ],
     "prompt_number": 66
    },
    {
     "cell_type": "code",
     "collapsed": false,
     "input": [
      "Gamma = calc_christoffel_symbol(X, g, v=True)\n",
      "# This appears to be correct vis p.142 (4.49)\n",
      "# And it appears to agree with Franklin's GetCCull[] code\n",
      "Gamma"
     ],
     "language": "python",
     "metadata": {},
     "outputs": [
      {
       "html": [
        "<font size=3 color=black>Calculating: $ \\Gamma^\\sigma{}_{\\alpha\\beta} = \\frac{1}{2} g^{\\sigma\\rho}\\left( \\partial_\\beta g_{\\rho\\alpha} + \\partial_\\alpha g_{\\rho\\beta}- \\partial_\\rho g_{\\alpha\\beta}\\right)$</font>"
       ],
       "metadata": {},
       "output_type": "display_data",
       "text": [
        "<IPython.core.display.HTML object>"
       ]
      },
      {
       "output_type": "stream",
       "stream": "stdout",
       "text": [
        "  alpha=0, beta=0, sigma=0, rho=0\n"
       ]
      },
      {
       "html": [
        "<font size=3 color=black>$\\;\\; \\Gamma^0_{00} += $$\\frac{1}{2} g^{00}$$(\\partial_0 g_{00}$$+ \\partial_0 g_{00}$$- \\partial_0 g_{00})$</font>"
       ],
       "metadata": {},
       "output_type": "display_data",
       "text": [
        "<IPython.core.display.HTML object>"
       ]
      },
      {
       "html": [
        "<font size=3 color=black>$\\;\\; \\Gamma^0_{00} += $$\\frac{1}{2} (\\frac{1}{r^{2}}) $$((0) + (0) - (0))$</font>"
       ],
       "metadata": {},
       "output_type": "display_data",
       "text": [
        "<IPython.core.display.HTML object>"
       ]
      },
      {
       "output_type": "stream",
       "stream": "stdout",
       "text": [
        "  alpha=0, beta=0, sigma=0, rho=1\n"
       ]
      },
      {
       "html": [
        "<font size=3 color=black>$\\;\\; \\Gamma^0_{00} += $$\\frac{1}{2} g^{01}$$(\\partial_0 g_{10}$$+ \\partial_0 g_{10}$$- \\partial_1 g_{00})$</font>"
       ],
       "metadata": {},
       "output_type": "display_data",
       "text": [
        "<IPython.core.display.HTML object>"
       ]
      },
      {
       "html": [
        "<font size=3 color=black>$\\;\\; \\Gamma^0_{00} += $$\\frac{1}{2} (0) $$((0) + (0) - (0))$</font>"
       ],
       "metadata": {},
       "output_type": "display_data",
       "text": [
        "<IPython.core.display.HTML object>"
       ]
      },
      {
       "html": [
        "<font size=3 color=black>$\\Gamma^0_{00} = 0$</font>"
       ],
       "metadata": {},
       "output_type": "display_data",
       "text": [
        "<IPython.core.display.HTML object>"
       ]
      },
      {
       "output_type": "stream",
       "stream": "stdout",
       "text": [
        "  alpha=0, beta=1, sigma=0, rho=0\n"
       ]
      },
      {
       "html": [
        "<font size=3 color=black>$\\;\\; \\Gamma^0_{01} += $$\\frac{1}{2} g^{00}$$(\\partial_1 g_{00}$$+ \\partial_0 g_{01}$$- \\partial_0 g_{01})$</font>"
       ],
       "metadata": {},
       "output_type": "display_data",
       "text": [
        "<IPython.core.display.HTML object>"
       ]
      },
      {
       "html": [
        "<font size=3 color=black>$\\;\\; \\Gamma^0_{01} += $$\\frac{1}{2} (\\frac{1}{r^{2}}) $$((0) + (0) - (0))$</font>"
       ],
       "metadata": {},
       "output_type": "display_data",
       "text": [
        "<IPython.core.display.HTML object>"
       ]
      },
      {
       "output_type": "stream",
       "stream": "stdout",
       "text": [
        "  alpha=0, beta=1, sigma=0, rho=1\n"
       ]
      },
      {
       "html": [
        "<font size=3 color=black>$\\;\\; \\Gamma^0_{01} += $$\\frac{1}{2} g^{01}$$(\\partial_1 g_{10}$$+ \\partial_0 g_{11}$$- \\partial_1 g_{01})$</font>"
       ],
       "metadata": {},
       "output_type": "display_data",
       "text": [
        "<IPython.core.display.HTML object>"
       ]
      },
      {
       "html": [
        "<font size=3 color=black>$\\;\\; \\Gamma^0_{01} += $$\\frac{1}{2} (0) $$((0) + (2 r^{2} \\sin{\\left (\\theta \\right )} \\cos{\\left (\\theta \\right )}) - (0))$</font>"
       ],
       "metadata": {},
       "output_type": "display_data",
       "text": [
        "<IPython.core.display.HTML object>"
       ]
      },
      {
       "html": [
        "<font size=3 color=black>$\\Gamma^0_{01} = 0$</font>"
       ],
       "metadata": {},
       "output_type": "display_data",
       "text": [
        "<IPython.core.display.HTML object>"
       ]
      },
      {
       "output_type": "stream",
       "stream": "stdout",
       "text": [
        "  alpha=1, beta=0, sigma=0, rho=0\n"
       ]
      },
      {
       "html": [
        "<font size=3 color=black>$\\;\\; \\Gamma^0_{10} += $$\\frac{1}{2} g^{00}$$(\\partial_0 g_{01}$$+ \\partial_1 g_{00}$$- \\partial_0 g_{10})$</font>"
       ],
       "metadata": {},
       "output_type": "display_data",
       "text": [
        "<IPython.core.display.HTML object>"
       ]
      },
      {
       "html": [
        "<font size=3 color=black>$\\;\\; \\Gamma^0_{10} += $$\\frac{1}{2} (\\frac{1}{r^{2}}) $$((0) + (0) - (0))$</font>"
       ],
       "metadata": {},
       "output_type": "display_data",
       "text": [
        "<IPython.core.display.HTML object>"
       ]
      },
      {
       "output_type": "stream",
       "stream": "stdout",
       "text": [
        "  alpha=1, beta=0, sigma=0, rho=1\n"
       ]
      },
      {
       "html": [
        "<font size=3 color=black>$\\;\\; \\Gamma^0_{10} += $$\\frac{1}{2} g^{01}$$(\\partial_0 g_{11}$$+ \\partial_1 g_{10}$$- \\partial_1 g_{10})$</font>"
       ],
       "metadata": {},
       "output_type": "display_data",
       "text": [
        "<IPython.core.display.HTML object>"
       ]
      },
      {
       "html": [
        "<font size=3 color=black>$\\;\\; \\Gamma^0_{10} += $$\\frac{1}{2} (0) $$((2 r^{2} \\sin{\\left (\\theta \\right )} \\cos{\\left (\\theta \\right )}) + (0) - (0))$</font>"
       ],
       "metadata": {},
       "output_type": "display_data",
       "text": [
        "<IPython.core.display.HTML object>"
       ]
      },
      {
       "html": [
        "<font size=3 color=black>$\\Gamma^0_{10} = 0$</font>"
       ],
       "metadata": {},
       "output_type": "display_data",
       "text": [
        "<IPython.core.display.HTML object>"
       ]
      },
      {
       "output_type": "stream",
       "stream": "stdout",
       "text": [
        "  alpha=1, beta=1, sigma=0, rho=0\n"
       ]
      },
      {
       "html": [
        "<font size=3 color=black>$\\;\\; \\Gamma^0_{11} += $$\\frac{1}{2} g^{00}$$(\\partial_1 g_{01}$$+ \\partial_1 g_{01}$$- \\partial_0 g_{11})$</font>"
       ],
       "metadata": {},
       "output_type": "display_data",
       "text": [
        "<IPython.core.display.HTML object>"
       ]
      },
      {
       "html": [
        "<font size=3 color=black>$\\;\\; \\Gamma^0_{11} += $$\\frac{1}{2} (\\frac{1}{r^{2}}) $$((0) + (0) - (2 r^{2} \\sin{\\left (\\theta \\right )} \\cos{\\left (\\theta \\right )}))$</font>"
       ],
       "metadata": {},
       "output_type": "display_data",
       "text": [
        "<IPython.core.display.HTML object>"
       ]
      },
      {
       "output_type": "stream",
       "stream": "stdout",
       "text": [
        "  alpha=1, beta=1, sigma=0, rho=1\n"
       ]
      },
      {
       "html": [
        "<font size=3 color=black>$\\;\\; \\Gamma^0_{11} += $$\\frac{1}{2} g^{01}$$(\\partial_1 g_{11}$$+ \\partial_1 g_{11}$$- \\partial_1 g_{11})$</font>"
       ],
       "metadata": {},
       "output_type": "display_data",
       "text": [
        "<IPython.core.display.HTML object>"
       ]
      },
      {
       "html": [
        "<font size=3 color=black>$\\;\\; \\Gamma^0_{11} += $$\\frac{1}{2} (0) $$((0) + (0) - (0))$</font>"
       ],
       "metadata": {},
       "output_type": "display_data",
       "text": [
        "<IPython.core.display.HTML object>"
       ]
      },
      {
       "html": [
        "<font size=3 color=black>$\\Gamma^0_{11} = -sin(theta)*cos(theta)$</font>"
       ],
       "metadata": {},
       "output_type": "display_data",
       "text": [
        "<IPython.core.display.HTML object>"
       ]
      },
      {
       "output_type": "stream",
       "stream": "stdout",
       "text": [
        "  alpha=0, beta=0, sigma=1, rho=0\n"
       ]
      },
      {
       "html": [
        "<font size=3 color=black>$\\;\\; \\Gamma^1_{00} += $$\\frac{1}{2} g^{10}$$(\\partial_0 g_{00}$$+ \\partial_0 g_{00}$$- \\partial_0 g_{00})$</font>"
       ],
       "metadata": {},
       "output_type": "display_data",
       "text": [
        "<IPython.core.display.HTML object>"
       ]
      },
      {
       "html": [
        "<font size=3 color=black>$\\;\\; \\Gamma^1_{00} += $$\\frac{1}{2} (0) $$((0) + (0) - (0))$</font>"
       ],
       "metadata": {},
       "output_type": "display_data",
       "text": [
        "<IPython.core.display.HTML object>"
       ]
      },
      {
       "output_type": "stream",
       "stream": "stdout",
       "text": [
        "  alpha=0, beta=0, sigma=1, rho=1\n"
       ]
      },
      {
       "html": [
        "<font size=3 color=black>$\\;\\; \\Gamma^1_{00} += $$\\frac{1}{2} g^{11}$$(\\partial_0 g_{10}$$+ \\partial_0 g_{10}$$- \\partial_1 g_{00})$</font>"
       ],
       "metadata": {},
       "output_type": "display_data",
       "text": [
        "<IPython.core.display.HTML object>"
       ]
      },
      {
       "html": [
        "<font size=3 color=black>$\\;\\; \\Gamma^1_{00} += $$\\frac{1}{2} (\\frac{1}{r^{2} \\sin^{2}{\\left (\\theta \\right )}}) $$((0) + (0) - (0))$</font>"
       ],
       "metadata": {},
       "output_type": "display_data",
       "text": [
        "<IPython.core.display.HTML object>"
       ]
      },
      {
       "html": [
        "<font size=3 color=black>$\\Gamma^1_{00} = 0$</font>"
       ],
       "metadata": {},
       "output_type": "display_data",
       "text": [
        "<IPython.core.display.HTML object>"
       ]
      },
      {
       "output_type": "stream",
       "stream": "stdout",
       "text": [
        "  alpha=0, beta=1, sigma=1, rho=0\n"
       ]
      },
      {
       "html": [
        "<font size=3 color=black>$\\;\\; \\Gamma^1_{01} += $$\\frac{1}{2} g^{10}$$(\\partial_1 g_{00}$$+ \\partial_0 g_{01}$$- \\partial_0 g_{01})$</font>"
       ],
       "metadata": {},
       "output_type": "display_data",
       "text": [
        "<IPython.core.display.HTML object>"
       ]
      },
      {
       "html": [
        "<font size=3 color=black>$\\;\\; \\Gamma^1_{01} += $$\\frac{1}{2} (0) $$((0) + (0) - (0))$</font>"
       ],
       "metadata": {},
       "output_type": "display_data",
       "text": [
        "<IPython.core.display.HTML object>"
       ]
      },
      {
       "output_type": "stream",
       "stream": "stdout",
       "text": [
        "  alpha=0, beta=1, sigma=1, rho=1\n"
       ]
      },
      {
       "html": [
        "<font size=3 color=black>$\\;\\; \\Gamma^1_{01} += $$\\frac{1}{2} g^{11}$$(\\partial_1 g_{10}$$+ \\partial_0 g_{11}$$- \\partial_1 g_{01})$</font>"
       ],
       "metadata": {},
       "output_type": "display_data",
       "text": [
        "<IPython.core.display.HTML object>"
       ]
      },
      {
       "html": [
        "<font size=3 color=black>$\\;\\; \\Gamma^1_{01} += $$\\frac{1}{2} (\\frac{1}{r^{2} \\sin^{2}{\\left (\\theta \\right )}}) $$((0) + (2 r^{2} \\sin{\\left (\\theta \\right )} \\cos{\\left (\\theta \\right )}) - (0))$</font>"
       ],
       "metadata": {},
       "output_type": "display_data",
       "text": [
        "<IPython.core.display.HTML object>"
       ]
      },
      {
       "html": [
        "<font size=3 color=black>$\\Gamma^1_{01} = cos(theta)/sin(theta)$</font>"
       ],
       "metadata": {},
       "output_type": "display_data",
       "text": [
        "<IPython.core.display.HTML object>"
       ]
      },
      {
       "output_type": "stream",
       "stream": "stdout",
       "text": [
        "  alpha=1, beta=0, sigma=1, rho=0\n"
       ]
      },
      {
       "html": [
        "<font size=3 color=black>$\\;\\; \\Gamma^1_{10} += $$\\frac{1}{2} g^{10}$$(\\partial_0 g_{01}$$+ \\partial_1 g_{00}$$- \\partial_0 g_{10})$</font>"
       ],
       "metadata": {},
       "output_type": "display_data",
       "text": [
        "<IPython.core.display.HTML object>"
       ]
      },
      {
       "html": [
        "<font size=3 color=black>$\\;\\; \\Gamma^1_{10} += $$\\frac{1}{2} (0) $$((0) + (0) - (0))$</font>"
       ],
       "metadata": {},
       "output_type": "display_data",
       "text": [
        "<IPython.core.display.HTML object>"
       ]
      },
      {
       "output_type": "stream",
       "stream": "stdout",
       "text": [
        "  alpha=1, beta=0, sigma=1, rho=1\n"
       ]
      },
      {
       "html": [
        "<font size=3 color=black>$\\;\\; \\Gamma^1_{10} += $$\\frac{1}{2} g^{11}$$(\\partial_0 g_{11}$$+ \\partial_1 g_{10}$$- \\partial_1 g_{10})$</font>"
       ],
       "metadata": {},
       "output_type": "display_data",
       "text": [
        "<IPython.core.display.HTML object>"
       ]
      },
      {
       "html": [
        "<font size=3 color=black>$\\;\\; \\Gamma^1_{10} += $$\\frac{1}{2} (\\frac{1}{r^{2} \\sin^{2}{\\left (\\theta \\right )}}) $$((2 r^{2} \\sin{\\left (\\theta \\right )} \\cos{\\left (\\theta \\right )}) + (0) - (0))$</font>"
       ],
       "metadata": {},
       "output_type": "display_data",
       "text": [
        "<IPython.core.display.HTML object>"
       ]
      },
      {
       "html": [
        "<font size=3 color=black>$\\Gamma^1_{10} = cos(theta)/sin(theta)$</font>"
       ],
       "metadata": {},
       "output_type": "display_data",
       "text": [
        "<IPython.core.display.HTML object>"
       ]
      },
      {
       "output_type": "stream",
       "stream": "stdout",
       "text": [
        "  alpha=1, beta=1, sigma=1, rho=0\n"
       ]
      },
      {
       "html": [
        "<font size=3 color=black>$\\;\\; \\Gamma^1_{11} += $$\\frac{1}{2} g^{10}$$(\\partial_1 g_{01}$$+ \\partial_1 g_{01}$$- \\partial_0 g_{11})$</font>"
       ],
       "metadata": {},
       "output_type": "display_data",
       "text": [
        "<IPython.core.display.HTML object>"
       ]
      },
      {
       "html": [
        "<font size=3 color=black>$\\;\\; \\Gamma^1_{11} += $$\\frac{1}{2} (0) $$((0) + (0) - (2 r^{2} \\sin{\\left (\\theta \\right )} \\cos{\\left (\\theta \\right )}))$</font>"
       ],
       "metadata": {},
       "output_type": "display_data",
       "text": [
        "<IPython.core.display.HTML object>"
       ]
      },
      {
       "output_type": "stream",
       "stream": "stdout",
       "text": [
        "  alpha=1, beta=1, sigma=1, rho=1\n"
       ]
      },
      {
       "html": [
        "<font size=3 color=black>$\\;\\; \\Gamma^1_{11} += $$\\frac{1}{2} g^{11}$$(\\partial_1 g_{11}$$+ \\partial_1 g_{11}$$- \\partial_1 g_{11})$</font>"
       ],
       "metadata": {},
       "output_type": "display_data",
       "text": [
        "<IPython.core.display.HTML object>"
       ]
      },
      {
       "html": [
        "<font size=3 color=black>$\\;\\; \\Gamma^1_{11} += $$\\frac{1}{2} (\\frac{1}{r^{2} \\sin^{2}{\\left (\\theta \\right )}}) $$((0) + (0) - (0))$</font>"
       ],
       "metadata": {},
       "output_type": "display_data",
       "text": [
        "<IPython.core.display.HTML object>"
       ]
      },
      {
       "html": [
        "<font size=3 color=black>$\\Gamma^1_{11} = 0$</font>"
       ],
       "metadata": {},
       "output_type": "display_data",
       "text": [
        "<IPython.core.display.HTML object>"
       ]
      },
      {
       "latex": [
        "$$\\begin{bmatrix}\\begin{bmatrix}\\begin{bmatrix}0, & 0\\end{bmatrix}, & \\begin{bmatrix}0, & - \\sin{\\left (\\theta \\right )} \\cos{\\left (\\theta \\right )}\\end{bmatrix}\\end{bmatrix}, & \\begin{bmatrix}\\begin{bmatrix}0, & \\frac{\\cos{\\left (\\theta \\right )}}{\\sin{\\left (\\theta \\right )}}\\end{bmatrix}, & \\begin{bmatrix}\\frac{\\cos{\\left (\\theta \\right )}}{\\sin{\\left (\\theta \\right )}}, & 0\\end{bmatrix}\\end{bmatrix}\\end{bmatrix}$$"
       ],
       "metadata": {},
       "output_type": "pyout",
       "png": "[encoded data removed]",
       "prompt_number": 67,
       "text": [
        "\u23a1                               \u23a1\u23a1   cos(\u03b8)\u23a4  \u23a1cos(\u03b8)   \u23a4\u23a4\u23a4\n",
        "\u23a2[[0, 0], [0, -sin(\u03b8)\u22c5cos(\u03b8)]], \u23a2\u23a20, \u2500\u2500\u2500\u2500\u2500\u2500\u23a5, \u23a2\u2500\u2500\u2500\u2500\u2500\u2500, 0\u23a5\u23a5\u23a5\n",
        "\u23a3                               \u23a3\u23a3   sin(\u03b8)\u23a6  \u23a3sin(\u03b8)   \u23a6\u23a6\u23a6"
       ]
      }
     ],
     "prompt_number": 67
    },
    {
     "cell_type": "code",
     "collapsed": false,
     "input": [
      "riemann_tensor=calc_riemann_tensor(X, g, Gamma, v=True)\n",
      "Print(np.shape(riemann_tensor))\n",
      "riemann_tensor"
     ],
     "language": "python",
     "metadata": {},
     "outputs": [
      {
       "html": [
        "<font size=3 color=black>Calculating the Riemann Tensor, by the formula:</font>"
       ],
       "metadata": {},
       "output_type": "display_data",
       "text": [
        "<IPython.core.display.HTML object>"
       ]
      },
      {
       "html": [
        "<font size=3 color=black><font size=4>&nbsp; &nbsp;$R^{\\alpha}{}_{\\rho\\gamma\\beta} =\\ $$\\Gamma^{\\alpha}{}_{\\gamma\\sigma}\\,\\Gamma^{\\sigma}{}_{\\beta\\rho}$$\\;-\\;\\Gamma^{\\alpha}{}_{\\beta\\sigma}\\,\\Gamma^{\\sigma}{}_{\\gamma\\rho}$$\\;+\\;\\partial_{\\gamma} \\Gamma^{\\alpha}{}_{\\beta\\rho}$$\\;-\\;\\partial_{\\beta} \\Gamma^{\\alpha}{}_{\\gamma\\rho}$</font></font>"
       ],
       "metadata": {},
       "output_type": "display_data",
       "text": [
        "<IPython.core.display.HTML object>"
       ]
      },
      {
       "html": [
        "<font size=3 color=black>Doing $R^{\\alpha=0}_{\\rho=0, \\gamma=0, \\beta=0}$</font>"
       ],
       "metadata": {},
       "output_type": "display_data",
       "text": [
        "<IPython.core.display.HTML object>"
       ]
      },
      {
       "html": [
        "<font size=3 color=black>&nbsp; &nbsp; &nbsp; &nbsp;&nbsp; &nbsp; &nbsp; &nbsp;$\\sigma=0:\\;$$\\Gamma^{\\theta}{}_{\\theta\\theta} \\Gamma^{\\theta}{}_{\\theta\\theta} = 0$</font>"
       ],
       "metadata": {},
       "output_type": "display_data",
       "text": [
        "<IPython.core.display.HTML object>"
       ]
      },
      {
       "html": [
        "<font size=3 color=black>&nbsp; &nbsp; &nbsp; &nbsp;&nbsp; &nbsp; &nbsp; &nbsp;$\\sigma=1:\\;$$\\Gamma^{\\theta}{}_{\\theta\\phi} \\Gamma^{\\phi}{}_{\\theta\\theta} = 0$</font>"
       ],
       "metadata": {},
       "output_type": "display_data",
       "text": [
        "<IPython.core.display.HTML object>"
       ]
      },
      {
       "html": [
        "<font size=3 color=black>&nbsp; &nbsp; &nbsp; &nbsp;1st product = 0</font>"
       ],
       "metadata": {},
       "output_type": "display_data",
       "text": [
        "<IPython.core.display.HTML object>"
       ]
      },
      {
       "html": [
        "<font size=3 color=black>&nbsp; &nbsp; &nbsp; &nbsp;&nbsp; &nbsp; &nbsp; &nbsp;$\\sigma=0:\\;$$\\Gamma^{\\theta}{}_{\\theta\\theta} \\Gamma^{\\theta}{}_{\\theta\\theta} = 0$</font>"
       ],
       "metadata": {},
       "output_type": "display_data",
       "text": [
        "<IPython.core.display.HTML object>"
       ]
      },
      {
       "html": [
        "<font size=3 color=black>&nbsp; &nbsp; &nbsp; &nbsp;&nbsp; &nbsp; &nbsp; &nbsp;$\\sigma=1:\\;$$\\Gamma^{\\theta}{}_{\\theta\\phi} \\Gamma^{\\phi}{}_{\\theta\\theta} = 0$</font>"
       ],
       "metadata": {},
       "output_type": "display_data",
       "text": [
        "<IPython.core.display.HTML object>"
       ]
      },
      {
       "html": [
        "<font size=3 color=black>&nbsp; &nbsp; &nbsp; &nbsp;2nd product = 0</font>"
       ],
       "metadata": {},
       "output_type": "display_data",
       "text": [
        "<IPython.core.display.HTML object>"
       ]
      },
      {
       "html": [
        "<font size=3 color=black>&nbsp; &nbsp; &nbsp; &nbsp;$\\partial_{\\theta} \\Gamma^{\\theta}{}_{\\theta\\theta} = 0$</font>"
       ],
       "metadata": {},
       "output_type": "display_data",
       "text": [
        "<IPython.core.display.HTML object>"
       ]
      },
      {
       "html": [
        "<font size=3 color=black>&nbsp; &nbsp; &nbsp; &nbsp;$\\partial_{\\theta} \\Gamma^{\\theta}{}_{\\theta\\theta} = 0$</font>"
       ],
       "metadata": {},
       "output_type": "display_data",
       "text": [
        "<IPython.core.display.HTML object>"
       ]
      },
      {
       "html": [
        "<font size=3 color=black>$R^{\\theta}{}_{\\theta\\theta\\theta}$</font>"
       ],
       "metadata": {},
       "output_type": "display_data",
       "text": [
        "<IPython.core.display.HTML object>"
       ]
      },
      {
       "html": [
        "<font size=3 color=black>$ = (0)-(0)+(0)-(0)$</font>"
       ],
       "metadata": {},
       "output_type": "display_data",
       "text": [
        "<IPython.core.display.HTML object>"
       ]
      },
      {
       "html": [
        "<font size=3 color=black>$ = 0$</font>"
       ],
       "metadata": {},
       "output_type": "display_data",
       "text": [
        "<IPython.core.display.HTML object>"
       ]
      },
      {
       "output_type": "stream",
       "stream": "stdout",
       "text": [
        "\n"
       ]
      },
      {
       "html": [
        "<font size=3 color=black>Doing $R^{\\alpha=0}_{\\rho=0, \\gamma=0, \\beta=1}$</font>"
       ],
       "metadata": {},
       "output_type": "display_data",
       "text": [
        "<IPython.core.display.HTML object>"
       ]
      },
      {
       "html": [
        "<font size=3 color=black>&nbsp; &nbsp; &nbsp; &nbsp;&nbsp; &nbsp; &nbsp; &nbsp;$\\sigma=0:\\;$$\\Gamma^{\\theta}{}_{\\theta\\theta} \\Gamma^{\\theta}{}_{\\phi\\theta} = 0$</font>"
       ],
       "metadata": {},
       "output_type": "display_data",
       "text": [
        "<IPython.core.display.HTML object>"
       ]
      },
      {
       "html": [
        "<font size=3 color=black>&nbsp; &nbsp; &nbsp; &nbsp;&nbsp; &nbsp; &nbsp; &nbsp;$\\sigma=1:\\;$$\\Gamma^{\\theta}{}_{\\theta\\phi} \\Gamma^{\\phi}{}_{\\phi\\theta} = 0$</font>"
       ],
       "metadata": {},
       "output_type": "display_data",
       "text": [
        "<IPython.core.display.HTML object>"
       ]
      },
      {
       "html": [
        "<font size=3 color=black>&nbsp; &nbsp; &nbsp; &nbsp;1st product = 0</font>"
       ],
       "metadata": {},
       "output_type": "display_data",
       "text": [
        "<IPython.core.display.HTML object>"
       ]
      },
      {
       "html": [
        "<font size=3 color=black>&nbsp; &nbsp; &nbsp; &nbsp;&nbsp; &nbsp; &nbsp; &nbsp;$\\sigma=0:\\;$$\\Gamma^{\\theta}{}_{\\phi\\theta} \\Gamma^{\\theta}{}_{\\theta\\theta} = 0$</font>"
       ],
       "metadata": {},
       "output_type": "display_data",
       "text": [
        "<IPython.core.display.HTML object>"
       ]
      },
      {
       "html": [
        "<font size=3 color=black>&nbsp; &nbsp; &nbsp; &nbsp;&nbsp; &nbsp; &nbsp; &nbsp;$\\sigma=1:\\;$$\\Gamma^{\\theta}{}_{\\phi\\phi} \\Gamma^{\\phi}{}_{\\theta\\theta} = 0$</font>"
       ],
       "metadata": {},
       "output_type": "display_data",
       "text": [
        "<IPython.core.display.HTML object>"
       ]
      },
      {
       "html": [
        "<font size=3 color=black>&nbsp; &nbsp; &nbsp; &nbsp;2nd product = 0</font>"
       ],
       "metadata": {},
       "output_type": "display_data",
       "text": [
        "<IPython.core.display.HTML object>"
       ]
      },
      {
       "html": [
        "<font size=3 color=black>&nbsp; &nbsp; &nbsp; &nbsp;$\\partial_{\\theta} \\Gamma^{\\theta}{}_{\\phi\\theta} = 0$</font>"
       ],
       "metadata": {},
       "output_type": "display_data",
       "text": [
        "<IPython.core.display.HTML object>"
       ]
      },
      {
       "html": [
        "<font size=3 color=black>&nbsp; &nbsp; &nbsp; &nbsp;$\\partial_{\\phi} \\Gamma^{\\theta}{}_{\\theta\\theta} = 0$</font>"
       ],
       "metadata": {},
       "output_type": "display_data",
       "text": [
        "<IPython.core.display.HTML object>"
       ]
      },
      {
       "html": [
        "<font size=3 color=black>$R^{\\theta}{}_{\\theta\\theta\\phi}$</font>"
       ],
       "metadata": {},
       "output_type": "display_data",
       "text": [
        "<IPython.core.display.HTML object>"
       ]
      },
      {
       "html": [
        "<font size=3 color=black>$ = (0)-(0)+(0)-(0)$</font>"
       ],
       "metadata": {},
       "output_type": "display_data",
       "text": [
        "<IPython.core.display.HTML object>"
       ]
      },
      {
       "html": [
        "<font size=3 color=black>$ = 0$</font>"
       ],
       "metadata": {},
       "output_type": "display_data",
       "text": [
        "<IPython.core.display.HTML object>"
       ]
      },
      {
       "output_type": "stream",
       "stream": "stdout",
       "text": [
        "\n"
       ]
      },
      {
       "html": [
        "<font size=3 color=black>Doing $R^{\\alpha=0}_{\\rho=0, \\gamma=1, \\beta=0}$</font>"
       ],
       "metadata": {},
       "output_type": "display_data",
       "text": [
        "<IPython.core.display.HTML object>"
       ]
      },
      {
       "html": [
        "<font size=3 color=black>&nbsp; &nbsp; &nbsp; &nbsp;&nbsp; &nbsp; &nbsp; &nbsp;$\\sigma=0:\\;$$\\Gamma^{\\theta}{}_{\\phi\\theta} \\Gamma^{\\theta}{}_{\\theta\\theta} = 0$</font>"
       ],
       "metadata": {},
       "output_type": "display_data",
       "text": [
        "<IPython.core.display.HTML object>"
       ]
      },
      {
       "html": [
        "<font size=3 color=black>&nbsp; &nbsp; &nbsp; &nbsp;&nbsp; &nbsp; &nbsp; &nbsp;$\\sigma=1:\\;$$\\Gamma^{\\theta}{}_{\\phi\\phi} \\Gamma^{\\phi}{}_{\\theta\\theta} = 0$</font>"
       ],
       "metadata": {},
       "output_type": "display_data",
       "text": [
        "<IPython.core.display.HTML object>"
       ]
      },
      {
       "html": [
        "<font size=3 color=black>&nbsp; &nbsp; &nbsp; &nbsp;1st product = 0</font>"
       ],
       "metadata": {},
       "output_type": "display_data",
       "text": [
        "<IPython.core.display.HTML object>"
       ]
      },
      {
       "html": [
        "<font size=3 color=black>&nbsp; &nbsp; &nbsp; &nbsp;&nbsp; &nbsp; &nbsp; &nbsp;$\\sigma=0:\\;$$\\Gamma^{\\theta}{}_{\\theta\\theta} \\Gamma^{\\theta}{}_{\\phi\\theta} = 0$</font>"
       ],
       "metadata": {},
       "output_type": "display_data",
       "text": [
        "<IPython.core.display.HTML object>"
       ]
      },
      {
       "html": [
        "<font size=3 color=black>&nbsp; &nbsp; &nbsp; &nbsp;&nbsp; &nbsp; &nbsp; &nbsp;$\\sigma=1:\\;$$\\Gamma^{\\theta}{}_{\\theta\\phi} \\Gamma^{\\phi}{}_{\\phi\\theta} = 0$</font>"
       ],
       "metadata": {},
       "output_type": "display_data",
       "text": [
        "<IPython.core.display.HTML object>"
       ]
      },
      {
       "html": [
        "<font size=3 color=black>&nbsp; &nbsp; &nbsp; &nbsp;2nd product = 0</font>"
       ],
       "metadata": {},
       "output_type": "display_data",
       "text": [
        "<IPython.core.display.HTML object>"
       ]
      },
      {
       "html": [
        "<font size=3 color=black>&nbsp; &nbsp; &nbsp; &nbsp;$\\partial_{\\phi} \\Gamma^{\\theta}{}_{\\theta\\theta} = 0$</font>"
       ],
       "metadata": {},
       "output_type": "display_data",
       "text": [
        "<IPython.core.display.HTML object>"
       ]
      },
      {
       "html": [
        "<font size=3 color=black>&nbsp; &nbsp; &nbsp; &nbsp;$\\partial_{\\theta} \\Gamma^{\\theta}{}_{\\phi\\theta} = 0$</font>"
       ],
       "metadata": {},
       "output_type": "display_data",
       "text": [
        "<IPython.core.display.HTML object>"
       ]
      },
      {
       "html": [
        "<font size=3 color=black>$R^{\\theta}{}_{\\theta\\phi\\theta}$</font>"
       ],
       "metadata": {},
       "output_type": "display_data",
       "text": [
        "<IPython.core.display.HTML object>"
       ]
      },
      {
       "html": [
        "<font size=3 color=black>$ = (0)-(0)+(0)-(0)$</font>"
       ],
       "metadata": {},
       "output_type": "display_data",
       "text": [
        "<IPython.core.display.HTML object>"
       ]
      },
      {
       "html": [
        "<font size=3 color=black>$ = 0$</font>"
       ],
       "metadata": {},
       "output_type": "display_data",
       "text": [
        "<IPython.core.display.HTML object>"
       ]
      },
      {
       "output_type": "stream",
       "stream": "stdout",
       "text": [
        "\n"
       ]
      },
      {
       "html": [
        "<font size=3 color=black>Doing $R^{\\alpha=0}_{\\rho=0, \\gamma=1, \\beta=1}$</font>"
       ],
       "metadata": {},
       "output_type": "display_data",
       "text": [
        "<IPython.core.display.HTML object>"
       ]
      },
      {
       "html": [
        "<font size=3 color=black>&nbsp; &nbsp; &nbsp; &nbsp;&nbsp; &nbsp; &nbsp; &nbsp;$\\sigma=0:\\;$$\\Gamma^{\\theta}{}_{\\phi\\theta} \\Gamma^{\\theta}{}_{\\phi\\theta} = 0$</font>"
       ],
       "metadata": {},
       "output_type": "display_data",
       "text": [
        "<IPython.core.display.HTML object>"
       ]
      },
      {
       "html": [
        "<font size=3 color=black>&nbsp; &nbsp; &nbsp; &nbsp;&nbsp; &nbsp; &nbsp; &nbsp;$\\sigma=1:\\;$$\\Gamma^{\\theta}{}_{\\phi\\phi} \\Gamma^{\\phi}{}_{\\phi\\theta} = - \\cos^{2}{\\left (\\theta \\right )}$</font>"
       ],
       "metadata": {},
       "output_type": "display_data",
       "text": [
        "<IPython.core.display.HTML object>"
       ]
      },
      {
       "html": [
        "<font size=3 color=black>&nbsp; &nbsp; &nbsp; &nbsp;1st product = -cos(theta)**2</font>"
       ],
       "metadata": {},
       "output_type": "display_data",
       "text": [
        "<IPython.core.display.HTML object>"
       ]
      },
      {
       "html": [
        "<font size=3 color=black>&nbsp; &nbsp; &nbsp; &nbsp;&nbsp; &nbsp; &nbsp; &nbsp;$\\sigma=0:\\;$$\\Gamma^{\\theta}{}_{\\phi\\theta} \\Gamma^{\\theta}{}_{\\phi\\theta} = 0$</font>"
       ],
       "metadata": {},
       "output_type": "display_data",
       "text": [
        "<IPython.core.display.HTML object>"
       ]
      },
      {
       "html": [
        "<font size=3 color=black>&nbsp; &nbsp; &nbsp; &nbsp;&nbsp; &nbsp; &nbsp; &nbsp;$\\sigma=1:\\;$$\\Gamma^{\\theta}{}_{\\phi\\phi} \\Gamma^{\\phi}{}_{\\phi\\theta} = - \\cos^{2}{\\left (\\theta \\right )}$</font>"
       ],
       "metadata": {},
       "output_type": "display_data",
       "text": [
        "<IPython.core.display.HTML object>"
       ]
      },
      {
       "html": [
        "<font size=3 color=black>&nbsp; &nbsp; &nbsp; &nbsp;2nd product = -cos(theta)**2</font>"
       ],
       "metadata": {},
       "output_type": "display_data",
       "text": [
        "<IPython.core.display.HTML object>"
       ]
      },
      {
       "html": [
        "<font size=3 color=black>&nbsp; &nbsp; &nbsp; &nbsp;$\\partial_{\\phi} \\Gamma^{\\theta}{}_{\\phi\\theta} = 0$</font>"
       ],
       "metadata": {},
       "output_type": "display_data",
       "text": [
        "<IPython.core.display.HTML object>"
       ]
      },
      {
       "html": [
        "<font size=3 color=black>&nbsp; &nbsp; &nbsp; &nbsp;$\\partial_{\\phi} \\Gamma^{\\theta}{}_{\\phi\\theta} = 0$</font>"
       ],
       "metadata": {},
       "output_type": "display_data",
       "text": [
        "<IPython.core.display.HTML object>"
       ]
      },
      {
       "html": [
        "<font size=3 color=black>$R^{\\theta}{}_{\\theta\\phi\\phi}$</font>"
       ],
       "metadata": {},
       "output_type": "display_data",
       "text": [
        "<IPython.core.display.HTML object>"
       ]
      },
      {
       "html": [
        "<font size=3 color=black>$ = (- \\cos^{2}{\\left (\\theta \\right )})-(- \\cos^{2}{\\left (\\theta \\right )})+(0)-(0)$</font>"
       ],
       "metadata": {},
       "output_type": "display_data",
       "text": [
        "<IPython.core.display.HTML object>"
       ]
      },
      {
       "html": [
        "<font size=3 color=black>$ = 0$</font>"
       ],
       "metadata": {},
       "output_type": "display_data",
       "text": [
        "<IPython.core.display.HTML object>"
       ]
      },
      {
       "output_type": "stream",
       "stream": "stdout",
       "text": [
        "\n"
       ]
      },
      {
       "html": [
        "<font size=3 color=black>Doing $R^{\\alpha=0}_{\\rho=1, \\gamma=0, \\beta=0}$</font>"
       ],
       "metadata": {},
       "output_type": "display_data",
       "text": [
        "<IPython.core.display.HTML object>"
       ]
      },
      {
       "html": [
        "<font size=3 color=black>&nbsp; &nbsp; &nbsp; &nbsp;&nbsp; &nbsp; &nbsp; &nbsp;$\\sigma=0:\\;$$\\Gamma^{\\theta}{}_{\\theta\\theta} \\Gamma^{\\theta}{}_{\\theta\\phi} = 0$</font>"
       ],
       "metadata": {},
       "output_type": "display_data",
       "text": [
        "<IPython.core.display.HTML object>"
       ]
      },
      {
       "html": [
        "<font size=3 color=black>&nbsp; &nbsp; &nbsp; &nbsp;&nbsp; &nbsp; &nbsp; &nbsp;$\\sigma=1:\\;$$\\Gamma^{\\theta}{}_{\\theta\\phi} \\Gamma^{\\phi}{}_{\\theta\\phi} = 0$</font>"
       ],
       "metadata": {},
       "output_type": "display_data",
       "text": [
        "<IPython.core.display.HTML object>"
       ]
      },
      {
       "html": [
        "<font size=3 color=black>&nbsp; &nbsp; &nbsp; &nbsp;1st product = 0</font>"
       ],
       "metadata": {},
       "output_type": "display_data",
       "text": [
        "<IPython.core.display.HTML object>"
       ]
      },
      {
       "html": [
        "<font size=3 color=black>&nbsp; &nbsp; &nbsp; &nbsp;&nbsp; &nbsp; &nbsp; &nbsp;$\\sigma=0:\\;$$\\Gamma^{\\theta}{}_{\\theta\\theta} \\Gamma^{\\theta}{}_{\\theta\\phi} = 0$</font>"
       ],
       "metadata": {},
       "output_type": "display_data",
       "text": [
        "<IPython.core.display.HTML object>"
       ]
      },
      {
       "html": [
        "<font size=3 color=black>&nbsp; &nbsp; &nbsp; &nbsp;&nbsp; &nbsp; &nbsp; &nbsp;$\\sigma=1:\\;$$\\Gamma^{\\theta}{}_{\\theta\\phi} \\Gamma^{\\phi}{}_{\\theta\\phi} = 0$</font>"
       ],
       "metadata": {},
       "output_type": "display_data",
       "text": [
        "<IPython.core.display.HTML object>"
       ]
      },
      {
       "html": [
        "<font size=3 color=black>&nbsp; &nbsp; &nbsp; &nbsp;2nd product = 0</font>"
       ],
       "metadata": {},
       "output_type": "display_data",
       "text": [
        "<IPython.core.display.HTML object>"
       ]
      },
      {
       "html": [
        "<font size=3 color=black>&nbsp; &nbsp; &nbsp; &nbsp;$\\partial_{\\theta} \\Gamma^{\\theta}{}_{\\theta\\phi} = 0$</font>"
       ],
       "metadata": {},
       "output_type": "display_data",
       "text": [
        "<IPython.core.display.HTML object>"
       ]
      },
      {
       "html": [
        "<font size=3 color=black>&nbsp; &nbsp; &nbsp; &nbsp;$\\partial_{\\theta} \\Gamma^{\\theta}{}_{\\theta\\phi} = 0$</font>"
       ],
       "metadata": {},
       "output_type": "display_data",
       "text": [
        "<IPython.core.display.HTML object>"
       ]
      },
      {
       "html": [
        "<font size=3 color=black>$R^{\\theta}{}_{\\phi\\theta\\theta}$</font>"
       ],
       "metadata": {},
       "output_type": "display_data",
       "text": [
        "<IPython.core.display.HTML object>"
       ]
      },
      {
       "html": [
        "<font size=3 color=black>$ = (0)-(0)+(0)-(0)$</font>"
       ],
       "metadata": {},
       "output_type": "display_data",
       "text": [
        "<IPython.core.display.HTML object>"
       ]
      },
      {
       "html": [
        "<font size=3 color=black>$ = 0$</font>"
       ],
       "metadata": {},
       "output_type": "display_data",
       "text": [
        "<IPython.core.display.HTML object>"
       ]
      },
      {
       "output_type": "stream",
       "stream": "stdout",
       "text": [
        "\n"
       ]
      },
      {
       "html": [
        "<font size=3 color=black>Doing $R^{\\alpha=0}_{\\rho=1, \\gamma=0, \\beta=1}$</font>"
       ],
       "metadata": {},
       "output_type": "display_data",
       "text": [
        "<IPython.core.display.HTML object>"
       ]
      },
      {
       "html": [
        "<font size=3 color=black>&nbsp; &nbsp; &nbsp; &nbsp;&nbsp; &nbsp; &nbsp; &nbsp;$\\sigma=0:\\;$$\\Gamma^{\\theta}{}_{\\theta\\theta} \\Gamma^{\\theta}{}_{\\phi\\phi} = 0$</font>"
       ],
       "metadata": {},
       "output_type": "display_data",
       "text": [
        "<IPython.core.display.HTML object>"
       ]
      },
      {
       "html": [
        "<font size=3 color=black>&nbsp; &nbsp; &nbsp; &nbsp;&nbsp; &nbsp; &nbsp; &nbsp;$\\sigma=1:\\;$$\\Gamma^{\\theta}{}_{\\theta\\phi} \\Gamma^{\\phi}{}_{\\phi\\phi} = 0$</font>"
       ],
       "metadata": {},
       "output_type": "display_data",
       "text": [
        "<IPython.core.display.HTML object>"
       ]
      },
      {
       "html": [
        "<font size=3 color=black>&nbsp; &nbsp; &nbsp; &nbsp;1st product = 0</font>"
       ],
       "metadata": {},
       "output_type": "display_data",
       "text": [
        "<IPython.core.display.HTML object>"
       ]
      },
      {
       "html": [
        "<font size=3 color=black>&nbsp; &nbsp; &nbsp; &nbsp;&nbsp; &nbsp; &nbsp; &nbsp;$\\sigma=0:\\;$$\\Gamma^{\\theta}{}_{\\phi\\theta} \\Gamma^{\\theta}{}_{\\theta\\phi} = 0$</font>"
       ],
       "metadata": {},
       "output_type": "display_data",
       "text": [
        "<IPython.core.display.HTML object>"
       ]
      },
      {
       "html": [
        "<font size=3 color=black>&nbsp; &nbsp; &nbsp; &nbsp;&nbsp; &nbsp; &nbsp; &nbsp;$\\sigma=1:\\;$$\\Gamma^{\\theta}{}_{\\phi\\phi} \\Gamma^{\\phi}{}_{\\theta\\phi} = - \\cos^{2}{\\left (\\theta \\right )}$</font>"
       ],
       "metadata": {},
       "output_type": "display_data",
       "text": [
        "<IPython.core.display.HTML object>"
       ]
      },
      {
       "html": [
        "<font size=3 color=black>&nbsp; &nbsp; &nbsp; &nbsp;2nd product = -cos(theta)**2</font>"
       ],
       "metadata": {},
       "output_type": "display_data",
       "text": [
        "<IPython.core.display.HTML object>"
       ]
      },
      {
       "html": [
        "<font size=3 color=black>&nbsp; &nbsp; &nbsp; &nbsp;$\\partial_{\\theta} \\Gamma^{\\theta}{}_{\\phi\\phi} = \\sin^{2}{\\left (\\theta \\right )} - \\cos^{2}{\\left (\\theta \\right )}$</font>"
       ],
       "metadata": {},
       "output_type": "display_data",
       "text": [
        "<IPython.core.display.HTML object>"
       ]
      },
      {
       "html": [
        "<font size=3 color=black>&nbsp; &nbsp; &nbsp; &nbsp;$\\partial_{\\phi} \\Gamma^{\\theta}{}_{\\theta\\phi} = 0$</font>"
       ],
       "metadata": {},
       "output_type": "display_data",
       "text": [
        "<IPython.core.display.HTML object>"
       ]
      },
      {
       "html": [
        "<font size=3 color=black>$R^{\\theta}{}_{\\phi\\theta\\phi}$</font>"
       ],
       "metadata": {},
       "output_type": "display_data",
       "text": [
        "<IPython.core.display.HTML object>"
       ]
      },
      {
       "html": [
        "<font size=3 color=black>$ = (0)-(- \\cos^{2}{\\left (\\theta \\right )})+(\\sin^{2}{\\left (\\theta \\right )} - \\cos^{2}{\\left (\\theta \\right )})-(0)$</font>"
       ],
       "metadata": {},
       "output_type": "display_data",
       "text": [
        "<IPython.core.display.HTML object>"
       ]
      },
      {
       "html": [
        "<font size=3 color=black>$ = \\sin^{2}{\\left (\\theta \\right )}$</font>"
       ],
       "metadata": {},
       "output_type": "display_data",
       "text": [
        "<IPython.core.display.HTML object>"
       ]
      },
      {
       "output_type": "stream",
       "stream": "stdout",
       "text": [
        "\n"
       ]
      },
      {
       "html": [
        "<font size=3 color=black>Doing $R^{\\alpha=0}_{\\rho=1, \\gamma=1, \\beta=0}$</font>"
       ],
       "metadata": {},
       "output_type": "display_data",
       "text": [
        "<IPython.core.display.HTML object>"
       ]
      },
      {
       "html": [
        "<font size=3 color=black>&nbsp; &nbsp; &nbsp; &nbsp;&nbsp; &nbsp; &nbsp; &nbsp;$\\sigma=0:\\;$$\\Gamma^{\\theta}{}_{\\phi\\theta} \\Gamma^{\\theta}{}_{\\theta\\phi} = 0$</font>"
       ],
       "metadata": {},
       "output_type": "display_data",
       "text": [
        "<IPython.core.display.HTML object>"
       ]
      },
      {
       "html": [
        "<font size=3 color=black>&nbsp; &nbsp; &nbsp; &nbsp;&nbsp; &nbsp; &nbsp; &nbsp;$\\sigma=1:\\;$$\\Gamma^{\\theta}{}_{\\phi\\phi} \\Gamma^{\\phi}{}_{\\theta\\phi} = - \\cos^{2}{\\left (\\theta \\right )}$</font>"
       ],
       "metadata": {},
       "output_type": "display_data",
       "text": [
        "<IPython.core.display.HTML object>"
       ]
      },
      {
       "html": [
        "<font size=3 color=black>&nbsp; &nbsp; &nbsp; &nbsp;1st product = -cos(theta)**2</font>"
       ],
       "metadata": {},
       "output_type": "display_data",
       "text": [
        "<IPython.core.display.HTML object>"
       ]
      },
      {
       "html": [
        "<font size=3 color=black>&nbsp; &nbsp; &nbsp; &nbsp;&nbsp; &nbsp; &nbsp; &nbsp;$\\sigma=0:\\;$$\\Gamma^{\\theta}{}_{\\theta\\theta} \\Gamma^{\\theta}{}_{\\phi\\phi} = 0$</font>"
       ],
       "metadata": {},
       "output_type": "display_data",
       "text": [
        "<IPython.core.display.HTML object>"
       ]
      },
      {
       "html": [
        "<font size=3 color=black>&nbsp; &nbsp; &nbsp; &nbsp;&nbsp; &nbsp; &nbsp; &nbsp;$\\sigma=1:\\;$$\\Gamma^{\\theta}{}_{\\theta\\phi} \\Gamma^{\\phi}{}_{\\phi\\phi} = 0$</font>"
       ],
       "metadata": {},
       "output_type": "display_data",
       "text": [
        "<IPython.core.display.HTML object>"
       ]
      },
      {
       "html": [
        "<font size=3 color=black>&nbsp; &nbsp; &nbsp; &nbsp;2nd product = 0</font>"
       ],
       "metadata": {},
       "output_type": "display_data",
       "text": [
        "<IPython.core.display.HTML object>"
       ]
      },
      {
       "html": [
        "<font size=3 color=black>&nbsp; &nbsp; &nbsp; &nbsp;$\\partial_{\\phi} \\Gamma^{\\theta}{}_{\\theta\\phi} = 0$</font>"
       ],
       "metadata": {},
       "output_type": "display_data",
       "text": [
        "<IPython.core.display.HTML object>"
       ]
      },
      {
       "html": [
        "<font size=3 color=black>&nbsp; &nbsp; &nbsp; &nbsp;$\\partial_{\\theta} \\Gamma^{\\theta}{}_{\\phi\\phi} = \\sin^{2}{\\left (\\theta \\right )} - \\cos^{2}{\\left (\\theta \\right )}$</font>"
       ],
       "metadata": {},
       "output_type": "display_data",
       "text": [
        "<IPython.core.display.HTML object>"
       ]
      },
      {
       "html": [
        "<font size=3 color=black>$R^{\\theta}{}_{\\phi\\phi\\theta}$</font>"
       ],
       "metadata": {},
       "output_type": "display_data",
       "text": [
        "<IPython.core.display.HTML object>"
       ]
      },
      {
       "html": [
        "<font size=3 color=black>$ = (- \\cos^{2}{\\left (\\theta \\right )})-(0)+(0)-(\\sin^{2}{\\left (\\theta \\right )} - \\cos^{2}{\\left (\\theta \\right )})$</font>"
       ],
       "metadata": {},
       "output_type": "display_data",
       "text": [
        "<IPython.core.display.HTML object>"
       ]
      },
      {
       "html": [
        "<font size=3 color=black>$ = - \\sin^{2}{\\left (\\theta \\right )}$</font>"
       ],
       "metadata": {},
       "output_type": "display_data",
       "text": [
        "<IPython.core.display.HTML object>"
       ]
      },
      {
       "output_type": "stream",
       "stream": "stdout",
       "text": [
        "\n"
       ]
      },
      {
       "html": [
        "<font size=3 color=black>Doing $R^{\\alpha=0}_{\\rho=1, \\gamma=1, \\beta=1}$</font>"
       ],
       "metadata": {},
       "output_type": "display_data",
       "text": [
        "<IPython.core.display.HTML object>"
       ]
      },
      {
       "html": [
        "<font size=3 color=black>&nbsp; &nbsp; &nbsp; &nbsp;&nbsp; &nbsp; &nbsp; &nbsp;$\\sigma=0:\\;$$\\Gamma^{\\theta}{}_{\\phi\\theta} \\Gamma^{\\theta}{}_{\\phi\\phi} = 0$</font>"
       ],
       "metadata": {},
       "output_type": "display_data",
       "text": [
        "<IPython.core.display.HTML object>"
       ]
      },
      {
       "html": [
        "<font size=3 color=black>&nbsp; &nbsp; &nbsp; &nbsp;&nbsp; &nbsp; &nbsp; &nbsp;$\\sigma=1:\\;$$\\Gamma^{\\theta}{}_{\\phi\\phi} \\Gamma^{\\phi}{}_{\\phi\\phi} = 0$</font>"
       ],
       "metadata": {},
       "output_type": "display_data",
       "text": [
        "<IPython.core.display.HTML object>"
       ]
      },
      {
       "html": [
        "<font size=3 color=black>&nbsp; &nbsp; &nbsp; &nbsp;1st product = 0</font>"
       ],
       "metadata": {},
       "output_type": "display_data",
       "text": [
        "<IPython.core.display.HTML object>"
       ]
      },
      {
       "html": [
        "<font size=3 color=black>&nbsp; &nbsp; &nbsp; &nbsp;&nbsp; &nbsp; &nbsp; &nbsp;$\\sigma=0:\\;$$\\Gamma^{\\theta}{}_{\\phi\\theta} \\Gamma^{\\theta}{}_{\\phi\\phi} = 0$</font>"
       ],
       "metadata": {},
       "output_type": "display_data",
       "text": [
        "<IPython.core.display.HTML object>"
       ]
      },
      {
       "html": [
        "<font size=3 color=black>&nbsp; &nbsp; &nbsp; &nbsp;&nbsp; &nbsp; &nbsp; &nbsp;$\\sigma=1:\\;$$\\Gamma^{\\theta}{}_{\\phi\\phi} \\Gamma^{\\phi}{}_{\\phi\\phi} = 0$</font>"
       ],
       "metadata": {},
       "output_type": "display_data",
       "text": [
        "<IPython.core.display.HTML object>"
       ]
      },
      {
       "html": [
        "<font size=3 color=black>&nbsp; &nbsp; &nbsp; &nbsp;2nd product = 0</font>"
       ],
       "metadata": {},
       "output_type": "display_data",
       "text": [
        "<IPython.core.display.HTML object>"
       ]
      },
      {
       "html": [
        "<font size=3 color=black>&nbsp; &nbsp; &nbsp; &nbsp;$\\partial_{\\phi} \\Gamma^{\\theta}{}_{\\phi\\phi} = 0$</font>"
       ],
       "metadata": {},
       "output_type": "display_data",
       "text": [
        "<IPython.core.display.HTML object>"
       ]
      },
      {
       "html": [
        "<font size=3 color=black>&nbsp; &nbsp; &nbsp; &nbsp;$\\partial_{\\phi} \\Gamma^{\\theta}{}_{\\phi\\phi} = 0$</font>"
       ],
       "metadata": {},
       "output_type": "display_data",
       "text": [
        "<IPython.core.display.HTML object>"
       ]
      },
      {
       "html": [
        "<font size=3 color=black>$R^{\\theta}{}_{\\phi\\phi\\phi}$</font>"
       ],
       "metadata": {},
       "output_type": "display_data",
       "text": [
        "<IPython.core.display.HTML object>"
       ]
      },
      {
       "html": [
        "<font size=3 color=black>$ = (0)-(0)+(0)-(0)$</font>"
       ],
       "metadata": {},
       "output_type": "display_data",
       "text": [
        "<IPython.core.display.HTML object>"
       ]
      },
      {
       "html": [
        "<font size=3 color=black>$ = 0$</font>"
       ],
       "metadata": {},
       "output_type": "display_data",
       "text": [
        "<IPython.core.display.HTML object>"
       ]
      },
      {
       "output_type": "stream",
       "stream": "stdout",
       "text": [
        "\n"
       ]
      },
      {
       "html": [
        "<font size=3 color=black>Doing $R^{\\alpha=1}_{\\rho=0, \\gamma=0, \\beta=0}$</font>"
       ],
       "metadata": {},
       "output_type": "display_data",
       "text": [
        "<IPython.core.display.HTML object>"
       ]
      },
      {
       "html": [
        "<font size=3 color=black>&nbsp; &nbsp; &nbsp; &nbsp;&nbsp; &nbsp; &nbsp; &nbsp;$\\sigma=0:\\;$$\\Gamma^{\\phi}{}_{\\theta\\theta} \\Gamma^{\\theta}{}_{\\theta\\theta} = 0$</font>"
       ],
       "metadata": {},
       "output_type": "display_data",
       "text": [
        "<IPython.core.display.HTML object>"
       ]
      },
      {
       "html": [
        "<font size=3 color=black>&nbsp; &nbsp; &nbsp; &nbsp;&nbsp; &nbsp; &nbsp; &nbsp;$\\sigma=1:\\;$$\\Gamma^{\\phi}{}_{\\theta\\phi} \\Gamma^{\\phi}{}_{\\theta\\theta} = 0$</font>"
       ],
       "metadata": {},
       "output_type": "display_data",
       "text": [
        "<IPython.core.display.HTML object>"
       ]
      },
      {
       "html": [
        "<font size=3 color=black>&nbsp; &nbsp; &nbsp; &nbsp;1st product = 0</font>"
       ],
       "metadata": {},
       "output_type": "display_data",
       "text": [
        "<IPython.core.display.HTML object>"
       ]
      },
      {
       "html": [
        "<font size=3 color=black>&nbsp; &nbsp; &nbsp; &nbsp;&nbsp; &nbsp; &nbsp; &nbsp;$\\sigma=0:\\;$$\\Gamma^{\\phi}{}_{\\theta\\theta} \\Gamma^{\\theta}{}_{\\theta\\theta} = 0$</font>"
       ],
       "metadata": {},
       "output_type": "display_data",
       "text": [
        "<IPython.core.display.HTML object>"
       ]
      },
      {
       "html": [
        "<font size=3 color=black>&nbsp; &nbsp; &nbsp; &nbsp;&nbsp; &nbsp; &nbsp; &nbsp;$\\sigma=1:\\;$$\\Gamma^{\\phi}{}_{\\theta\\phi} \\Gamma^{\\phi}{}_{\\theta\\theta} = 0$</font>"
       ],
       "metadata": {},
       "output_type": "display_data",
       "text": [
        "<IPython.core.display.HTML object>"
       ]
      },
      {
       "html": [
        "<font size=3 color=black>&nbsp; &nbsp; &nbsp; &nbsp;2nd product = 0</font>"
       ],
       "metadata": {},
       "output_type": "display_data",
       "text": [
        "<IPython.core.display.HTML object>"
       ]
      },
      {
       "html": [
        "<font size=3 color=black>&nbsp; &nbsp; &nbsp; &nbsp;$\\partial_{\\theta} \\Gamma^{\\phi}{}_{\\theta\\theta} = 0$</font>"
       ],
       "metadata": {},
       "output_type": "display_data",
       "text": [
        "<IPython.core.display.HTML object>"
       ]
      },
      {
       "html": [
        "<font size=3 color=black>&nbsp; &nbsp; &nbsp; &nbsp;$\\partial_{\\theta} \\Gamma^{\\phi}{}_{\\theta\\theta} = 0$</font>"
       ],
       "metadata": {},
       "output_type": "display_data",
       "text": [
        "<IPython.core.display.HTML object>"
       ]
      },
      {
       "html": [
        "<font size=3 color=black>$R^{\\phi}{}_{\\theta\\theta\\theta}$</font>"
       ],
       "metadata": {},
       "output_type": "display_data",
       "text": [
        "<IPython.core.display.HTML object>"
       ]
      },
      {
       "html": [
        "<font size=3 color=black>$ = (0)-(0)+(0)-(0)$</font>"
       ],
       "metadata": {},
       "output_type": "display_data",
       "text": [
        "<IPython.core.display.HTML object>"
       ]
      },
      {
       "html": [
        "<font size=3 color=black>$ = 0$</font>"
       ],
       "metadata": {},
       "output_type": "display_data",
       "text": [
        "<IPython.core.display.HTML object>"
       ]
      },
      {
       "output_type": "stream",
       "stream": "stdout",
       "text": [
        "\n"
       ]
      },
      {
       "html": [
        "<font size=3 color=black>Doing $R^{\\alpha=1}_{\\rho=0, \\gamma=0, \\beta=1}$</font>"
       ],
       "metadata": {},
       "output_type": "display_data",
       "text": [
        "<IPython.core.display.HTML object>"
       ]
      },
      {
       "html": [
        "<font size=3 color=black>&nbsp; &nbsp; &nbsp; &nbsp;&nbsp; &nbsp; &nbsp; &nbsp;$\\sigma=0:\\;$$\\Gamma^{\\phi}{}_{\\theta\\theta} \\Gamma^{\\theta}{}_{\\phi\\theta} = 0$</font>"
       ],
       "metadata": {},
       "output_type": "display_data",
       "text": [
        "<IPython.core.display.HTML object>"
       ]
      },
      {
       "html": [
        "<font size=3 color=black>&nbsp; &nbsp; &nbsp; &nbsp;&nbsp; &nbsp; &nbsp; &nbsp;$\\sigma=1:\\;$$\\Gamma^{\\phi}{}_{\\theta\\phi} \\Gamma^{\\phi}{}_{\\phi\\theta} = \\frac{\\cos^{2}{\\left (\\theta \\right )}}{\\sin^{2}{\\left (\\theta \\right )}}$</font>"
       ],
       "metadata": {},
       "output_type": "display_data",
       "text": [
        "<IPython.core.display.HTML object>"
       ]
      },
      {
       "html": [
        "<font size=3 color=black>&nbsp; &nbsp; &nbsp; &nbsp;1st product = cos(theta)**2/sin(theta)**2</font>"
       ],
       "metadata": {},
       "output_type": "display_data",
       "text": [
        "<IPython.core.display.HTML object>"
       ]
      },
      {
       "html": [
        "<font size=3 color=black>&nbsp; &nbsp; &nbsp; &nbsp;&nbsp; &nbsp; &nbsp; &nbsp;$\\sigma=0:\\;$$\\Gamma^{\\phi}{}_{\\phi\\theta} \\Gamma^{\\theta}{}_{\\theta\\theta} = 0$</font>"
       ],
       "metadata": {},
       "output_type": "display_data",
       "text": [
        "<IPython.core.display.HTML object>"
       ]
      },
      {
       "html": [
        "<font size=3 color=black>&nbsp; &nbsp; &nbsp; &nbsp;&nbsp; &nbsp; &nbsp; &nbsp;$\\sigma=1:\\;$$\\Gamma^{\\phi}{}_{\\phi\\phi} \\Gamma^{\\phi}{}_{\\theta\\theta} = 0$</font>"
       ],
       "metadata": {},
       "output_type": "display_data",
       "text": [
        "<IPython.core.display.HTML object>"
       ]
      },
      {
       "html": [
        "<font size=3 color=black>&nbsp; &nbsp; &nbsp; &nbsp;2nd product = 0</font>"
       ],
       "metadata": {},
       "output_type": "display_data",
       "text": [
        "<IPython.core.display.HTML object>"
       ]
      },
      {
       "html": [
        "<font size=3 color=black>&nbsp; &nbsp; &nbsp; &nbsp;$\\partial_{\\theta} \\Gamma^{\\phi}{}_{\\phi\\theta} = -1 - \\frac{\\cos^{2}{\\left (\\theta \\right )}}{\\sin^{2}{\\left (\\theta \\right )}}$</font>"
       ],
       "metadata": {},
       "output_type": "display_data",
       "text": [
        "<IPython.core.display.HTML object>"
       ]
      },
      {
       "html": [
        "<font size=3 color=black>&nbsp; &nbsp; &nbsp; &nbsp;$\\partial_{\\phi} \\Gamma^{\\phi}{}_{\\theta\\theta} = 0$</font>"
       ],
       "metadata": {},
       "output_type": "display_data",
       "text": [
        "<IPython.core.display.HTML object>"
       ]
      },
      {
       "html": [
        "<font size=3 color=black>$R^{\\phi}{}_{\\theta\\theta\\phi}$</font>"
       ],
       "metadata": {},
       "output_type": "display_data",
       "text": [
        "<IPython.core.display.HTML object>"
       ]
      },
      {
       "html": [
        "<font size=3 color=black>$ = (\\frac{\\cos^{2}{\\left (\\theta \\right )}}{\\sin^{2}{\\left (\\theta \\right )}})-(0)+(-1 - \\frac{\\cos^{2}{\\left (\\theta \\right )}}{\\sin^{2}{\\left (\\theta \\right )}})-(0)$</font>"
       ],
       "metadata": {},
       "output_type": "display_data",
       "text": [
        "<IPython.core.display.HTML object>"
       ]
      },
      {
       "html": [
        "<font size=3 color=black>$ = -1$</font>"
       ],
       "metadata": {},
       "output_type": "display_data",
       "text": [
        "<IPython.core.display.HTML object>"
       ]
      },
      {
       "output_type": "stream",
       "stream": "stdout",
       "text": [
        "\n"
       ]
      },
      {
       "html": [
        "<font size=3 color=black>Doing $R^{\\alpha=1}_{\\rho=0, \\gamma=1, \\beta=0}$</font>"
       ],
       "metadata": {},
       "output_type": "display_data",
       "text": [
        "<IPython.core.display.HTML object>"
       ]
      },
      {
       "html": [
        "<font size=3 color=black>&nbsp; &nbsp; &nbsp; &nbsp;&nbsp; &nbsp; &nbsp; &nbsp;$\\sigma=0:\\;$$\\Gamma^{\\phi}{}_{\\phi\\theta} \\Gamma^{\\theta}{}_{\\theta\\theta} = 0$</font>"
       ],
       "metadata": {},
       "output_type": "display_data",
       "text": [
        "<IPython.core.display.HTML object>"
       ]
      },
      {
       "html": [
        "<font size=3 color=black>&nbsp; &nbsp; &nbsp; &nbsp;&nbsp; &nbsp; &nbsp; &nbsp;$\\sigma=1:\\;$$\\Gamma^{\\phi}{}_{\\phi\\phi} \\Gamma^{\\phi}{}_{\\theta\\theta} = 0$</font>"
       ],
       "metadata": {},
       "output_type": "display_data",
       "text": [
        "<IPython.core.display.HTML object>"
       ]
      },
      {
       "html": [
        "<font size=3 color=black>&nbsp; &nbsp; &nbsp; &nbsp;1st product = 0</font>"
       ],
       "metadata": {},
       "output_type": "display_data",
       "text": [
        "<IPython.core.display.HTML object>"
       ]
      },
      {
       "html": [
        "<font size=3 color=black>&nbsp; &nbsp; &nbsp; &nbsp;&nbsp; &nbsp; &nbsp; &nbsp;$\\sigma=0:\\;$$\\Gamma^{\\phi}{}_{\\theta\\theta} \\Gamma^{\\theta}{}_{\\phi\\theta} = 0$</font>"
       ],
       "metadata": {},
       "output_type": "display_data",
       "text": [
        "<IPython.core.display.HTML object>"
       ]
      },
      {
       "html": [
        "<font size=3 color=black>&nbsp; &nbsp; &nbsp; &nbsp;&nbsp; &nbsp; &nbsp; &nbsp;$\\sigma=1:\\;$$\\Gamma^{\\phi}{}_{\\theta\\phi} \\Gamma^{\\phi}{}_{\\phi\\theta} = \\frac{\\cos^{2}{\\left (\\theta \\right )}}{\\sin^{2}{\\left (\\theta \\right )}}$</font>"
       ],
       "metadata": {},
       "output_type": "display_data",
       "text": [
        "<IPython.core.display.HTML object>"
       ]
      },
      {
       "html": [
        "<font size=3 color=black>&nbsp; &nbsp; &nbsp; &nbsp;2nd product = cos(theta)**2/sin(theta)**2</font>"
       ],
       "metadata": {},
       "output_type": "display_data",
       "text": [
        "<IPython.core.display.HTML object>"
       ]
      },
      {
       "html": [
        "<font size=3 color=black>&nbsp; &nbsp; &nbsp; &nbsp;$\\partial_{\\phi} \\Gamma^{\\phi}{}_{\\theta\\theta} = 0$</font>"
       ],
       "metadata": {},
       "output_type": "display_data",
       "text": [
        "<IPython.core.display.HTML object>"
       ]
      },
      {
       "html": [
        "<font size=3 color=black>&nbsp; &nbsp; &nbsp; &nbsp;$\\partial_{\\theta} \\Gamma^{\\phi}{}_{\\phi\\theta} = -1 - \\frac{\\cos^{2}{\\left (\\theta \\right )}}{\\sin^{2}{\\left (\\theta \\right )}}$</font>"
       ],
       "metadata": {},
       "output_type": "display_data",
       "text": [
        "<IPython.core.display.HTML object>"
       ]
      },
      {
       "html": [
        "<font size=3 color=black>$R^{\\phi}{}_{\\theta\\phi\\theta}$</font>"
       ],
       "metadata": {},
       "output_type": "display_data",
       "text": [
        "<IPython.core.display.HTML object>"
       ]
      },
      {
       "html": [
        "<font size=3 color=black>$ = (0)-(\\frac{\\cos^{2}{\\left (\\theta \\right )}}{\\sin^{2}{\\left (\\theta \\right )}})+(0)-(-1 - \\frac{\\cos^{2}{\\left (\\theta \\right )}}{\\sin^{2}{\\left (\\theta \\right )}})$</font>"
       ],
       "metadata": {},
       "output_type": "display_data",
       "text": [
        "<IPython.core.display.HTML object>"
       ]
      },
      {
       "html": [
        "<font size=3 color=black>$ = 1$</font>"
       ],
       "metadata": {},
       "output_type": "display_data",
       "text": [
        "<IPython.core.display.HTML object>"
       ]
      },
      {
       "output_type": "stream",
       "stream": "stdout",
       "text": [
        "\n"
       ]
      },
      {
       "html": [
        "<font size=3 color=black>Doing $R^{\\alpha=1}_{\\rho=0, \\gamma=1, \\beta=1}$</font>"
       ],
       "metadata": {},
       "output_type": "display_data",
       "text": [
        "<IPython.core.display.HTML object>"
       ]
      },
      {
       "html": [
        "<font size=3 color=black>&nbsp; &nbsp; &nbsp; &nbsp;&nbsp; &nbsp; &nbsp; &nbsp;$\\sigma=0:\\;$$\\Gamma^{\\phi}{}_{\\phi\\theta} \\Gamma^{\\theta}{}_{\\phi\\theta} = 0$</font>"
       ],
       "metadata": {},
       "output_type": "display_data",
       "text": [
        "<IPython.core.display.HTML object>"
       ]
      },
      {
       "html": [
        "<font size=3 color=black>&nbsp; &nbsp; &nbsp; &nbsp;&nbsp; &nbsp; &nbsp; &nbsp;$\\sigma=1:\\;$$\\Gamma^{\\phi}{}_{\\phi\\phi} \\Gamma^{\\phi}{}_{\\phi\\theta} = 0$</font>"
       ],
       "metadata": {},
       "output_type": "display_data",
       "text": [
        "<IPython.core.display.HTML object>"
       ]
      },
      {
       "html": [
        "<font size=3 color=black>&nbsp; &nbsp; &nbsp; &nbsp;1st product = 0</font>"
       ],
       "metadata": {},
       "output_type": "display_data",
       "text": [
        "<IPython.core.display.HTML object>"
       ]
      },
      {
       "html": [
        "<font size=3 color=black>&nbsp; &nbsp; &nbsp; &nbsp;&nbsp; &nbsp; &nbsp; &nbsp;$\\sigma=0:\\;$$\\Gamma^{\\phi}{}_{\\phi\\theta} \\Gamma^{\\theta}{}_{\\phi\\theta} = 0$</font>"
       ],
       "metadata": {},
       "output_type": "display_data",
       "text": [
        "<IPython.core.display.HTML object>"
       ]
      },
      {
       "html": [
        "<font size=3 color=black>&nbsp; &nbsp; &nbsp; &nbsp;&nbsp; &nbsp; &nbsp; &nbsp;$\\sigma=1:\\;$$\\Gamma^{\\phi}{}_{\\phi\\phi} \\Gamma^{\\phi}{}_{\\phi\\theta} = 0$</font>"
       ],
       "metadata": {},
       "output_type": "display_data",
       "text": [
        "<IPython.core.display.HTML object>"
       ]
      },
      {
       "html": [
        "<font size=3 color=black>&nbsp; &nbsp; &nbsp; &nbsp;2nd product = 0</font>"
       ],
       "metadata": {},
       "output_type": "display_data",
       "text": [
        "<IPython.core.display.HTML object>"
       ]
      },
      {
       "html": [
        "<font size=3 color=black>&nbsp; &nbsp; &nbsp; &nbsp;$\\partial_{\\phi} \\Gamma^{\\phi}{}_{\\phi\\theta} = 0$</font>"
       ],
       "metadata": {},
       "output_type": "display_data",
       "text": [
        "<IPython.core.display.HTML object>"
       ]
      },
      {
       "html": [
        "<font size=3 color=black>&nbsp; &nbsp; &nbsp; &nbsp;$\\partial_{\\phi} \\Gamma^{\\phi}{}_{\\phi\\theta} = 0$</font>"
       ],
       "metadata": {},
       "output_type": "display_data",
       "text": [
        "<IPython.core.display.HTML object>"
       ]
      },
      {
       "html": [
        "<font size=3 color=black>$R^{\\phi}{}_{\\theta\\phi\\phi}$</font>"
       ],
       "metadata": {},
       "output_type": "display_data",
       "text": [
        "<IPython.core.display.HTML object>"
       ]
      },
      {
       "html": [
        "<font size=3 color=black>$ = (0)-(0)+(0)-(0)$</font>"
       ],
       "metadata": {},
       "output_type": "display_data",
       "text": [
        "<IPython.core.display.HTML object>"
       ]
      },
      {
       "html": [
        "<font size=3 color=black>$ = 0$</font>"
       ],
       "metadata": {},
       "output_type": "display_data",
       "text": [
        "<IPython.core.display.HTML object>"
       ]
      },
      {
       "output_type": "stream",
       "stream": "stdout",
       "text": [
        "\n"
       ]
      },
      {
       "html": [
        "<font size=3 color=black>Doing $R^{\\alpha=1}_{\\rho=1, \\gamma=0, \\beta=0}$</font>"
       ],
       "metadata": {},
       "output_type": "display_data",
       "text": [
        "<IPython.core.display.HTML object>"
       ]
      },
      {
       "html": [
        "<font size=3 color=black>&nbsp; &nbsp; &nbsp; &nbsp;&nbsp; &nbsp; &nbsp; &nbsp;$\\sigma=0:\\;$$\\Gamma^{\\phi}{}_{\\theta\\theta} \\Gamma^{\\theta}{}_{\\theta\\phi} = 0$</font>"
       ],
       "metadata": {},
       "output_type": "display_data",
       "text": [
        "<IPython.core.display.HTML object>"
       ]
      },
      {
       "html": [
        "<font size=3 color=black>&nbsp; &nbsp; &nbsp; &nbsp;&nbsp; &nbsp; &nbsp; &nbsp;$\\sigma=1:\\;$$\\Gamma^{\\phi}{}_{\\theta\\phi} \\Gamma^{\\phi}{}_{\\theta\\phi} = \\frac{\\cos^{2}{\\left (\\theta \\right )}}{\\sin^{2}{\\left (\\theta \\right )}}$</font>"
       ],
       "metadata": {},
       "output_type": "display_data",
       "text": [
        "<IPython.core.display.HTML object>"
       ]
      },
      {
       "html": [
        "<font size=3 color=black>&nbsp; &nbsp; &nbsp; &nbsp;1st product = cos(theta)**2/sin(theta)**2</font>"
       ],
       "metadata": {},
       "output_type": "display_data",
       "text": [
        "<IPython.core.display.HTML object>"
       ]
      },
      {
       "html": [
        "<font size=3 color=black>&nbsp; &nbsp; &nbsp; &nbsp;&nbsp; &nbsp; &nbsp; &nbsp;$\\sigma=0:\\;$$\\Gamma^{\\phi}{}_{\\theta\\theta} \\Gamma^{\\theta}{}_{\\theta\\phi} = 0$</font>"
       ],
       "metadata": {},
       "output_type": "display_data",
       "text": [
        "<IPython.core.display.HTML object>"
       ]
      },
      {
       "html": [
        "<font size=3 color=black>&nbsp; &nbsp; &nbsp; &nbsp;&nbsp; &nbsp; &nbsp; &nbsp;$\\sigma=1:\\;$$\\Gamma^{\\phi}{}_{\\theta\\phi} \\Gamma^{\\phi}{}_{\\theta\\phi} = \\frac{\\cos^{2}{\\left (\\theta \\right )}}{\\sin^{2}{\\left (\\theta \\right )}}$</font>"
       ],
       "metadata": {},
       "output_type": "display_data",
       "text": [
        "<IPython.core.display.HTML object>"
       ]
      },
      {
       "html": [
        "<font size=3 color=black>&nbsp; &nbsp; &nbsp; &nbsp;2nd product = cos(theta)**2/sin(theta)**2</font>"
       ],
       "metadata": {},
       "output_type": "display_data",
       "text": [
        "<IPython.core.display.HTML object>"
       ]
      },
      {
       "html": [
        "<font size=3 color=black>&nbsp; &nbsp; &nbsp; &nbsp;$\\partial_{\\theta} \\Gamma^{\\phi}{}_{\\theta\\phi} = -1 - \\frac{\\cos^{2}{\\left (\\theta \\right )}}{\\sin^{2}{\\left (\\theta \\right )}}$</font>"
       ],
       "metadata": {},
       "output_type": "display_data",
       "text": [
        "<IPython.core.display.HTML object>"
       ]
      },
      {
       "html": [
        "<font size=3 color=black>&nbsp; &nbsp; &nbsp; &nbsp;$\\partial_{\\theta} \\Gamma^{\\phi}{}_{\\theta\\phi} = -1 - \\frac{\\cos^{2}{\\left (\\theta \\right )}}{\\sin^{2}{\\left (\\theta \\right )}}$</font>"
       ],
       "metadata": {},
       "output_type": "display_data",
       "text": [
        "<IPython.core.display.HTML object>"
       ]
      },
      {
       "html": [
        "<font size=3 color=black>$R^{\\phi}{}_{\\phi\\theta\\theta}$</font>"
       ],
       "metadata": {},
       "output_type": "display_data",
       "text": [
        "<IPython.core.display.HTML object>"
       ]
      },
      {
       "html": [
        "<font size=3 color=black>$ = (\\frac{\\cos^{2}{\\left (\\theta \\right )}}{\\sin^{2}{\\left (\\theta \\right )}})-(\\frac{\\cos^{2}{\\left (\\theta \\right )}}{\\sin^{2}{\\left (\\theta \\right )}})+(-1 - \\frac{\\cos^{2}{\\left (\\theta \\right )}}{\\sin^{2}{\\left (\\theta \\right )}})-(-1 - \\frac{\\cos^{2}{\\left (\\theta \\right )}}{\\sin^{2}{\\left (\\theta \\right )}})$</font>"
       ],
       "metadata": {},
       "output_type": "display_data",
       "text": [
        "<IPython.core.display.HTML object>"
       ]
      },
      {
       "html": [
        "<font size=3 color=black>$ = 0$</font>"
       ],
       "metadata": {},
       "output_type": "display_data",
       "text": [
        "<IPython.core.display.HTML object>"
       ]
      },
      {
       "output_type": "stream",
       "stream": "stdout",
       "text": [
        "\n"
       ]
      },
      {
       "html": [
        "<font size=3 color=black>Doing $R^{\\alpha=1}_{\\rho=1, \\gamma=0, \\beta=1}$</font>"
       ],
       "metadata": {},
       "output_type": "display_data",
       "text": [
        "<IPython.core.display.HTML object>"
       ]
      },
      {
       "html": [
        "<font size=3 color=black>&nbsp; &nbsp; &nbsp; &nbsp;&nbsp; &nbsp; &nbsp; &nbsp;$\\sigma=0:\\;$$\\Gamma^{\\phi}{}_{\\theta\\theta} \\Gamma^{\\theta}{}_{\\phi\\phi} = 0$</font>"
       ],
       "metadata": {},
       "output_type": "display_data",
       "text": [
        "<IPython.core.display.HTML object>"
       ]
      },
      {
       "html": [
        "<font size=3 color=black>&nbsp; &nbsp; &nbsp; &nbsp;&nbsp; &nbsp; &nbsp; &nbsp;$\\sigma=1:\\;$$\\Gamma^{\\phi}{}_{\\theta\\phi} \\Gamma^{\\phi}{}_{\\phi\\phi} = 0$</font>"
       ],
       "metadata": {},
       "output_type": "display_data",
       "text": [
        "<IPython.core.display.HTML object>"
       ]
      },
      {
       "html": [
        "<font size=3 color=black>&nbsp; &nbsp; &nbsp; &nbsp;1st product = 0</font>"
       ],
       "metadata": {},
       "output_type": "display_data",
       "text": [
        "<IPython.core.display.HTML object>"
       ]
      },
      {
       "html": [
        "<font size=3 color=black>&nbsp; &nbsp; &nbsp; &nbsp;&nbsp; &nbsp; &nbsp; &nbsp;$\\sigma=0:\\;$$\\Gamma^{\\phi}{}_{\\phi\\theta} \\Gamma^{\\theta}{}_{\\theta\\phi} = 0$</font>"
       ],
       "metadata": {},
       "output_type": "display_data",
       "text": [
        "<IPython.core.display.HTML object>"
       ]
      },
      {
       "html": [
        "<font size=3 color=black>&nbsp; &nbsp; &nbsp; &nbsp;&nbsp; &nbsp; &nbsp; &nbsp;$\\sigma=1:\\;$$\\Gamma^{\\phi}{}_{\\phi\\phi} \\Gamma^{\\phi}{}_{\\theta\\phi} = 0$</font>"
       ],
       "metadata": {},
       "output_type": "display_data",
       "text": [
        "<IPython.core.display.HTML object>"
       ]
      },
      {
       "html": [
        "<font size=3 color=black>&nbsp; &nbsp; &nbsp; &nbsp;2nd product = 0</font>"
       ],
       "metadata": {},
       "output_type": "display_data",
       "text": [
        "<IPython.core.display.HTML object>"
       ]
      },
      {
       "html": [
        "<font size=3 color=black>&nbsp; &nbsp; &nbsp; &nbsp;$\\partial_{\\theta} \\Gamma^{\\phi}{}_{\\phi\\phi} = 0$</font>"
       ],
       "metadata": {},
       "output_type": "display_data",
       "text": [
        "<IPython.core.display.HTML object>"
       ]
      },
      {
       "html": [
        "<font size=3 color=black>&nbsp; &nbsp; &nbsp; &nbsp;$\\partial_{\\phi} \\Gamma^{\\phi}{}_{\\theta\\phi} = 0$</font>"
       ],
       "metadata": {},
       "output_type": "display_data",
       "text": [
        "<IPython.core.display.HTML object>"
       ]
      },
      {
       "html": [
        "<font size=3 color=black>$R^{\\phi}{}_{\\phi\\theta\\phi}$</font>"
       ],
       "metadata": {},
       "output_type": "display_data",
       "text": [
        "<IPython.core.display.HTML object>"
       ]
      },
      {
       "html": [
        "<font size=3 color=black>$ = (0)-(0)+(0)-(0)$</font>"
       ],
       "metadata": {},
       "output_type": "display_data",
       "text": [
        "<IPython.core.display.HTML object>"
       ]
      },
      {
       "html": [
        "<font size=3 color=black>$ = 0$</font>"
       ],
       "metadata": {},
       "output_type": "display_data",
       "text": [
        "<IPython.core.display.HTML object>"
       ]
      },
      {
       "output_type": "stream",
       "stream": "stdout",
       "text": [
        "\n"
       ]
      },
      {
       "html": [
        "<font size=3 color=black>Doing $R^{\\alpha=1}_{\\rho=1, \\gamma=1, \\beta=0}$</font>"
       ],
       "metadata": {},
       "output_type": "display_data",
       "text": [
        "<IPython.core.display.HTML object>"
       ]
      },
      {
       "html": [
        "<font size=3 color=black>&nbsp; &nbsp; &nbsp; &nbsp;&nbsp; &nbsp; &nbsp; &nbsp;$\\sigma=0:\\;$$\\Gamma^{\\phi}{}_{\\phi\\theta} \\Gamma^{\\theta}{}_{\\theta\\phi} = 0$</font>"
       ],
       "metadata": {},
       "output_type": "display_data",
       "text": [
        "<IPython.core.display.HTML object>"
       ]
      },
      {
       "html": [
        "<font size=3 color=black>&nbsp; &nbsp; &nbsp; &nbsp;&nbsp; &nbsp; &nbsp; &nbsp;$\\sigma=1:\\;$$\\Gamma^{\\phi}{}_{\\phi\\phi} \\Gamma^{\\phi}{}_{\\theta\\phi} = 0$</font>"
       ],
       "metadata": {},
       "output_type": "display_data",
       "text": [
        "<IPython.core.display.HTML object>"
       ]
      },
      {
       "html": [
        "<font size=3 color=black>&nbsp; &nbsp; &nbsp; &nbsp;1st product = 0</font>"
       ],
       "metadata": {},
       "output_type": "display_data",
       "text": [
        "<IPython.core.display.HTML object>"
       ]
      },
      {
       "html": [
        "<font size=3 color=black>&nbsp; &nbsp; &nbsp; &nbsp;&nbsp; &nbsp; &nbsp; &nbsp;$\\sigma=0:\\;$$\\Gamma^{\\phi}{}_{\\theta\\theta} \\Gamma^{\\theta}{}_{\\phi\\phi} = 0$</font>"
       ],
       "metadata": {},
       "output_type": "display_data",
       "text": [
        "<IPython.core.display.HTML object>"
       ]
      },
      {
       "html": [
        "<font size=3 color=black>&nbsp; &nbsp; &nbsp; &nbsp;&nbsp; &nbsp; &nbsp; &nbsp;$\\sigma=1:\\;$$\\Gamma^{\\phi}{}_{\\theta\\phi} \\Gamma^{\\phi}{}_{\\phi\\phi} = 0$</font>"
       ],
       "metadata": {},
       "output_type": "display_data",
       "text": [
        "<IPython.core.display.HTML object>"
       ]
      },
      {
       "html": [
        "<font size=3 color=black>&nbsp; &nbsp; &nbsp; &nbsp;2nd product = 0</font>"
       ],
       "metadata": {},
       "output_type": "display_data",
       "text": [
        "<IPython.core.display.HTML object>"
       ]
      },
      {
       "html": [
        "<font size=3 color=black>&nbsp; &nbsp; &nbsp; &nbsp;$\\partial_{\\phi} \\Gamma^{\\phi}{}_{\\theta\\phi} = 0$</font>"
       ],
       "metadata": {},
       "output_type": "display_data",
       "text": [
        "<IPython.core.display.HTML object>"
       ]
      },
      {
       "html": [
        "<font size=3 color=black>&nbsp; &nbsp; &nbsp; &nbsp;$\\partial_{\\theta} \\Gamma^{\\phi}{}_{\\phi\\phi} = 0$</font>"
       ],
       "metadata": {},
       "output_type": "display_data",
       "text": [
        "<IPython.core.display.HTML object>"
       ]
      },
      {
       "html": [
        "<font size=3 color=black>$R^{\\phi}{}_{\\phi\\phi\\theta}$</font>"
       ],
       "metadata": {},
       "output_type": "display_data",
       "text": [
        "<IPython.core.display.HTML object>"
       ]
      },
      {
       "html": [
        "<font size=3 color=black>$ = (0)-(0)+(0)-(0)$</font>"
       ],
       "metadata": {},
       "output_type": "display_data",
       "text": [
        "<IPython.core.display.HTML object>"
       ]
      },
      {
       "html": [
        "<font size=3 color=black>$ = 0$</font>"
       ],
       "metadata": {},
       "output_type": "display_data",
       "text": [
        "<IPython.core.display.HTML object>"
       ]
      },
      {
       "output_type": "stream",
       "stream": "stdout",
       "text": [
        "\n"
       ]
      },
      {
       "html": [
        "<font size=3 color=black>Doing $R^{\\alpha=1}_{\\rho=1, \\gamma=1, \\beta=1}$</font>"
       ],
       "metadata": {},
       "output_type": "display_data",
       "text": [
        "<IPython.core.display.HTML object>"
       ]
      },
      {
       "html": [
        "<font size=3 color=black>&nbsp; &nbsp; &nbsp; &nbsp;&nbsp; &nbsp; &nbsp; &nbsp;$\\sigma=0:\\;$$\\Gamma^{\\phi}{}_{\\phi\\theta} \\Gamma^{\\theta}{}_{\\phi\\phi} = - \\cos^{2}{\\left (\\theta \\right )}$</font>"
       ],
       "metadata": {},
       "output_type": "display_data",
       "text": [
        "<IPython.core.display.HTML object>"
       ]
      },
      {
       "html": [
        "<font size=3 color=black>&nbsp; &nbsp; &nbsp; &nbsp;&nbsp; &nbsp; &nbsp; &nbsp;$\\sigma=1:\\;$$\\Gamma^{\\phi}{}_{\\phi\\phi} \\Gamma^{\\phi}{}_{\\phi\\phi} = 0$</font>"
       ],
       "metadata": {},
       "output_type": "display_data",
       "text": [
        "<IPython.core.display.HTML object>"
       ]
      },
      {
       "html": [
        "<font size=3 color=black>&nbsp; &nbsp; &nbsp; &nbsp;1st product = -cos(theta)**2</font>"
       ],
       "metadata": {},
       "output_type": "display_data",
       "text": [
        "<IPython.core.display.HTML object>"
       ]
      },
      {
       "html": [
        "<font size=3 color=black>&nbsp; &nbsp; &nbsp; &nbsp;&nbsp; &nbsp; &nbsp; &nbsp;$\\sigma=0:\\;$$\\Gamma^{\\phi}{}_{\\phi\\theta} \\Gamma^{\\theta}{}_{\\phi\\phi} = - \\cos^{2}{\\left (\\theta \\right )}$</font>"
       ],
       "metadata": {},
       "output_type": "display_data",
       "text": [
        "<IPython.core.display.HTML object>"
       ]
      },
      {
       "html": [
        "<font size=3 color=black>&nbsp; &nbsp; &nbsp; &nbsp;&nbsp; &nbsp; &nbsp; &nbsp;$\\sigma=1:\\;$$\\Gamma^{\\phi}{}_{\\phi\\phi} \\Gamma^{\\phi}{}_{\\phi\\phi} = 0$</font>"
       ],
       "metadata": {},
       "output_type": "display_data",
       "text": [
        "<IPython.core.display.HTML object>"
       ]
      },
      {
       "html": [
        "<font size=3 color=black>&nbsp; &nbsp; &nbsp; &nbsp;2nd product = -cos(theta)**2</font>"
       ],
       "metadata": {},
       "output_type": "display_data",
       "text": [
        "<IPython.core.display.HTML object>"
       ]
      },
      {
       "html": [
        "<font size=3 color=black>&nbsp; &nbsp; &nbsp; &nbsp;$\\partial_{\\phi} \\Gamma^{\\phi}{}_{\\phi\\phi} = 0$</font>"
       ],
       "metadata": {},
       "output_type": "display_data",
       "text": [
        "<IPython.core.display.HTML object>"
       ]
      },
      {
       "html": [
        "<font size=3 color=black>&nbsp; &nbsp; &nbsp; &nbsp;$\\partial_{\\phi} \\Gamma^{\\phi}{}_{\\phi\\phi} = 0$</font>"
       ],
       "metadata": {},
       "output_type": "display_data",
       "text": [
        "<IPython.core.display.HTML object>"
       ]
      },
      {
       "html": [
        "<font size=3 color=black>$R^{\\phi}{}_{\\phi\\phi\\phi}$</font>"
       ],
       "metadata": {},
       "output_type": "display_data",
       "text": [
        "<IPython.core.display.HTML object>"
       ]
      },
      {
       "html": [
        "<font size=3 color=black>$ = (- \\cos^{2}{\\left (\\theta \\right )})-(- \\cos^{2}{\\left (\\theta \\right )})+(0)-(0)$</font>"
       ],
       "metadata": {},
       "output_type": "display_data",
       "text": [
        "<IPython.core.display.HTML object>"
       ]
      },
      {
       "html": [
        "<font size=3 color=black>$ = 0$</font>"
       ],
       "metadata": {},
       "output_type": "display_data",
       "text": [
        "<IPython.core.display.HTML object>"
       ]
      },
      {
       "output_type": "stream",
       "stream": "stdout",
       "text": [
        "\n"
       ]
      },
      {
       "html": [
        "<font size=3 color=black>(2, 2, 2, 2)</font>"
       ],
       "metadata": {},
       "output_type": "display_data",
       "text": [
        "<IPython.core.display.HTML object>"
       ]
      },
      {
       "latex": [
        "$$\\begin{bmatrix}\\begin{bmatrix}\\begin{bmatrix}\\begin{bmatrix}0, & 0\\end{bmatrix}, & \\begin{bmatrix}0, & 0\\end{bmatrix}\\end{bmatrix}, & \\begin{bmatrix}\\begin{bmatrix}0, & \\sin^{2}{\\left (\\theta \\right )}\\end{bmatrix}, & \\begin{bmatrix}- \\sin^{2}{\\left (\\theta \\right )}, & 0\\end{bmatrix}\\end{bmatrix}\\end{bmatrix}, & \\begin{bmatrix}\\begin{bmatrix}\\begin{bmatrix}0, & -1\\end{bmatrix}, & \\begin{bmatrix}1, & 0\\end{bmatrix}\\end{bmatrix}, & \\begin{bmatrix}\\begin{bmatrix}0, & 0\\end{bmatrix}, & \\begin{bmatrix}0, & 0\\end{bmatrix}\\end{bmatrix}\\end{bmatrix}\\end{bmatrix}$$"
       ],
       "metadata": {},
       "output_type": "pyout",
       "png": "[encoded data removed]",
       "prompt_number": 68,
       "text": [
        "\u23a1\u23a1                  \u23a1\u23a1      2   \u23a4  \u23a1    2      \u23a4\u23a4\u23a4                            \n",
        "\u23a3\u23a3[[0, 0], [0, 0]], \u23a3\u23a30, sin (\u03b8)\u23a6, \u23a3-sin (\u03b8), 0\u23a6\u23a6\u23a6, [[[0, -1], [1, 0]], [[0, 0\n",
        "\n",
        "           \u23a4\n",
        "], [0, 0]]]\u23a6"
       ]
      }
     ],
     "prompt_number": 68
    },
    {
     "cell_type": "code",
     "collapsed": false,
     "input": [
      "ricci_tensor = calc_ricci_tensor(riemann_tensor)\n",
      "ricci_tensor"
     ],
     "language": "python",
     "metadata": {},
     "outputs": [
      {
       "latex": [
        "$$\\begin{bmatrix}\\begin{bmatrix}1, & 0\\end{bmatrix}, & \\begin{bmatrix}0, & \\sin^{2}{\\left (\\theta \\right )}\\end{bmatrix}\\end{bmatrix}$$"
       ],
       "metadata": {},
       "output_type": "pyout",
       "png": "[encoded data removed]",
       "prompt_number": 69,
       "text": [
        "\u23a1        \u23a1      2   \u23a4\u23a4\n",
        "\u23a3[1, 0], \u23a30, sin (\u03b8)\u23a6\u23a6"
       ]
      }
     ],
     "prompt_number": 69
    },
    {
     "cell_type": "code",
     "collapsed": false,
     "input": [
      "R = calc_ricci_scalar(g, ricci_tensor)\n",
      "R"
     ],
     "language": "python",
     "metadata": {},
     "outputs": [
      {
       "latex": [
        "$$\\frac{2}{r^{2}}$$"
       ],
       "metadata": {},
       "output_type": "pyout",
       "png": "[encoded data removed]",
       "prompt_number": 70,
       "text": [
        "2 \n",
        "\u2500\u2500\n",
        " 2\n",
        "r "
       ]
      }
     ],
     "prompt_number": 70
    },
    {
     "cell_type": "code",
     "collapsed": false,
     "input": [
      "calculate_geodesic(X, Gamma, v=True)"
     ],
     "language": "python",
     "metadata": {},
     "outputs": [
      {
       "html": [
        "<font size=3 color=black>$\\ddot{x}^0 = $</font>"
       ],
       "metadata": {},
       "output_type": "display_data",
       "text": [
        "<IPython.core.display.HTML object>"
       ]
      },
      {
       "html": [
        "<font size=3 color=black>$\\;\\;\\;\\; -\\Gamma^\\theta{}_{\\theta \\theta}\\,$$\\dot{x}^\\theta\\dot{x}^\\theta$$(0)\\,(\\frac{d}{d \\tau} \\theta)\\,(\\frac{d}{d \\tau} \\theta) = 0$</font>"
       ],
       "metadata": {},
       "output_type": "display_data",
       "text": [
        "<IPython.core.display.HTML object>"
       ]
      },
      {
       "html": [
        "<font size=3 color=black>$\\;\\;\\;\\; -\\Gamma^\\theta{}_{\\theta \\phi}\\,$$\\dot{x}^\\theta\\dot{x}^\\theta$$(0)\\,(\\frac{d}{d \\tau} \\theta)\\,(\\frac{d}{d \\tau} \\phi) = 0$</font>"
       ],
       "metadata": {},
       "output_type": "display_data",
       "text": [
        "<IPython.core.display.HTML object>"
       ]
      },
      {
       "html": [
        "<font size=3 color=black>$\\;\\;\\;\\; -\\Gamma^\\theta{}_{\\phi \\theta}\\,$$\\dot{x}^\\theta\\dot{x}^\\phi$$(0)\\,(\\frac{d}{d \\tau} \\phi)\\,(\\frac{d}{d \\tau} \\theta) = 0$</font>"
       ],
       "metadata": {},
       "output_type": "display_data",
       "text": [
        "<IPython.core.display.HTML object>"
       ]
      },
      {
       "html": [
        "<font size=3 color=black>$\\;\\;\\;\\; -\\Gamma^\\theta{}_{\\phi \\phi}\\,$$\\dot{x}^\\theta\\dot{x}^\\phi$$(\\sin{\\left (\\theta \\right )} \\cos{\\left (\\theta \\right )})\\,(\\frac{d}{d \\tau} \\phi)\\,(\\frac{d}{d \\tau} \\phi) = \\sin{\\left (\\theta \\right )} \\cos{\\left (\\theta \\right )} \\left(\\frac{d}{d \\tau} \\phi\\right)^{2}$</font>"
       ],
       "metadata": {},
       "output_type": "display_data",
       "text": [
        "<IPython.core.display.HTML object>"
       ]
      },
      {
       "html": [
        "<font size=3 color=black>$\\ddot{x}^1 = $</font>"
       ],
       "metadata": {},
       "output_type": "display_data",
       "text": [
        "<IPython.core.display.HTML object>"
       ]
      },
      {
       "html": [
        "<font size=3 color=black>$\\;\\;\\;\\; -\\Gamma^\\phi{}_{\\theta \\theta}\\,$$\\dot{x}^\\phi\\dot{x}^\\theta$$(0)\\,(\\frac{d}{d \\tau} \\theta)\\,(\\frac{d}{d \\tau} \\theta) = 0$</font>"
       ],
       "metadata": {},
       "output_type": "display_data",
       "text": [
        "<IPython.core.display.HTML object>"
       ]
      },
      {
       "html": [
        "<font size=3 color=black>$\\;\\;\\;\\; -\\Gamma^\\phi{}_{\\theta \\phi}\\,$$\\dot{x}^\\phi\\dot{x}^\\theta$$(- \\frac{\\cos{\\left (\\theta \\right )}}{\\sin{\\left (\\theta \\right )}})\\,(\\frac{d}{d \\tau} \\theta)\\,(\\frac{d}{d \\tau} \\phi) = - \\frac{\\frac{d}{d \\tau} \\phi \\frac{d}{d \\tau} \\theta}{\\sin{\\left (\\theta \\right )}} \\cos{\\left (\\theta \\right )}$</font>"
       ],
       "metadata": {},
       "output_type": "display_data",
       "text": [
        "<IPython.core.display.HTML object>"
       ]
      },
      {
       "html": [
        "<font size=3 color=black>$\\;\\;\\;\\; -\\Gamma^\\phi{}_{\\phi \\theta}\\,$$\\dot{x}^\\phi\\dot{x}^\\phi$$(- \\frac{\\cos{\\left (\\theta \\right )}}{\\sin{\\left (\\theta \\right )}})\\,(\\frac{d}{d \\tau} \\phi)\\,(\\frac{d}{d \\tau} \\theta) = - \\frac{\\frac{d}{d \\tau} \\phi \\frac{d}{d \\tau} \\theta}{\\sin{\\left (\\theta \\right )}} \\cos{\\left (\\theta \\right )}$</font>"
       ],
       "metadata": {},
       "output_type": "display_data",
       "text": [
        "<IPython.core.display.HTML object>"
       ]
      },
      {
       "html": [
        "<font size=3 color=black>$\\;\\;\\;\\; -\\Gamma^\\phi{}_{\\phi \\phi}\\,$$\\dot{x}^\\phi\\dot{x}^\\phi$$(0)\\,(\\frac{d}{d \\tau} \\phi)\\,(\\frac{d}{d \\tau} \\phi) = 0$</font>"
       ],
       "metadata": {},
       "output_type": "display_data",
       "text": [
        "<IPython.core.display.HTML object>"
       ]
      },
      {
       "latex": [
        "$$\\begin{bmatrix}\\sin{\\left (\\theta \\right )} \\cos{\\left (\\theta \\right )} \\left(\\frac{d}{d \\tau} \\phi\\right)^{2}, & - \\frac{2 \\frac{d}{d \\tau} \\phi \\frac{d}{d \\tau} \\theta}{\\sin{\\left (\\theta \\right )}} \\cos{\\left (\\theta \\right )}\\end{bmatrix}$$"
       ],
       "metadata": {},
       "output_type": "pyout",
       "png": "[encoded data removed]",
       "prompt_number": 71,
       "text": [
        "\u23a1                                  d     d     \u23a4\n",
        "\u23a2                     2  -2\u22c5cos(\u03b8)\u22c5\u2500\u2500(\u03c6)\u22c5\u2500\u2500(\u03b8) \u23a5\n",
        "\u23a2              \u239bd    \u239e             d\u03c4    d\u03c4    \u23a5\n",
        "\u23a2sin(\u03b8)\u22c5cos(\u03b8)\u22c5\u239c\u2500\u2500(\u03c6)\u239f , \u2500\u2500\u2500\u2500\u2500\u2500\u2500\u2500\u2500\u2500\u2500\u2500\u2500\u2500\u2500\u2500\u2500\u2500\u2500\u2500\u2500\u2500\u23a5\n",
        "\u23a3              \u239dd\u03c4   \u23a0           sin(\u03b8)        \u23a6"
       ]
      }
     ],
     "prompt_number": 71
    },
    {
     "cell_type": "markdown",
     "metadata": {},
     "source": [
      "<a name=consta></a>\n",
      "<h2><a href=\"#top\">^</a> Example: Constant Acceleration</h2>\n",
      "<p>\n",
      "    Susskind 2012 GR Lecture #4. Note that what I'm currently using\n",
      "    is (I believe) an <i>approximation.</i> Need to look back at\n",
      "    the lecture about that.\n",
      "</p>"
     ]
    },
    {
     "cell_type": "code",
     "collapsed": false,
     "input": [
      "N = 2 # Declare the dimension\n",
      "# G is simply a gravitational constant (say Earth's gravity)\n",
      "G = sy.Symbol('g')\n",
      "x = sy.Symbol('x')\n",
      "t = sy.Symbol('t')\n",
      "X = [t, x] # X is the Basis set\n",
      "g = sy.Matrix([[-1-2*x*G,0],[0,1]])\n",
      "g_inv = sy.Matrix(g).inv()\n",
      "Print(r'$g_{\\mu\\nu}=%s, \\;\\; g^{\\mu\\nu}=%s$'%(L(g),L(g_inv)))\n",
      "Gamma = calc_christoffel_symbol(X, g, v=True)\n",
      "Print(r'$\\Gamma = %s$'%L(Gamma))\n",
      "Print(r'$\\Gamma^x_{tt} = %s$'%(L(Gamma[1][0][0])))"
     ],
     "language": "python",
     "metadata": {},
     "outputs": [
      {
       "html": [
        "<font size=3 color=black>$g_{\\mu\\nu}=\\left[\\begin{matrix}- 2 g x - 1 & 0\\\\0 & 1\\end{matrix}\\right], \\;\\; g^{\\mu\\nu}=\\left[\\begin{matrix}\\frac{1}{- 2 g x - 1} & 0\\\\0 & 1\\end{matrix}\\right]$</font>"
       ],
       "metadata": {},
       "output_type": "display_data",
       "text": [
        "<IPython.core.display.HTML object>"
       ]
      },
      {
       "html": [
        "<font size=3 color=black>Calculating: $ \\Gamma^\\sigma{}_{\\alpha\\beta} = \\frac{1}{2} g^{\\sigma\\rho}\\left( \\partial_\\beta g_{\\rho\\alpha} + \\partial_\\alpha g_{\\rho\\beta}- \\partial_\\rho g_{\\alpha\\beta}\\right)$</font>"
       ],
       "metadata": {},
       "output_type": "display_data",
       "text": [
        "<IPython.core.display.HTML object>"
       ]
      },
      {
       "output_type": "stream",
       "stream": "stdout",
       "text": [
        "  alpha=0, beta=0, sigma=0, rho=0\n"
       ]
      },
      {
       "html": [
        "<font size=3 color=black>$\\;\\; \\Gamma^0_{00} += $$\\frac{1}{2} g^{00}$$(\\partial_0 g_{00}$$+ \\partial_0 g_{00}$$- \\partial_0 g_{00})$</font>"
       ],
       "metadata": {},
       "output_type": "display_data",
       "text": [
        "<IPython.core.display.HTML object>"
       ]
      },
      {
       "html": [
        "<font size=3 color=black>$\\;\\; \\Gamma^0_{00} += $$\\frac{1}{2} (\\frac{1}{- 2 g x - 1}) $$((0) + (0) - (0))$</font>"
       ],
       "metadata": {},
       "output_type": "display_data",
       "text": [
        "<IPython.core.display.HTML object>"
       ]
      },
      {
       "output_type": "stream",
       "stream": "stdout",
       "text": [
        "  alpha=0, beta=0, sigma=0, rho=1\n"
       ]
      },
      {
       "html": [
        "<font size=3 color=black>$\\;\\; \\Gamma^0_{00} += $$\\frac{1}{2} g^{01}$$(\\partial_0 g_{10}$$+ \\partial_0 g_{10}$$- \\partial_1 g_{00})$</font>"
       ],
       "metadata": {},
       "output_type": "display_data",
       "text": [
        "<IPython.core.display.HTML object>"
       ]
      },
      {
       "html": [
        "<font size=3 color=black>$\\;\\; \\Gamma^0_{00} += $$\\frac{1}{2} (0) $$((0) + (0) - (- 2 g))$</font>"
       ],
       "metadata": {},
       "output_type": "display_data",
       "text": [
        "<IPython.core.display.HTML object>"
       ]
      },
      {
       "html": [
        "<font size=3 color=black>$\\Gamma^0_{00} = 0$</font>"
       ],
       "metadata": {},
       "output_type": "display_data",
       "text": [
        "<IPython.core.display.HTML object>"
       ]
      },
      {
       "output_type": "stream",
       "stream": "stdout",
       "text": [
        "  alpha=0, beta=1, sigma=0, rho=0\n"
       ]
      },
      {
       "html": [
        "<font size=3 color=black>$\\;\\; \\Gamma^0_{01} += $$\\frac{1}{2} g^{00}$$(\\partial_1 g_{00}$$+ \\partial_0 g_{01}$$- \\partial_0 g_{01})$</font>"
       ],
       "metadata": {},
       "output_type": "display_data",
       "text": [
        "<IPython.core.display.HTML object>"
       ]
      },
      {
       "html": [
        "<font size=3 color=black>$\\;\\; \\Gamma^0_{01} += $$\\frac{1}{2} (\\frac{1}{- 2 g x - 1}) $$((- 2 g) + (0) - (0))$</font>"
       ],
       "metadata": {},
       "output_type": "display_data",
       "text": [
        "<IPython.core.display.HTML object>"
       ]
      },
      {
       "output_type": "stream",
       "stream": "stdout",
       "text": [
        "  alpha=0, beta=1, sigma=0, rho=1\n"
       ]
      },
      {
       "html": [
        "<font size=3 color=black>$\\;\\; \\Gamma^0_{01} += $$\\frac{1}{2} g^{01}$$(\\partial_1 g_{10}$$+ \\partial_0 g_{11}$$- \\partial_1 g_{01})$</font>"
       ],
       "metadata": {},
       "output_type": "display_data",
       "text": [
        "<IPython.core.display.HTML object>"
       ]
      },
      {
       "html": [
        "<font size=3 color=black>$\\;\\; \\Gamma^0_{01} += $$\\frac{1}{2} (0) $$((0) + (0) - (0))$</font>"
       ],
       "metadata": {},
       "output_type": "display_data",
       "text": [
        "<IPython.core.display.HTML object>"
       ]
      },
      {
       "html": [
        "<font size=3 color=black>$\\Gamma^0_{01} = -g/(-2*g*x - 1)$</font>"
       ],
       "metadata": {},
       "output_type": "display_data",
       "text": [
        "<IPython.core.display.HTML object>"
       ]
      },
      {
       "output_type": "stream",
       "stream": "stdout",
       "text": [
        "  alpha=1, beta=0, sigma=0, rho=0\n"
       ]
      },
      {
       "html": [
        "<font size=3 color=black>$\\;\\; \\Gamma^0_{10} += $$\\frac{1}{2} g^{00}$$(\\partial_0 g_{01}$$+ \\partial_1 g_{00}$$- \\partial_0 g_{10})$</font>"
       ],
       "metadata": {},
       "output_type": "display_data",
       "text": [
        "<IPython.core.display.HTML object>"
       ]
      },
      {
       "html": [
        "<font size=3 color=black>$\\;\\; \\Gamma^0_{10} += $$\\frac{1}{2} (\\frac{1}{- 2 g x - 1}) $$((0) + (- 2 g) - (0))$</font>"
       ],
       "metadata": {},
       "output_type": "display_data",
       "text": [
        "<IPython.core.display.HTML object>"
       ]
      },
      {
       "output_type": "stream",
       "stream": "stdout",
       "text": [
        "  alpha=1, beta=0, sigma=0, rho=1\n"
       ]
      },
      {
       "html": [
        "<font size=3 color=black>$\\;\\; \\Gamma^0_{10} += $$\\frac{1}{2} g^{01}$$(\\partial_0 g_{11}$$+ \\partial_1 g_{10}$$- \\partial_1 g_{10})$</font>"
       ],
       "metadata": {},
       "output_type": "display_data",
       "text": [
        "<IPython.core.display.HTML object>"
       ]
      },
      {
       "html": [
        "<font size=3 color=black>$\\;\\; \\Gamma^0_{10} += $$\\frac{1}{2} (0) $$((0) + (0) - (0))$</font>"
       ],
       "metadata": {},
       "output_type": "display_data",
       "text": [
        "<IPython.core.display.HTML object>"
       ]
      },
      {
       "html": [
        "<font size=3 color=black>$\\Gamma^0_{10} = -g/(-2*g*x - 1)$</font>"
       ],
       "metadata": {},
       "output_type": "display_data",
       "text": [
        "<IPython.core.display.HTML object>"
       ]
      },
      {
       "output_type": "stream",
       "stream": "stdout",
       "text": [
        "  alpha=1, beta=1, sigma=0, rho=0\n"
       ]
      },
      {
       "html": [
        "<font size=3 color=black>$\\;\\; \\Gamma^0_{11} += $$\\frac{1}{2} g^{00}$$(\\partial_1 g_{01}$$+ \\partial_1 g_{01}$$- \\partial_0 g_{11})$</font>"
       ],
       "metadata": {},
       "output_type": "display_data",
       "text": [
        "<IPython.core.display.HTML object>"
       ]
      },
      {
       "html": [
        "<font size=3 color=black>$\\;\\; \\Gamma^0_{11} += $$\\frac{1}{2} (\\frac{1}{- 2 g x - 1}) $$((0) + (0) - (0))$</font>"
       ],
       "metadata": {},
       "output_type": "display_data",
       "text": [
        "<IPython.core.display.HTML object>"
       ]
      },
      {
       "output_type": "stream",
       "stream": "stdout",
       "text": [
        "  alpha=1, beta=1, sigma=0, rho=1\n"
       ]
      },
      {
       "html": [
        "<font size=3 color=black>$\\;\\; \\Gamma^0_{11} += $$\\frac{1}{2} g^{01}$$(\\partial_1 g_{11}$$+ \\partial_1 g_{11}$$- \\partial_1 g_{11})$</font>"
       ],
       "metadata": {},
       "output_type": "display_data",
       "text": [
        "<IPython.core.display.HTML object>"
       ]
      },
      {
       "html": [
        "<font size=3 color=black>$\\;\\; \\Gamma^0_{11} += $$\\frac{1}{2} (0) $$((0) + (0) - (0))$</font>"
       ],
       "metadata": {},
       "output_type": "display_data",
       "text": [
        "<IPython.core.display.HTML object>"
       ]
      },
      {
       "html": [
        "<font size=3 color=black>$\\Gamma^0_{11} = 0$</font>"
       ],
       "metadata": {},
       "output_type": "display_data",
       "text": [
        "<IPython.core.display.HTML object>"
       ]
      },
      {
       "output_type": "stream",
       "stream": "stdout",
       "text": [
        "  alpha=0, beta=0, sigma=1, rho=0\n"
       ]
      },
      {
       "html": [
        "<font size=3 color=black>$\\;\\; \\Gamma^1_{00} += $$\\frac{1}{2} g^{10}$$(\\partial_0 g_{00}$$+ \\partial_0 g_{00}$$- \\partial_0 g_{00})$</font>"
       ],
       "metadata": {},
       "output_type": "display_data",
       "text": [
        "<IPython.core.display.HTML object>"
       ]
      },
      {
       "html": [
        "<font size=3 color=black>$\\;\\; \\Gamma^1_{00} += $$\\frac{1}{2} (0) $$((0) + (0) - (0))$</font>"
       ],
       "metadata": {},
       "output_type": "display_data",
       "text": [
        "<IPython.core.display.HTML object>"
       ]
      },
      {
       "output_type": "stream",
       "stream": "stdout",
       "text": [
        "  alpha=0, beta=0, sigma=1, rho=1\n"
       ]
      },
      {
       "html": [
        "<font size=3 color=black>$\\;\\; \\Gamma^1_{00} += $$\\frac{1}{2} g^{11}$$(\\partial_0 g_{10}$$+ \\partial_0 g_{10}$$- \\partial_1 g_{00})$</font>"
       ],
       "metadata": {},
       "output_type": "display_data",
       "text": [
        "<IPython.core.display.HTML object>"
       ]
      },
      {
       "html": [
        "<font size=3 color=black>$\\;\\; \\Gamma^1_{00} += $$\\frac{1}{2} (1) $$((0) + (0) - (- 2 g))$</font>"
       ],
       "metadata": {},
       "output_type": "display_data",
       "text": [
        "<IPython.core.display.HTML object>"
       ]
      },
      {
       "html": [
        "<font size=3 color=black>$\\Gamma^1_{00} = g$</font>"
       ],
       "metadata": {},
       "output_type": "display_data",
       "text": [
        "<IPython.core.display.HTML object>"
       ]
      },
      {
       "output_type": "stream",
       "stream": "stdout",
       "text": [
        "  alpha=0, beta=1, sigma=1, rho=0\n"
       ]
      },
      {
       "html": [
        "<font size=3 color=black>$\\;\\; \\Gamma^1_{01} += $$\\frac{1}{2} g^{10}$$(\\partial_1 g_{00}$$+ \\partial_0 g_{01}$$- \\partial_0 g_{01})$</font>"
       ],
       "metadata": {},
       "output_type": "display_data",
       "text": [
        "<IPython.core.display.HTML object>"
       ]
      },
      {
       "html": [
        "<font size=3 color=black>$\\;\\; \\Gamma^1_{01} += $$\\frac{1}{2} (0) $$((- 2 g) + (0) - (0))$</font>"
       ],
       "metadata": {},
       "output_type": "display_data",
       "text": [
        "<IPython.core.display.HTML object>"
       ]
      },
      {
       "output_type": "stream",
       "stream": "stdout",
       "text": [
        "  alpha=0, beta=1, sigma=1, rho=1\n"
       ]
      },
      {
       "html": [
        "<font size=3 color=black>$\\;\\; \\Gamma^1_{01} += $$\\frac{1}{2} g^{11}$$(\\partial_1 g_{10}$$+ \\partial_0 g_{11}$$- \\partial_1 g_{01})$</font>"
       ],
       "metadata": {},
       "output_type": "display_data",
       "text": [
        "<IPython.core.display.HTML object>"
       ]
      },
      {
       "html": [
        "<font size=3 color=black>$\\;\\; \\Gamma^1_{01} += $$\\frac{1}{2} (1) $$((0) + (0) - (0))$</font>"
       ],
       "metadata": {},
       "output_type": "display_data",
       "text": [
        "<IPython.core.display.HTML object>"
       ]
      },
      {
       "html": [
        "<font size=3 color=black>$\\Gamma^1_{01} = 0$</font>"
       ],
       "metadata": {},
       "output_type": "display_data",
       "text": [
        "<IPython.core.display.HTML object>"
       ]
      },
      {
       "output_type": "stream",
       "stream": "stdout",
       "text": [
        "  alpha=1, beta=0, sigma=1, rho=0\n"
       ]
      },
      {
       "html": [
        "<font size=3 color=black>$\\;\\; \\Gamma^1_{10} += $$\\frac{1}{2} g^{10}$$(\\partial_0 g_{01}$$+ \\partial_1 g_{00}$$- \\partial_0 g_{10})$</font>"
       ],
       "metadata": {},
       "output_type": "display_data",
       "text": [
        "<IPython.core.display.HTML object>"
       ]
      },
      {
       "html": [
        "<font size=3 color=black>$\\;\\; \\Gamma^1_{10} += $$\\frac{1}{2} (0) $$((0) + (- 2 g) - (0))$</font>"
       ],
       "metadata": {},
       "output_type": "display_data",
       "text": [
        "<IPython.core.display.HTML object>"
       ]
      },
      {
       "output_type": "stream",
       "stream": "stdout",
       "text": [
        "  alpha=1, beta=0, sigma=1, rho=1\n"
       ]
      },
      {
       "html": [
        "<font size=3 color=black>$\\;\\; \\Gamma^1_{10} += $$\\frac{1}{2} g^{11}$$(\\partial_0 g_{11}$$+ \\partial_1 g_{10}$$- \\partial_1 g_{10})$</font>"
       ],
       "metadata": {},
       "output_type": "display_data",
       "text": [
        "<IPython.core.display.HTML object>"
       ]
      },
      {
       "html": [
        "<font size=3 color=black>$\\;\\; \\Gamma^1_{10} += $$\\frac{1}{2} (1) $$((0) + (0) - (0))$</font>"
       ],
       "metadata": {},
       "output_type": "display_data",
       "text": [
        "<IPython.core.display.HTML object>"
       ]
      },
      {
       "html": [
        "<font size=3 color=black>$\\Gamma^1_{10} = 0$</font>"
       ],
       "metadata": {},
       "output_type": "display_data",
       "text": [
        "<IPython.core.display.HTML object>"
       ]
      },
      {
       "output_type": "stream",
       "stream": "stdout",
       "text": [
        "  alpha=1, beta=1, sigma=1, rho=0\n"
       ]
      },
      {
       "html": [
        "<font size=3 color=black>$\\;\\; \\Gamma^1_{11} += $$\\frac{1}{2} g^{10}$$(\\partial_1 g_{01}$$+ \\partial_1 g_{01}$$- \\partial_0 g_{11})$</font>"
       ],
       "metadata": {},
       "output_type": "display_data",
       "text": [
        "<IPython.core.display.HTML object>"
       ]
      },
      {
       "html": [
        "<font size=3 color=black>$\\;\\; \\Gamma^1_{11} += $$\\frac{1}{2} (0) $$((0) + (0) - (0))$</font>"
       ],
       "metadata": {},
       "output_type": "display_data",
       "text": [
        "<IPython.core.display.HTML object>"
       ]
      },
      {
       "output_type": "stream",
       "stream": "stdout",
       "text": [
        "  alpha=1, beta=1, sigma=1, rho=1\n"
       ]
      },
      {
       "html": [
        "<font size=3 color=black>$\\;\\; \\Gamma^1_{11} += $$\\frac{1}{2} g^{11}$$(\\partial_1 g_{11}$$+ \\partial_1 g_{11}$$- \\partial_1 g_{11})$</font>"
       ],
       "metadata": {},
       "output_type": "display_data",
       "text": [
        "<IPython.core.display.HTML object>"
       ]
      },
      {
       "html": [
        "<font size=3 color=black>$\\;\\; \\Gamma^1_{11} += $$\\frac{1}{2} (1) $$((0) + (0) - (0))$</font>"
       ],
       "metadata": {},
       "output_type": "display_data",
       "text": [
        "<IPython.core.display.HTML object>"
       ]
      },
      {
       "html": [
        "<font size=3 color=black>$\\Gamma^1_{11} = 0$</font>"
       ],
       "metadata": {},
       "output_type": "display_data",
       "text": [
        "<IPython.core.display.HTML object>"
       ]
      },
      {
       "html": [
        "<font size=3 color=black>$\\Gamma = \\begin{bmatrix}\\begin{bmatrix}\\begin{bmatrix}0, & - \\frac{g}{- 2 g x - 1}\\end{bmatrix}, & \\begin{bmatrix}- \\frac{g}{- 2 g x - 1}, & 0\\end{bmatrix}\\end{bmatrix}, & \\begin{bmatrix}\\begin{bmatrix}g, & 0\\end{bmatrix}, & \\begin{bmatrix}0, & 0\\end{bmatrix}\\end{bmatrix}\\end{bmatrix}$</font>"
       ],
       "metadata": {},
       "output_type": "display_data",
       "text": [
        "<IPython.core.display.HTML object>"
       ]
      },
      {
       "html": [
        "<font size=3 color=black>$\\Gamma^x_{tt} = g$</font>"
       ],
       "metadata": {},
       "output_type": "display_data",
       "text": [
        "<IPython.core.display.HTML object>"
       ]
      }
     ],
     "prompt_number": 72
    },
    {
     "cell_type": "code",
     "collapsed": false,
     "input": [
      "riemann_tensor=calc_riemann_tensor(X, g, Gamma, v=True)\n",
      "Print(np.shape(riemann_tensor))\n",
      "riemann_tensor"
     ],
     "language": "python",
     "metadata": {},
     "outputs": [
      {
       "html": [
        "<font size=3 color=black>Calculating the Riemann Tensor, by the formula:</font>"
       ],
       "metadata": {},
       "output_type": "display_data",
       "text": [
        "<IPython.core.display.HTML object>"
       ]
      },
      {
       "html": [
        "<font size=3 color=black><font size=4>&nbsp; &nbsp;$R^{\\alpha}{}_{\\rho\\gamma\\beta} =\\ $$\\Gamma^{\\alpha}{}_{\\gamma\\sigma}\\,\\Gamma^{\\sigma}{}_{\\beta\\rho}$$\\;-\\;\\Gamma^{\\alpha}{}_{\\beta\\sigma}\\,\\Gamma^{\\sigma}{}_{\\gamma\\rho}$$\\;+\\;\\partial_{\\gamma} \\Gamma^{\\alpha}{}_{\\beta\\rho}$$\\;-\\;\\partial_{\\beta} \\Gamma^{\\alpha}{}_{\\gamma\\rho}$</font></font>"
       ],
       "metadata": {},
       "output_type": "display_data",
       "text": [
        "<IPython.core.display.HTML object>"
       ]
      },
      {
       "html": [
        "<font size=3 color=black>Doing $R^{\\alpha=0}_{\\rho=0, \\gamma=0, \\beta=0}$</font>"
       ],
       "metadata": {},
       "output_type": "display_data",
       "text": [
        "<IPython.core.display.HTML object>"
       ]
      },
      {
       "html": [
        "<font size=3 color=black>&nbsp; &nbsp; &nbsp; &nbsp;&nbsp; &nbsp; &nbsp; &nbsp;$\\sigma=0:\\;$$\\Gamma^{t}{}_{tt} \\Gamma^{t}{}_{tt} = 0$</font>"
       ],
       "metadata": {},
       "output_type": "display_data",
       "text": [
        "<IPython.core.display.HTML object>"
       ]
      },
      {
       "html": [
        "<font size=3 color=black>&nbsp; &nbsp; &nbsp; &nbsp;&nbsp; &nbsp; &nbsp; &nbsp;$\\sigma=1:\\;$$\\Gamma^{t}{}_{tx} \\Gamma^{x}{}_{tt} = - \\frac{g^{2}}{- 2 g x - 1}$</font>"
       ],
       "metadata": {},
       "output_type": "display_data",
       "text": [
        "<IPython.core.display.HTML object>"
       ]
      },
      {
       "html": [
        "<font size=3 color=black>&nbsp; &nbsp; &nbsp; &nbsp;1st product = -g**2/(-2*g*x - 1)</font>"
       ],
       "metadata": {},
       "output_type": "display_data",
       "text": [
        "<IPython.core.display.HTML object>"
       ]
      },
      {
       "html": [
        "<font size=3 color=black>&nbsp; &nbsp; &nbsp; &nbsp;&nbsp; &nbsp; &nbsp; &nbsp;$\\sigma=0:\\;$$\\Gamma^{t}{}_{tt} \\Gamma^{t}{}_{tt} = 0$</font>"
       ],
       "metadata": {},
       "output_type": "display_data",
       "text": [
        "<IPython.core.display.HTML object>"
       ]
      },
      {
       "html": [
        "<font size=3 color=black>&nbsp; &nbsp; &nbsp; &nbsp;&nbsp; &nbsp; &nbsp; &nbsp;$\\sigma=1:\\;$$\\Gamma^{t}{}_{tx} \\Gamma^{x}{}_{tt} = - \\frac{g^{2}}{- 2 g x - 1}$</font>"
       ],
       "metadata": {},
       "output_type": "display_data",
       "text": [
        "<IPython.core.display.HTML object>"
       ]
      },
      {
       "html": [
        "<font size=3 color=black>&nbsp; &nbsp; &nbsp; &nbsp;2nd product = -g**2/(-2*g*x - 1)</font>"
       ],
       "metadata": {},
       "output_type": "display_data",
       "text": [
        "<IPython.core.display.HTML object>"
       ]
      },
      {
       "html": [
        "<font size=3 color=black>&nbsp; &nbsp; &nbsp; &nbsp;$\\partial_{t} \\Gamma^{t}{}_{tt} = 0$</font>"
       ],
       "metadata": {},
       "output_type": "display_data",
       "text": [
        "<IPython.core.display.HTML object>"
       ]
      },
      {
       "html": [
        "<font size=3 color=black>&nbsp; &nbsp; &nbsp; &nbsp;$\\partial_{t} \\Gamma^{t}{}_{tt} = 0$</font>"
       ],
       "metadata": {},
       "output_type": "display_data",
       "text": [
        "<IPython.core.display.HTML object>"
       ]
      },
      {
       "html": [
        "<font size=3 color=black>$R^{t}{}_{ttt}$</font>"
       ],
       "metadata": {},
       "output_type": "display_data",
       "text": [
        "<IPython.core.display.HTML object>"
       ]
      },
      {
       "html": [
        "<font size=3 color=black>$ = (- \\frac{g^{2}}{- 2 g x - 1})-(- \\frac{g^{2}}{- 2 g x - 1})+(0)-(0)$</font>"
       ],
       "metadata": {},
       "output_type": "display_data",
       "text": [
        "<IPython.core.display.HTML object>"
       ]
      },
      {
       "html": [
        "<font size=3 color=black>$ = 0$</font>"
       ],
       "metadata": {},
       "output_type": "display_data",
       "text": [
        "<IPython.core.display.HTML object>"
       ]
      },
      {
       "output_type": "stream",
       "stream": "stdout",
       "text": [
        "\n"
       ]
      },
      {
       "html": [
        "<font size=3 color=black>Doing $R^{\\alpha=0}_{\\rho=0, \\gamma=0, \\beta=1}$</font>"
       ],
       "metadata": {},
       "output_type": "display_data",
       "text": [
        "<IPython.core.display.HTML object>"
       ]
      },
      {
       "html": [
        "<font size=3 color=black>&nbsp; &nbsp; &nbsp; &nbsp;&nbsp; &nbsp; &nbsp; &nbsp;$\\sigma=0:\\;$$\\Gamma^{t}{}_{tt} \\Gamma^{t}{}_{xt} = 0$</font>"
       ],
       "metadata": {},
       "output_type": "display_data",
       "text": [
        "<IPython.core.display.HTML object>"
       ]
      },
      {
       "html": [
        "<font size=3 color=black>&nbsp; &nbsp; &nbsp; &nbsp;&nbsp; &nbsp; &nbsp; &nbsp;$\\sigma=1:\\;$$\\Gamma^{t}{}_{tx} \\Gamma^{x}{}_{xt} = 0$</font>"
       ],
       "metadata": {},
       "output_type": "display_data",
       "text": [
        "<IPython.core.display.HTML object>"
       ]
      },
      {
       "html": [
        "<font size=3 color=black>&nbsp; &nbsp; &nbsp; &nbsp;1st product = 0</font>"
       ],
       "metadata": {},
       "output_type": "display_data",
       "text": [
        "<IPython.core.display.HTML object>"
       ]
      },
      {
       "html": [
        "<font size=3 color=black>&nbsp; &nbsp; &nbsp; &nbsp;&nbsp; &nbsp; &nbsp; &nbsp;$\\sigma=0:\\;$$\\Gamma^{t}{}_{xt} \\Gamma^{t}{}_{tt} = 0$</font>"
       ],
       "metadata": {},
       "output_type": "display_data",
       "text": [
        "<IPython.core.display.HTML object>"
       ]
      },
      {
       "html": [
        "<font size=3 color=black>&nbsp; &nbsp; &nbsp; &nbsp;&nbsp; &nbsp; &nbsp; &nbsp;$\\sigma=1:\\;$$\\Gamma^{t}{}_{xx} \\Gamma^{x}{}_{tt} = 0$</font>"
       ],
       "metadata": {},
       "output_type": "display_data",
       "text": [
        "<IPython.core.display.HTML object>"
       ]
      },
      {
       "html": [
        "<font size=3 color=black>&nbsp; &nbsp; &nbsp; &nbsp;2nd product = 0</font>"
       ],
       "metadata": {},
       "output_type": "display_data",
       "text": [
        "<IPython.core.display.HTML object>"
       ]
      },
      {
       "html": [
        "<font size=3 color=black>&nbsp; &nbsp; &nbsp; &nbsp;$\\partial_{t} \\Gamma^{t}{}_{xt} = 0$</font>"
       ],
       "metadata": {},
       "output_type": "display_data",
       "text": [
        "<IPython.core.display.HTML object>"
       ]
      },
      {
       "html": [
        "<font size=3 color=black>&nbsp; &nbsp; &nbsp; &nbsp;$\\partial_{x} \\Gamma^{t}{}_{tt} = 0$</font>"
       ],
       "metadata": {},
       "output_type": "display_data",
       "text": [
        "<IPython.core.display.HTML object>"
       ]
      },
      {
       "html": [
        "<font size=3 color=black>$R^{t}{}_{ttx}$</font>"
       ],
       "metadata": {},
       "output_type": "display_data",
       "text": [
        "<IPython.core.display.HTML object>"
       ]
      },
      {
       "html": [
        "<font size=3 color=black>$ = (0)-(0)+(0)-(0)$</font>"
       ],
       "metadata": {},
       "output_type": "display_data",
       "text": [
        "<IPython.core.display.HTML object>"
       ]
      },
      {
       "html": [
        "<font size=3 color=black>$ = 0$</font>"
       ],
       "metadata": {},
       "output_type": "display_data",
       "text": [
        "<IPython.core.display.HTML object>"
       ]
      },
      {
       "output_type": "stream",
       "stream": "stdout",
       "text": [
        "\n"
       ]
      },
      {
       "html": [
        "<font size=3 color=black>Doing $R^{\\alpha=0}_{\\rho=0, \\gamma=1, \\beta=0}$</font>"
       ],
       "metadata": {},
       "output_type": "display_data",
       "text": [
        "<IPython.core.display.HTML object>"
       ]
      },
      {
       "html": [
        "<font size=3 color=black>&nbsp; &nbsp; &nbsp; &nbsp;&nbsp; &nbsp; &nbsp; &nbsp;$\\sigma=0:\\;$$\\Gamma^{t}{}_{xt} \\Gamma^{t}{}_{tt} = 0$</font>"
       ],
       "metadata": {},
       "output_type": "display_data",
       "text": [
        "<IPython.core.display.HTML object>"
       ]
      },
      {
       "html": [
        "<font size=3 color=black>&nbsp; &nbsp; &nbsp; &nbsp;&nbsp; &nbsp; &nbsp; &nbsp;$\\sigma=1:\\;$$\\Gamma^{t}{}_{xx} \\Gamma^{x}{}_{tt} = 0$</font>"
       ],
       "metadata": {},
       "output_type": "display_data",
       "text": [
        "<IPython.core.display.HTML object>"
       ]
      },
      {
       "html": [
        "<font size=3 color=black>&nbsp; &nbsp; &nbsp; &nbsp;1st product = 0</font>"
       ],
       "metadata": {},
       "output_type": "display_data",
       "text": [
        "<IPython.core.display.HTML object>"
       ]
      },
      {
       "html": [
        "<font size=3 color=black>&nbsp; &nbsp; &nbsp; &nbsp;&nbsp; &nbsp; &nbsp; &nbsp;$\\sigma=0:\\;$$\\Gamma^{t}{}_{tt} \\Gamma^{t}{}_{xt} = 0$</font>"
       ],
       "metadata": {},
       "output_type": "display_data",
       "text": [
        "<IPython.core.display.HTML object>"
       ]
      },
      {
       "html": [
        "<font size=3 color=black>&nbsp; &nbsp; &nbsp; &nbsp;&nbsp; &nbsp; &nbsp; &nbsp;$\\sigma=1:\\;$$\\Gamma^{t}{}_{tx} \\Gamma^{x}{}_{xt} = 0$</font>"
       ],
       "metadata": {},
       "output_type": "display_data",
       "text": [
        "<IPython.core.display.HTML object>"
       ]
      },
      {
       "html": [
        "<font size=3 color=black>&nbsp; &nbsp; &nbsp; &nbsp;2nd product = 0</font>"
       ],
       "metadata": {},
       "output_type": "display_data",
       "text": [
        "<IPython.core.display.HTML object>"
       ]
      },
      {
       "html": [
        "<font size=3 color=black>&nbsp; &nbsp; &nbsp; &nbsp;$\\partial_{x} \\Gamma^{t}{}_{tt} = 0$</font>"
       ],
       "metadata": {},
       "output_type": "display_data",
       "text": [
        "<IPython.core.display.HTML object>"
       ]
      },
      {
       "html": [
        "<font size=3 color=black>&nbsp; &nbsp; &nbsp; &nbsp;$\\partial_{t} \\Gamma^{t}{}_{xt} = 0$</font>"
       ],
       "metadata": {},
       "output_type": "display_data",
       "text": [
        "<IPython.core.display.HTML object>"
       ]
      },
      {
       "html": [
        "<font size=3 color=black>$R^{t}{}_{txt}$</font>"
       ],
       "metadata": {},
       "output_type": "display_data",
       "text": [
        "<IPython.core.display.HTML object>"
       ]
      },
      {
       "html": [
        "<font size=3 color=black>$ = (0)-(0)+(0)-(0)$</font>"
       ],
       "metadata": {},
       "output_type": "display_data",
       "text": [
        "<IPython.core.display.HTML object>"
       ]
      },
      {
       "html": [
        "<font size=3 color=black>$ = 0$</font>"
       ],
       "metadata": {},
       "output_type": "display_data",
       "text": [
        "<IPython.core.display.HTML object>"
       ]
      },
      {
       "output_type": "stream",
       "stream": "stdout",
       "text": [
        "\n"
       ]
      },
      {
       "html": [
        "<font size=3 color=black>Doing $R^{\\alpha=0}_{\\rho=0, \\gamma=1, \\beta=1}$</font>"
       ],
       "metadata": {},
       "output_type": "display_data",
       "text": [
        "<IPython.core.display.HTML object>"
       ]
      },
      {
       "html": [
        "<font size=3 color=black>&nbsp; &nbsp; &nbsp; &nbsp;&nbsp; &nbsp; &nbsp; &nbsp;$\\sigma=0:\\;$$\\Gamma^{t}{}_{xt} \\Gamma^{t}{}_{xt} = \\frac{g^{2}}{\\left(- 2 g x - 1\\right)^{2}}$</font>"
       ],
       "metadata": {},
       "output_type": "display_data",
       "text": [
        "<IPython.core.display.HTML object>"
       ]
      },
      {
       "html": [
        "<font size=3 color=black>&nbsp; &nbsp; &nbsp; &nbsp;&nbsp; &nbsp; &nbsp; &nbsp;$\\sigma=1:\\;$$\\Gamma^{t}{}_{xx} \\Gamma^{x}{}_{xt} = 0$</font>"
       ],
       "metadata": {},
       "output_type": "display_data",
       "text": [
        "<IPython.core.display.HTML object>"
       ]
      },
      {
       "html": [
        "<font size=3 color=black>&nbsp; &nbsp; &nbsp; &nbsp;1st product = g**2/(-2*g*x - 1)**2</font>"
       ],
       "metadata": {},
       "output_type": "display_data",
       "text": [
        "<IPython.core.display.HTML object>"
       ]
      },
      {
       "html": [
        "<font size=3 color=black>&nbsp; &nbsp; &nbsp; &nbsp;&nbsp; &nbsp; &nbsp; &nbsp;$\\sigma=0:\\;$$\\Gamma^{t}{}_{xt} \\Gamma^{t}{}_{xt} = \\frac{g^{2}}{\\left(- 2 g x - 1\\right)^{2}}$</font>"
       ],
       "metadata": {},
       "output_type": "display_data",
       "text": [
        "<IPython.core.display.HTML object>"
       ]
      },
      {
       "html": [
        "<font size=3 color=black>&nbsp; &nbsp; &nbsp; &nbsp;&nbsp; &nbsp; &nbsp; &nbsp;$\\sigma=1:\\;$$\\Gamma^{t}{}_{xx} \\Gamma^{x}{}_{xt} = 0$</font>"
       ],
       "metadata": {},
       "output_type": "display_data",
       "text": [
        "<IPython.core.display.HTML object>"
       ]
      },
      {
       "html": [
        "<font size=3 color=black>&nbsp; &nbsp; &nbsp; &nbsp;2nd product = g**2/(-2*g*x - 1)**2</font>"
       ],
       "metadata": {},
       "output_type": "display_data",
       "text": [
        "<IPython.core.display.HTML object>"
       ]
      },
      {
       "html": [
        "<font size=3 color=black>&nbsp; &nbsp; &nbsp; &nbsp;$\\partial_{x} \\Gamma^{t}{}_{xt} = - \\frac{2 g^{2}}{\\left(- 2 g x - 1\\right)^{2}}$</font>"
       ],
       "metadata": {},
       "output_type": "display_data",
       "text": [
        "<IPython.core.display.HTML object>"
       ]
      },
      {
       "html": [
        "<font size=3 color=black>&nbsp; &nbsp; &nbsp; &nbsp;$\\partial_{x} \\Gamma^{t}{}_{xt} = - \\frac{2 g^{2}}{\\left(- 2 g x - 1\\right)^{2}}$</font>"
       ],
       "metadata": {},
       "output_type": "display_data",
       "text": [
        "<IPython.core.display.HTML object>"
       ]
      },
      {
       "html": [
        "<font size=3 color=black>$R^{t}{}_{txx}$</font>"
       ],
       "metadata": {},
       "output_type": "display_data",
       "text": [
        "<IPython.core.display.HTML object>"
       ]
      },
      {
       "html": [
        "<font size=3 color=black>$ = (\\frac{g^{2}}{\\left(- 2 g x - 1\\right)^{2}})-(\\frac{g^{2}}{\\left(- 2 g x - 1\\right)^{2}})+(- \\frac{2 g^{2}}{\\left(- 2 g x - 1\\right)^{2}})-(- \\frac{2 g^{2}}{\\left(- 2 g x - 1\\right)^{2}})$</font>"
       ],
       "metadata": {},
       "output_type": "display_data",
       "text": [
        "<IPython.core.display.HTML object>"
       ]
      },
      {
       "html": [
        "<font size=3 color=black>$ = 0$</font>"
       ],
       "metadata": {},
       "output_type": "display_data",
       "text": [
        "<IPython.core.display.HTML object>"
       ]
      },
      {
       "output_type": "stream",
       "stream": "stdout",
       "text": [
        "\n"
       ]
      },
      {
       "html": [
        "<font size=3 color=black>Doing $R^{\\alpha=0}_{\\rho=1, \\gamma=0, \\beta=0}$</font>"
       ],
       "metadata": {},
       "output_type": "display_data",
       "text": [
        "<IPython.core.display.HTML object>"
       ]
      },
      {
       "html": [
        "<font size=3 color=black>&nbsp; &nbsp; &nbsp; &nbsp;&nbsp; &nbsp; &nbsp; &nbsp;$\\sigma=0:\\;$$\\Gamma^{t}{}_{tt} \\Gamma^{t}{}_{tx} = 0$</font>"
       ],
       "metadata": {},
       "output_type": "display_data",
       "text": [
        "<IPython.core.display.HTML object>"
       ]
      },
      {
       "html": [
        "<font size=3 color=black>&nbsp; &nbsp; &nbsp; &nbsp;&nbsp; &nbsp; &nbsp; &nbsp;$\\sigma=1:\\;$$\\Gamma^{t}{}_{tx} \\Gamma^{x}{}_{tx} = 0$</font>"
       ],
       "metadata": {},
       "output_type": "display_data",
       "text": [
        "<IPython.core.display.HTML object>"
       ]
      },
      {
       "html": [
        "<font size=3 color=black>&nbsp; &nbsp; &nbsp; &nbsp;1st product = 0</font>"
       ],
       "metadata": {},
       "output_type": "display_data",
       "text": [
        "<IPython.core.display.HTML object>"
       ]
      },
      {
       "html": [
        "<font size=3 color=black>&nbsp; &nbsp; &nbsp; &nbsp;&nbsp; &nbsp; &nbsp; &nbsp;$\\sigma=0:\\;$$\\Gamma^{t}{}_{tt} \\Gamma^{t}{}_{tx} = 0$</font>"
       ],
       "metadata": {},
       "output_type": "display_data",
       "text": [
        "<IPython.core.display.HTML object>"
       ]
      },
      {
       "html": [
        "<font size=3 color=black>&nbsp; &nbsp; &nbsp; &nbsp;&nbsp; &nbsp; &nbsp; &nbsp;$\\sigma=1:\\;$$\\Gamma^{t}{}_{tx} \\Gamma^{x}{}_{tx} = 0$</font>"
       ],
       "metadata": {},
       "output_type": "display_data",
       "text": [
        "<IPython.core.display.HTML object>"
       ]
      },
      {
       "html": [
        "<font size=3 color=black>&nbsp; &nbsp; &nbsp; &nbsp;2nd product = 0</font>"
       ],
       "metadata": {},
       "output_type": "display_data",
       "text": [
        "<IPython.core.display.HTML object>"
       ]
      },
      {
       "html": [
        "<font size=3 color=black>&nbsp; &nbsp; &nbsp; &nbsp;$\\partial_{t} \\Gamma^{t}{}_{tx} = 0$</font>"
       ],
       "metadata": {},
       "output_type": "display_data",
       "text": [
        "<IPython.core.display.HTML object>"
       ]
      },
      {
       "html": [
        "<font size=3 color=black>&nbsp; &nbsp; &nbsp; &nbsp;$\\partial_{t} \\Gamma^{t}{}_{tx} = 0$</font>"
       ],
       "metadata": {},
       "output_type": "display_data",
       "text": [
        "<IPython.core.display.HTML object>"
       ]
      },
      {
       "html": [
        "<font size=3 color=black>$R^{t}{}_{xtt}$</font>"
       ],
       "metadata": {},
       "output_type": "display_data",
       "text": [
        "<IPython.core.display.HTML object>"
       ]
      },
      {
       "html": [
        "<font size=3 color=black>$ = (0)-(0)+(0)-(0)$</font>"
       ],
       "metadata": {},
       "output_type": "display_data",
       "text": [
        "<IPython.core.display.HTML object>"
       ]
      },
      {
       "html": [
        "<font size=3 color=black>$ = 0$</font>"
       ],
       "metadata": {},
       "output_type": "display_data",
       "text": [
        "<IPython.core.display.HTML object>"
       ]
      },
      {
       "output_type": "stream",
       "stream": "stdout",
       "text": [
        "\n"
       ]
      },
      {
       "html": [
        "<font size=3 color=black>Doing $R^{\\alpha=0}_{\\rho=1, \\gamma=0, \\beta=1}$</font>"
       ],
       "metadata": {},
       "output_type": "display_data",
       "text": [
        "<IPython.core.display.HTML object>"
       ]
      },
      {
       "html": [
        "<font size=3 color=black>&nbsp; &nbsp; &nbsp; &nbsp;&nbsp; &nbsp; &nbsp; &nbsp;$\\sigma=0:\\;$$\\Gamma^{t}{}_{tt} \\Gamma^{t}{}_{xx} = 0$</font>"
       ],
       "metadata": {},
       "output_type": "display_data",
       "text": [
        "<IPython.core.display.HTML object>"
       ]
      },
      {
       "html": [
        "<font size=3 color=black>&nbsp; &nbsp; &nbsp; &nbsp;&nbsp; &nbsp; &nbsp; &nbsp;$\\sigma=1:\\;$$\\Gamma^{t}{}_{tx} \\Gamma^{x}{}_{xx} = 0$</font>"
       ],
       "metadata": {},
       "output_type": "display_data",
       "text": [
        "<IPython.core.display.HTML object>"
       ]
      },
      {
       "html": [
        "<font size=3 color=black>&nbsp; &nbsp; &nbsp; &nbsp;1st product = 0</font>"
       ],
       "metadata": {},
       "output_type": "display_data",
       "text": [
        "<IPython.core.display.HTML object>"
       ]
      },
      {
       "html": [
        "<font size=3 color=black>&nbsp; &nbsp; &nbsp; &nbsp;&nbsp; &nbsp; &nbsp; &nbsp;$\\sigma=0:\\;$$\\Gamma^{t}{}_{xt} \\Gamma^{t}{}_{tx} = \\frac{g^{2}}{\\left(- 2 g x - 1\\right)^{2}}$</font>"
       ],
       "metadata": {},
       "output_type": "display_data",
       "text": [
        "<IPython.core.display.HTML object>"
       ]
      },
      {
       "html": [
        "<font size=3 color=black>&nbsp; &nbsp; &nbsp; &nbsp;&nbsp; &nbsp; &nbsp; &nbsp;$\\sigma=1:\\;$$\\Gamma^{t}{}_{xx} \\Gamma^{x}{}_{tx} = 0$</font>"
       ],
       "metadata": {},
       "output_type": "display_data",
       "text": [
        "<IPython.core.display.HTML object>"
       ]
      },
      {
       "html": [
        "<font size=3 color=black>&nbsp; &nbsp; &nbsp; &nbsp;2nd product = g**2/(-2*g*x - 1)**2</font>"
       ],
       "metadata": {},
       "output_type": "display_data",
       "text": [
        "<IPython.core.display.HTML object>"
       ]
      },
      {
       "html": [
        "<font size=3 color=black>&nbsp; &nbsp; &nbsp; &nbsp;$\\partial_{t} \\Gamma^{t}{}_{xx} = 0$</font>"
       ],
       "metadata": {},
       "output_type": "display_data",
       "text": [
        "<IPython.core.display.HTML object>"
       ]
      },
      {
       "html": [
        "<font size=3 color=black>&nbsp; &nbsp; &nbsp; &nbsp;$\\partial_{x} \\Gamma^{t}{}_{tx} = - \\frac{2 g^{2}}{\\left(- 2 g x - 1\\right)^{2}}$</font>"
       ],
       "metadata": {},
       "output_type": "display_data",
       "text": [
        "<IPython.core.display.HTML object>"
       ]
      },
      {
       "html": [
        "<font size=3 color=black>$R^{t}{}_{xtx}$</font>"
       ],
       "metadata": {},
       "output_type": "display_data",
       "text": [
        "<IPython.core.display.HTML object>"
       ]
      },
      {
       "html": [
        "<font size=3 color=black>$ = (0)-(\\frac{g^{2}}{\\left(- 2 g x - 1\\right)^{2}})+(0)-(- \\frac{2 g^{2}}{\\left(- 2 g x - 1\\right)^{2}})$</font>"
       ],
       "metadata": {},
       "output_type": "display_data",
       "text": [
        "<IPython.core.display.HTML object>"
       ]
      },
      {
       "html": [
        "<font size=3 color=black>$ = \\frac{g^{2}}{\\left(- 2 g x - 1\\right)^{2}}$</font>"
       ],
       "metadata": {},
       "output_type": "display_data",
       "text": [
        "<IPython.core.display.HTML object>"
       ]
      },
      {
       "output_type": "stream",
       "stream": "stdout",
       "text": [
        "\n"
       ]
      },
      {
       "html": [
        "<font size=3 color=black>Doing $R^{\\alpha=0}_{\\rho=1, \\gamma=1, \\beta=0}$</font>"
       ],
       "metadata": {},
       "output_type": "display_data",
       "text": [
        "<IPython.core.display.HTML object>"
       ]
      },
      {
       "html": [
        "<font size=3 color=black>&nbsp; &nbsp; &nbsp; &nbsp;&nbsp; &nbsp; &nbsp; &nbsp;$\\sigma=0:\\;$$\\Gamma^{t}{}_{xt} \\Gamma^{t}{}_{tx} = \\frac{g^{2}}{\\left(- 2 g x - 1\\right)^{2}}$</font>"
       ],
       "metadata": {},
       "output_type": "display_data",
       "text": [
        "<IPython.core.display.HTML object>"
       ]
      },
      {
       "html": [
        "<font size=3 color=black>&nbsp; &nbsp; &nbsp; &nbsp;&nbsp; &nbsp; &nbsp; &nbsp;$\\sigma=1:\\;$$\\Gamma^{t}{}_{xx} \\Gamma^{x}{}_{tx} = 0$</font>"
       ],
       "metadata": {},
       "output_type": "display_data",
       "text": [
        "<IPython.core.display.HTML object>"
       ]
      },
      {
       "html": [
        "<font size=3 color=black>&nbsp; &nbsp; &nbsp; &nbsp;1st product = g**2/(-2*g*x - 1)**2</font>"
       ],
       "metadata": {},
       "output_type": "display_data",
       "text": [
        "<IPython.core.display.HTML object>"
       ]
      },
      {
       "html": [
        "<font size=3 color=black>&nbsp; &nbsp; &nbsp; &nbsp;&nbsp; &nbsp; &nbsp; &nbsp;$\\sigma=0:\\;$$\\Gamma^{t}{}_{tt} \\Gamma^{t}{}_{xx} = 0$</font>"
       ],
       "metadata": {},
       "output_type": "display_data",
       "text": [
        "<IPython.core.display.HTML object>"
       ]
      },
      {
       "html": [
        "<font size=3 color=black>&nbsp; &nbsp; &nbsp; &nbsp;&nbsp; &nbsp; &nbsp; &nbsp;$\\sigma=1:\\;$$\\Gamma^{t}{}_{tx} \\Gamma^{x}{}_{xx} = 0$</font>"
       ],
       "metadata": {},
       "output_type": "display_data",
       "text": [
        "<IPython.core.display.HTML object>"
       ]
      },
      {
       "html": [
        "<font size=3 color=black>&nbsp; &nbsp; &nbsp; &nbsp;2nd product = 0</font>"
       ],
       "metadata": {},
       "output_type": "display_data",
       "text": [
        "<IPython.core.display.HTML object>"
       ]
      },
      {
       "html": [
        "<font size=3 color=black>&nbsp; &nbsp; &nbsp; &nbsp;$\\partial_{x} \\Gamma^{t}{}_{tx} = - \\frac{2 g^{2}}{\\left(- 2 g x - 1\\right)^{2}}$</font>"
       ],
       "metadata": {},
       "output_type": "display_data",
       "text": [
        "<IPython.core.display.HTML object>"
       ]
      },
      {
       "html": [
        "<font size=3 color=black>&nbsp; &nbsp; &nbsp; &nbsp;$\\partial_{t} \\Gamma^{t}{}_{xx} = 0$</font>"
       ],
       "metadata": {},
       "output_type": "display_data",
       "text": [
        "<IPython.core.display.HTML object>"
       ]
      },
      {
       "html": [
        "<font size=3 color=black>$R^{t}{}_{xxt}$</font>"
       ],
       "metadata": {},
       "output_type": "display_data",
       "text": [
        "<IPython.core.display.HTML object>"
       ]
      },
      {
       "html": [
        "<font size=3 color=black>$ = (\\frac{g^{2}}{\\left(- 2 g x - 1\\right)^{2}})-(0)+(- \\frac{2 g^{2}}{\\left(- 2 g x - 1\\right)^{2}})-(0)$</font>"
       ],
       "metadata": {},
       "output_type": "display_data",
       "text": [
        "<IPython.core.display.HTML object>"
       ]
      },
      {
       "html": [
        "<font size=3 color=black>$ = - \\frac{g^{2}}{\\left(- 2 g x - 1\\right)^{2}}$</font>"
       ],
       "metadata": {},
       "output_type": "display_data",
       "text": [
        "<IPython.core.display.HTML object>"
       ]
      },
      {
       "output_type": "stream",
       "stream": "stdout",
       "text": [
        "\n"
       ]
      },
      {
       "html": [
        "<font size=3 color=black>Doing $R^{\\alpha=0}_{\\rho=1, \\gamma=1, \\beta=1}$</font>"
       ],
       "metadata": {},
       "output_type": "display_data",
       "text": [
        "<IPython.core.display.HTML object>"
       ]
      },
      {
       "html": [
        "<font size=3 color=black>&nbsp; &nbsp; &nbsp; &nbsp;&nbsp; &nbsp; &nbsp; &nbsp;$\\sigma=0:\\;$$\\Gamma^{t}{}_{xt} \\Gamma^{t}{}_{xx} = 0$</font>"
       ],
       "metadata": {},
       "output_type": "display_data",
       "text": [
        "<IPython.core.display.HTML object>"
       ]
      },
      {
       "html": [
        "<font size=3 color=black>&nbsp; &nbsp; &nbsp; &nbsp;&nbsp; &nbsp; &nbsp; &nbsp;$\\sigma=1:\\;$$\\Gamma^{t}{}_{xx} \\Gamma^{x}{}_{xx} = 0$</font>"
       ],
       "metadata": {},
       "output_type": "display_data",
       "text": [
        "<IPython.core.display.HTML object>"
       ]
      },
      {
       "html": [
        "<font size=3 color=black>&nbsp; &nbsp; &nbsp; &nbsp;1st product = 0</font>"
       ],
       "metadata": {},
       "output_type": "display_data",
       "text": [
        "<IPython.core.display.HTML object>"
       ]
      },
      {
       "html": [
        "<font size=3 color=black>&nbsp; &nbsp; &nbsp; &nbsp;&nbsp; &nbsp; &nbsp; &nbsp;$\\sigma=0:\\;$$\\Gamma^{t}{}_{xt} \\Gamma^{t}{}_{xx} = 0$</font>"
       ],
       "metadata": {},
       "output_type": "display_data",
       "text": [
        "<IPython.core.display.HTML object>"
       ]
      },
      {
       "html": [
        "<font size=3 color=black>&nbsp; &nbsp; &nbsp; &nbsp;&nbsp; &nbsp; &nbsp; &nbsp;$\\sigma=1:\\;$$\\Gamma^{t}{}_{xx} \\Gamma^{x}{}_{xx} = 0$</font>"
       ],
       "metadata": {},
       "output_type": "display_data",
       "text": [
        "<IPython.core.display.HTML object>"
       ]
      },
      {
       "html": [
        "<font size=3 color=black>&nbsp; &nbsp; &nbsp; &nbsp;2nd product = 0</font>"
       ],
       "metadata": {},
       "output_type": "display_data",
       "text": [
        "<IPython.core.display.HTML object>"
       ]
      },
      {
       "html": [
        "<font size=3 color=black>&nbsp; &nbsp; &nbsp; &nbsp;$\\partial_{x} \\Gamma^{t}{}_{xx} = 0$</font>"
       ],
       "metadata": {},
       "output_type": "display_data",
       "text": [
        "<IPython.core.display.HTML object>"
       ]
      },
      {
       "html": [
        "<font size=3 color=black>&nbsp; &nbsp; &nbsp; &nbsp;$\\partial_{x} \\Gamma^{t}{}_{xx} = 0$</font>"
       ],
       "metadata": {},
       "output_type": "display_data",
       "text": [
        "<IPython.core.display.HTML object>"
       ]
      },
      {
       "html": [
        "<font size=3 color=black>$R^{t}{}_{xxx}$</font>"
       ],
       "metadata": {},
       "output_type": "display_data",
       "text": [
        "<IPython.core.display.HTML object>"
       ]
      },
      {
       "html": [
        "<font size=3 color=black>$ = (0)-(0)+(0)-(0)$</font>"
       ],
       "metadata": {},
       "output_type": "display_data",
       "text": [
        "<IPython.core.display.HTML object>"
       ]
      },
      {
       "html": [
        "<font size=3 color=black>$ = 0$</font>"
       ],
       "metadata": {},
       "output_type": "display_data",
       "text": [
        "<IPython.core.display.HTML object>"
       ]
      },
      {
       "output_type": "stream",
       "stream": "stdout",
       "text": [
        "\n"
       ]
      },
      {
       "html": [
        "<font size=3 color=black>Doing $R^{\\alpha=1}_{\\rho=0, \\gamma=0, \\beta=0}$</font>"
       ],
       "metadata": {},
       "output_type": "display_data",
       "text": [
        "<IPython.core.display.HTML object>"
       ]
      },
      {
       "html": [
        "<font size=3 color=black>&nbsp; &nbsp; &nbsp; &nbsp;&nbsp; &nbsp; &nbsp; &nbsp;$\\sigma=0:\\;$$\\Gamma^{x}{}_{tt} \\Gamma^{t}{}_{tt} = 0$</font>"
       ],
       "metadata": {},
       "output_type": "display_data",
       "text": [
        "<IPython.core.display.HTML object>"
       ]
      },
      {
       "html": [
        "<font size=3 color=black>&nbsp; &nbsp; &nbsp; &nbsp;&nbsp; &nbsp; &nbsp; &nbsp;$\\sigma=1:\\;$$\\Gamma^{x}{}_{tx} \\Gamma^{x}{}_{tt} = 0$</font>"
       ],
       "metadata": {},
       "output_type": "display_data",
       "text": [
        "<IPython.core.display.HTML object>"
       ]
      },
      {
       "html": [
        "<font size=3 color=black>&nbsp; &nbsp; &nbsp; &nbsp;1st product = 0</font>"
       ],
       "metadata": {},
       "output_type": "display_data",
       "text": [
        "<IPython.core.display.HTML object>"
       ]
      },
      {
       "html": [
        "<font size=3 color=black>&nbsp; &nbsp; &nbsp; &nbsp;&nbsp; &nbsp; &nbsp; &nbsp;$\\sigma=0:\\;$$\\Gamma^{x}{}_{tt} \\Gamma^{t}{}_{tt} = 0$</font>"
       ],
       "metadata": {},
       "output_type": "display_data",
       "text": [
        "<IPython.core.display.HTML object>"
       ]
      },
      {
       "html": [
        "<font size=3 color=black>&nbsp; &nbsp; &nbsp; &nbsp;&nbsp; &nbsp; &nbsp; &nbsp;$\\sigma=1:\\;$$\\Gamma^{x}{}_{tx} \\Gamma^{x}{}_{tt} = 0$</font>"
       ],
       "metadata": {},
       "output_type": "display_data",
       "text": [
        "<IPython.core.display.HTML object>"
       ]
      },
      {
       "html": [
        "<font size=3 color=black>&nbsp; &nbsp; &nbsp; &nbsp;2nd product = 0</font>"
       ],
       "metadata": {},
       "output_type": "display_data",
       "text": [
        "<IPython.core.display.HTML object>"
       ]
      },
      {
       "html": [
        "<font size=3 color=black>&nbsp; &nbsp; &nbsp; &nbsp;$\\partial_{t} \\Gamma^{x}{}_{tt} = 0$</font>"
       ],
       "metadata": {},
       "output_type": "display_data",
       "text": [
        "<IPython.core.display.HTML object>"
       ]
      },
      {
       "html": [
        "<font size=3 color=black>&nbsp; &nbsp; &nbsp; &nbsp;$\\partial_{t} \\Gamma^{x}{}_{tt} = 0$</font>"
       ],
       "metadata": {},
       "output_type": "display_data",
       "text": [
        "<IPython.core.display.HTML object>"
       ]
      },
      {
       "html": [
        "<font size=3 color=black>$R^{x}{}_{ttt}$</font>"
       ],
       "metadata": {},
       "output_type": "display_data",
       "text": [
        "<IPython.core.display.HTML object>"
       ]
      },
      {
       "html": [
        "<font size=3 color=black>$ = (0)-(0)+(0)-(0)$</font>"
       ],
       "metadata": {},
       "output_type": "display_data",
       "text": [
        "<IPython.core.display.HTML object>"
       ]
      },
      {
       "html": [
        "<font size=3 color=black>$ = 0$</font>"
       ],
       "metadata": {},
       "output_type": "display_data",
       "text": [
        "<IPython.core.display.HTML object>"
       ]
      },
      {
       "output_type": "stream",
       "stream": "stdout",
       "text": [
        "\n"
       ]
      },
      {
       "html": [
        "<font size=3 color=black>Doing $R^{\\alpha=1}_{\\rho=0, \\gamma=0, \\beta=1}$</font>"
       ],
       "metadata": {},
       "output_type": "display_data",
       "text": [
        "<IPython.core.display.HTML object>"
       ]
      },
      {
       "html": [
        "<font size=3 color=black>&nbsp; &nbsp; &nbsp; &nbsp;&nbsp; &nbsp; &nbsp; &nbsp;$\\sigma=0:\\;$$\\Gamma^{x}{}_{tt} \\Gamma^{t}{}_{xt} = - \\frac{g^{2}}{- 2 g x - 1}$</font>"
       ],
       "metadata": {},
       "output_type": "display_data",
       "text": [
        "<IPython.core.display.HTML object>"
       ]
      },
      {
       "html": [
        "<font size=3 color=black>&nbsp; &nbsp; &nbsp; &nbsp;&nbsp; &nbsp; &nbsp; &nbsp;$\\sigma=1:\\;$$\\Gamma^{x}{}_{tx} \\Gamma^{x}{}_{xt} = 0$</font>"
       ],
       "metadata": {},
       "output_type": "display_data",
       "text": [
        "<IPython.core.display.HTML object>"
       ]
      },
      {
       "html": [
        "<font size=3 color=black>&nbsp; &nbsp; &nbsp; &nbsp;1st product = -g**2/(-2*g*x - 1)</font>"
       ],
       "metadata": {},
       "output_type": "display_data",
       "text": [
        "<IPython.core.display.HTML object>"
       ]
      },
      {
       "html": [
        "<font size=3 color=black>&nbsp; &nbsp; &nbsp; &nbsp;&nbsp; &nbsp; &nbsp; &nbsp;$\\sigma=0:\\;$$\\Gamma^{x}{}_{xt} \\Gamma^{t}{}_{tt} = 0$</font>"
       ],
       "metadata": {},
       "output_type": "display_data",
       "text": [
        "<IPython.core.display.HTML object>"
       ]
      },
      {
       "html": [
        "<font size=3 color=black>&nbsp; &nbsp; &nbsp; &nbsp;&nbsp; &nbsp; &nbsp; &nbsp;$\\sigma=1:\\;$$\\Gamma^{x}{}_{xx} \\Gamma^{x}{}_{tt} = 0$</font>"
       ],
       "metadata": {},
       "output_type": "display_data",
       "text": [
        "<IPython.core.display.HTML object>"
       ]
      },
      {
       "html": [
        "<font size=3 color=black>&nbsp; &nbsp; &nbsp; &nbsp;2nd product = 0</font>"
       ],
       "metadata": {},
       "output_type": "display_data",
       "text": [
        "<IPython.core.display.HTML object>"
       ]
      },
      {
       "html": [
        "<font size=3 color=black>&nbsp; &nbsp; &nbsp; &nbsp;$\\partial_{t} \\Gamma^{x}{}_{xt} = 0$</font>"
       ],
       "metadata": {},
       "output_type": "display_data",
       "text": [
        "<IPython.core.display.HTML object>"
       ]
      },
      {
       "html": [
        "<font size=3 color=black>&nbsp; &nbsp; &nbsp; &nbsp;$\\partial_{x} \\Gamma^{x}{}_{tt} = 0$</font>"
       ],
       "metadata": {},
       "output_type": "display_data",
       "text": [
        "<IPython.core.display.HTML object>"
       ]
      },
      {
       "html": [
        "<font size=3 color=black>$R^{x}{}_{ttx}$</font>"
       ],
       "metadata": {},
       "output_type": "display_data",
       "text": [
        "<IPython.core.display.HTML object>"
       ]
      },
      {
       "html": [
        "<font size=3 color=black>$ = (- \\frac{g^{2}}{- 2 g x - 1})-(0)+(0)-(0)$</font>"
       ],
       "metadata": {},
       "output_type": "display_data",
       "text": [
        "<IPython.core.display.HTML object>"
       ]
      },
      {
       "html": [
        "<font size=3 color=black>$ = - \\frac{g^{2}}{- 2 g x - 1}$</font>"
       ],
       "metadata": {},
       "output_type": "display_data",
       "text": [
        "<IPython.core.display.HTML object>"
       ]
      },
      {
       "output_type": "stream",
       "stream": "stdout",
       "text": [
        "\n"
       ]
      },
      {
       "html": [
        "<font size=3 color=black>Doing $R^{\\alpha=1}_{\\rho=0, \\gamma=1, \\beta=0}$</font>"
       ],
       "metadata": {},
       "output_type": "display_data",
       "text": [
        "<IPython.core.display.HTML object>"
       ]
      },
      {
       "html": [
        "<font size=3 color=black>&nbsp; &nbsp; &nbsp; &nbsp;&nbsp; &nbsp; &nbsp; &nbsp;$\\sigma=0:\\;$$\\Gamma^{x}{}_{xt} \\Gamma^{t}{}_{tt} = 0$</font>"
       ],
       "metadata": {},
       "output_type": "display_data",
       "text": [
        "<IPython.core.display.HTML object>"
       ]
      },
      {
       "html": [
        "<font size=3 color=black>&nbsp; &nbsp; &nbsp; &nbsp;&nbsp; &nbsp; &nbsp; &nbsp;$\\sigma=1:\\;$$\\Gamma^{x}{}_{xx} \\Gamma^{x}{}_{tt} = 0$</font>"
       ],
       "metadata": {},
       "output_type": "display_data",
       "text": [
        "<IPython.core.display.HTML object>"
       ]
      },
      {
       "html": [
        "<font size=3 color=black>&nbsp; &nbsp; &nbsp; &nbsp;1st product = 0</font>"
       ],
       "metadata": {},
       "output_type": "display_data",
       "text": [
        "<IPython.core.display.HTML object>"
       ]
      },
      {
       "html": [
        "<font size=3 color=black>&nbsp; &nbsp; &nbsp; &nbsp;&nbsp; &nbsp; &nbsp; &nbsp;$\\sigma=0:\\;$$\\Gamma^{x}{}_{tt} \\Gamma^{t}{}_{xt} = - \\frac{g^{2}}{- 2 g x - 1}$</font>"
       ],
       "metadata": {},
       "output_type": "display_data",
       "text": [
        "<IPython.core.display.HTML object>"
       ]
      },
      {
       "html": [
        "<font size=3 color=black>&nbsp; &nbsp; &nbsp; &nbsp;&nbsp; &nbsp; &nbsp; &nbsp;$\\sigma=1:\\;$$\\Gamma^{x}{}_{tx} \\Gamma^{x}{}_{xt} = 0$</font>"
       ],
       "metadata": {},
       "output_type": "display_data",
       "text": [
        "<IPython.core.display.HTML object>"
       ]
      },
      {
       "html": [
        "<font size=3 color=black>&nbsp; &nbsp; &nbsp; &nbsp;2nd product = -g**2/(-2*g*x - 1)</font>"
       ],
       "metadata": {},
       "output_type": "display_data",
       "text": [
        "<IPython.core.display.HTML object>"
       ]
      },
      {
       "html": [
        "<font size=3 color=black>&nbsp; &nbsp; &nbsp; &nbsp;$\\partial_{x} \\Gamma^{x}{}_{tt} = 0$</font>"
       ],
       "metadata": {},
       "output_type": "display_data",
       "text": [
        "<IPython.core.display.HTML object>"
       ]
      },
      {
       "html": [
        "<font size=3 color=black>&nbsp; &nbsp; &nbsp; &nbsp;$\\partial_{t} \\Gamma^{x}{}_{xt} = 0$</font>"
       ],
       "metadata": {},
       "output_type": "display_data",
       "text": [
        "<IPython.core.display.HTML object>"
       ]
      },
      {
       "html": [
        "<font size=3 color=black>$R^{x}{}_{txt}$</font>"
       ],
       "metadata": {},
       "output_type": "display_data",
       "text": [
        "<IPython.core.display.HTML object>"
       ]
      },
      {
       "html": [
        "<font size=3 color=black>$ = (0)-(- \\frac{g^{2}}{- 2 g x - 1})+(0)-(0)$</font>"
       ],
       "metadata": {},
       "output_type": "display_data",
       "text": [
        "<IPython.core.display.HTML object>"
       ]
      },
      {
       "html": [
        "<font size=3 color=black>$ = \\frac{g^{2}}{- 2 g x - 1}$</font>"
       ],
       "metadata": {},
       "output_type": "display_data",
       "text": [
        "<IPython.core.display.HTML object>"
       ]
      },
      {
       "output_type": "stream",
       "stream": "stdout",
       "text": [
        "\n"
       ]
      },
      {
       "html": [
        "<font size=3 color=black>Doing $R^{\\alpha=1}_{\\rho=0, \\gamma=1, \\beta=1}$</font>"
       ],
       "metadata": {},
       "output_type": "display_data",
       "text": [
        "<IPython.core.display.HTML object>"
       ]
      },
      {
       "html": [
        "<font size=3 color=black>&nbsp; &nbsp; &nbsp; &nbsp;&nbsp; &nbsp; &nbsp; &nbsp;$\\sigma=0:\\;$$\\Gamma^{x}{}_{xt} \\Gamma^{t}{}_{xt} = 0$</font>"
       ],
       "metadata": {},
       "output_type": "display_data",
       "text": [
        "<IPython.core.display.HTML object>"
       ]
      },
      {
       "html": [
        "<font size=3 color=black>&nbsp; &nbsp; &nbsp; &nbsp;&nbsp; &nbsp; &nbsp; &nbsp;$\\sigma=1:\\;$$\\Gamma^{x}{}_{xx} \\Gamma^{x}{}_{xt} = 0$</font>"
       ],
       "metadata": {},
       "output_type": "display_data",
       "text": [
        "<IPython.core.display.HTML object>"
       ]
      },
      {
       "html": [
        "<font size=3 color=black>&nbsp; &nbsp; &nbsp; &nbsp;1st product = 0</font>"
       ],
       "metadata": {},
       "output_type": "display_data",
       "text": [
        "<IPython.core.display.HTML object>"
       ]
      },
      {
       "html": [
        "<font size=3 color=black>&nbsp; &nbsp; &nbsp; &nbsp;&nbsp; &nbsp; &nbsp; &nbsp;$\\sigma=0:\\;$$\\Gamma^{x}{}_{xt} \\Gamma^{t}{}_{xt} = 0$</font>"
       ],
       "metadata": {},
       "output_type": "display_data",
       "text": [
        "<IPython.core.display.HTML object>"
       ]
      },
      {
       "html": [
        "<font size=3 color=black>&nbsp; &nbsp; &nbsp; &nbsp;&nbsp; &nbsp; &nbsp; &nbsp;$\\sigma=1:\\;$$\\Gamma^{x}{}_{xx} \\Gamma^{x}{}_{xt} = 0$</font>"
       ],
       "metadata": {},
       "output_type": "display_data",
       "text": [
        "<IPython.core.display.HTML object>"
       ]
      },
      {
       "html": [
        "<font size=3 color=black>&nbsp; &nbsp; &nbsp; &nbsp;2nd product = 0</font>"
       ],
       "metadata": {},
       "output_type": "display_data",
       "text": [
        "<IPython.core.display.HTML object>"
       ]
      },
      {
       "html": [
        "<font size=3 color=black>&nbsp; &nbsp; &nbsp; &nbsp;$\\partial_{x} \\Gamma^{x}{}_{xt} = 0$</font>"
       ],
       "metadata": {},
       "output_type": "display_data",
       "text": [
        "<IPython.core.display.HTML object>"
       ]
      },
      {
       "html": [
        "<font size=3 color=black>&nbsp; &nbsp; &nbsp; &nbsp;$\\partial_{x} \\Gamma^{x}{}_{xt} = 0$</font>"
       ],
       "metadata": {},
       "output_type": "display_data",
       "text": [
        "<IPython.core.display.HTML object>"
       ]
      },
      {
       "html": [
        "<font size=3 color=black>$R^{x}{}_{txx}$</font>"
       ],
       "metadata": {},
       "output_type": "display_data",
       "text": [
        "<IPython.core.display.HTML object>"
       ]
      },
      {
       "html": [
        "<font size=3 color=black>$ = (0)-(0)+(0)-(0)$</font>"
       ],
       "metadata": {},
       "output_type": "display_data",
       "text": [
        "<IPython.core.display.HTML object>"
       ]
      },
      {
       "html": [
        "<font size=3 color=black>$ = 0$</font>"
       ],
       "metadata": {},
       "output_type": "display_data",
       "text": [
        "<IPython.core.display.HTML object>"
       ]
      },
      {
       "output_type": "stream",
       "stream": "stdout",
       "text": [
        "\n"
       ]
      },
      {
       "html": [
        "<font size=3 color=black>Doing $R^{\\alpha=1}_{\\rho=1, \\gamma=0, \\beta=0}$</font>"
       ],
       "metadata": {},
       "output_type": "display_data",
       "text": [
        "<IPython.core.display.HTML object>"
       ]
      },
      {
       "html": [
        "<font size=3 color=black>&nbsp; &nbsp; &nbsp; &nbsp;&nbsp; &nbsp; &nbsp; &nbsp;$\\sigma=0:\\;$$\\Gamma^{x}{}_{tt} \\Gamma^{t}{}_{tx} = - \\frac{g^{2}}{- 2 g x - 1}$</font>"
       ],
       "metadata": {},
       "output_type": "display_data",
       "text": [
        "<IPython.core.display.HTML object>"
       ]
      },
      {
       "html": [
        "<font size=3 color=black>&nbsp; &nbsp; &nbsp; &nbsp;&nbsp; &nbsp; &nbsp; &nbsp;$\\sigma=1:\\;$$\\Gamma^{x}{}_{tx} \\Gamma^{x}{}_{tx} = 0$</font>"
       ],
       "metadata": {},
       "output_type": "display_data",
       "text": [
        "<IPython.core.display.HTML object>"
       ]
      },
      {
       "html": [
        "<font size=3 color=black>&nbsp; &nbsp; &nbsp; &nbsp;1st product = -g**2/(-2*g*x - 1)</font>"
       ],
       "metadata": {},
       "output_type": "display_data",
       "text": [
        "<IPython.core.display.HTML object>"
       ]
      },
      {
       "html": [
        "<font size=3 color=black>&nbsp; &nbsp; &nbsp; &nbsp;&nbsp; &nbsp; &nbsp; &nbsp;$\\sigma=0:\\;$$\\Gamma^{x}{}_{tt} \\Gamma^{t}{}_{tx} = - \\frac{g^{2}}{- 2 g x - 1}$</font>"
       ],
       "metadata": {},
       "output_type": "display_data",
       "text": [
        "<IPython.core.display.HTML object>"
       ]
      },
      {
       "html": [
        "<font size=3 color=black>&nbsp; &nbsp; &nbsp; &nbsp;&nbsp; &nbsp; &nbsp; &nbsp;$\\sigma=1:\\;$$\\Gamma^{x}{}_{tx} \\Gamma^{x}{}_{tx} = 0$</font>"
       ],
       "metadata": {},
       "output_type": "display_data",
       "text": [
        "<IPython.core.display.HTML object>"
       ]
      },
      {
       "html": [
        "<font size=3 color=black>&nbsp; &nbsp; &nbsp; &nbsp;2nd product = -g**2/(-2*g*x - 1)</font>"
       ],
       "metadata": {},
       "output_type": "display_data",
       "text": [
        "<IPython.core.display.HTML object>"
       ]
      },
      {
       "html": [
        "<font size=3 color=black>&nbsp; &nbsp; &nbsp; &nbsp;$\\partial_{t} \\Gamma^{x}{}_{tx} = 0$</font>"
       ],
       "metadata": {},
       "output_type": "display_data",
       "text": [
        "<IPython.core.display.HTML object>"
       ]
      },
      {
       "html": [
        "<font size=3 color=black>&nbsp; &nbsp; &nbsp; &nbsp;$\\partial_{t} \\Gamma^{x}{}_{tx} = 0$</font>"
       ],
       "metadata": {},
       "output_type": "display_data",
       "text": [
        "<IPython.core.display.HTML object>"
       ]
      },
      {
       "html": [
        "<font size=3 color=black>$R^{x}{}_{xtt}$</font>"
       ],
       "metadata": {},
       "output_type": "display_data",
       "text": [
        "<IPython.core.display.HTML object>"
       ]
      },
      {
       "html": [
        "<font size=3 color=black>$ = (- \\frac{g^{2}}{- 2 g x - 1})-(- \\frac{g^{2}}{- 2 g x - 1})+(0)-(0)$</font>"
       ],
       "metadata": {},
       "output_type": "display_data",
       "text": [
        "<IPython.core.display.HTML object>"
       ]
      },
      {
       "html": [
        "<font size=3 color=black>$ = 0$</font>"
       ],
       "metadata": {},
       "output_type": "display_data",
       "text": [
        "<IPython.core.display.HTML object>"
       ]
      },
      {
       "output_type": "stream",
       "stream": "stdout",
       "text": [
        "\n"
       ]
      },
      {
       "html": [
        "<font size=3 color=black>Doing $R^{\\alpha=1}_{\\rho=1, \\gamma=0, \\beta=1}$</font>"
       ],
       "metadata": {},
       "output_type": "display_data",
       "text": [
        "<IPython.core.display.HTML object>"
       ]
      },
      {
       "html": [
        "<font size=3 color=black>&nbsp; &nbsp; &nbsp; &nbsp;&nbsp; &nbsp; &nbsp; &nbsp;$\\sigma=0:\\;$$\\Gamma^{x}{}_{tt} \\Gamma^{t}{}_{xx} = 0$</font>"
       ],
       "metadata": {},
       "output_type": "display_data",
       "text": [
        "<IPython.core.display.HTML object>"
       ]
      },
      {
       "html": [
        "<font size=3 color=black>&nbsp; &nbsp; &nbsp; &nbsp;&nbsp; &nbsp; &nbsp; &nbsp;$\\sigma=1:\\;$$\\Gamma^{x}{}_{tx} \\Gamma^{x}{}_{xx} = 0$</font>"
       ],
       "metadata": {},
       "output_type": "display_data",
       "text": [
        "<IPython.core.display.HTML object>"
       ]
      },
      {
       "html": [
        "<font size=3 color=black>&nbsp; &nbsp; &nbsp; &nbsp;1st product = 0</font>"
       ],
       "metadata": {},
       "output_type": "display_data",
       "text": [
        "<IPython.core.display.HTML object>"
       ]
      },
      {
       "html": [
        "<font size=3 color=black>&nbsp; &nbsp; &nbsp; &nbsp;&nbsp; &nbsp; &nbsp; &nbsp;$\\sigma=0:\\;$$\\Gamma^{x}{}_{xt} \\Gamma^{t}{}_{tx} = 0$</font>"
       ],
       "metadata": {},
       "output_type": "display_data",
       "text": [
        "<IPython.core.display.HTML object>"
       ]
      },
      {
       "html": [
        "<font size=3 color=black>&nbsp; &nbsp; &nbsp; &nbsp;&nbsp; &nbsp; &nbsp; &nbsp;$\\sigma=1:\\;$$\\Gamma^{x}{}_{xx} \\Gamma^{x}{}_{tx} = 0$</font>"
       ],
       "metadata": {},
       "output_type": "display_data",
       "text": [
        "<IPython.core.display.HTML object>"
       ]
      },
      {
       "html": [
        "<font size=3 color=black>&nbsp; &nbsp; &nbsp; &nbsp;2nd product = 0</font>"
       ],
       "metadata": {},
       "output_type": "display_data",
       "text": [
        "<IPython.core.display.HTML object>"
       ]
      },
      {
       "html": [
        "<font size=3 color=black>&nbsp; &nbsp; &nbsp; &nbsp;$\\partial_{t} \\Gamma^{x}{}_{xx} = 0$</font>"
       ],
       "metadata": {},
       "output_type": "display_data",
       "text": [
        "<IPython.core.display.HTML object>"
       ]
      },
      {
       "html": [
        "<font size=3 color=black>&nbsp; &nbsp; &nbsp; &nbsp;$\\partial_{x} \\Gamma^{x}{}_{tx} = 0$</font>"
       ],
       "metadata": {},
       "output_type": "display_data",
       "text": [
        "<IPython.core.display.HTML object>"
       ]
      },
      {
       "html": [
        "<font size=3 color=black>$R^{x}{}_{xtx}$</font>"
       ],
       "metadata": {},
       "output_type": "display_data",
       "text": [
        "<IPython.core.display.HTML object>"
       ]
      },
      {
       "html": [
        "<font size=3 color=black>$ = (0)-(0)+(0)-(0)$</font>"
       ],
       "metadata": {},
       "output_type": "display_data",
       "text": [
        "<IPython.core.display.HTML object>"
       ]
      },
      {
       "html": [
        "<font size=3 color=black>$ = 0$</font>"
       ],
       "metadata": {},
       "output_type": "display_data",
       "text": [
        "<IPython.core.display.HTML object>"
       ]
      },
      {
       "output_type": "stream",
       "stream": "stdout",
       "text": [
        "\n"
       ]
      },
      {
       "html": [
        "<font size=3 color=black>Doing $R^{\\alpha=1}_{\\rho=1, \\gamma=1, \\beta=0}$</font>"
       ],
       "metadata": {},
       "output_type": "display_data",
       "text": [
        "<IPython.core.display.HTML object>"
       ]
      },
      {
       "html": [
        "<font size=3 color=black>&nbsp; &nbsp; &nbsp; &nbsp;&nbsp; &nbsp; &nbsp; &nbsp;$\\sigma=0:\\;$$\\Gamma^{x}{}_{xt} \\Gamma^{t}{}_{tx} = 0$</font>"
       ],
       "metadata": {},
       "output_type": "display_data",
       "text": [
        "<IPython.core.display.HTML object>"
       ]
      },
      {
       "html": [
        "<font size=3 color=black>&nbsp; &nbsp; &nbsp; &nbsp;&nbsp; &nbsp; &nbsp; &nbsp;$\\sigma=1:\\;$$\\Gamma^{x}{}_{xx} \\Gamma^{x}{}_{tx} = 0$</font>"
       ],
       "metadata": {},
       "output_type": "display_data",
       "text": [
        "<IPython.core.display.HTML object>"
       ]
      },
      {
       "html": [
        "<font size=3 color=black>&nbsp; &nbsp; &nbsp; &nbsp;1st product = 0</font>"
       ],
       "metadata": {},
       "output_type": "display_data",
       "text": [
        "<IPython.core.display.HTML object>"
       ]
      },
      {
       "html": [
        "<font size=3 color=black>&nbsp; &nbsp; &nbsp; &nbsp;&nbsp; &nbsp; &nbsp; &nbsp;$\\sigma=0:\\;$$\\Gamma^{x}{}_{tt} \\Gamma^{t}{}_{xx} = 0$</font>"
       ],
       "metadata": {},
       "output_type": "display_data",
       "text": [
        "<IPython.core.display.HTML object>"
       ]
      },
      {
       "html": [
        "<font size=3 color=black>&nbsp; &nbsp; &nbsp; &nbsp;&nbsp; &nbsp; &nbsp; &nbsp;$\\sigma=1:\\;$$\\Gamma^{x}{}_{tx} \\Gamma^{x}{}_{xx} = 0$</font>"
       ],
       "metadata": {},
       "output_type": "display_data",
       "text": [
        "<IPython.core.display.HTML object>"
       ]
      },
      {
       "html": [
        "<font size=3 color=black>&nbsp; &nbsp; &nbsp; &nbsp;2nd product = 0</font>"
       ],
       "metadata": {},
       "output_type": "display_data",
       "text": [
        "<IPython.core.display.HTML object>"
       ]
      },
      {
       "html": [
        "<font size=3 color=black>&nbsp; &nbsp; &nbsp; &nbsp;$\\partial_{x} \\Gamma^{x}{}_{tx} = 0$</font>"
       ],
       "metadata": {},
       "output_type": "display_data",
       "text": [
        "<IPython.core.display.HTML object>"
       ]
      },
      {
       "html": [
        "<font size=3 color=black>&nbsp; &nbsp; &nbsp; &nbsp;$\\partial_{t} \\Gamma^{x}{}_{xx} = 0$</font>"
       ],
       "metadata": {},
       "output_type": "display_data",
       "text": [
        "<IPython.core.display.HTML object>"
       ]
      },
      {
       "html": [
        "<font size=3 color=black>$R^{x}{}_{xxt}$</font>"
       ],
       "metadata": {},
       "output_type": "display_data",
       "text": [
        "<IPython.core.display.HTML object>"
       ]
      },
      {
       "html": [
        "<font size=3 color=black>$ = (0)-(0)+(0)-(0)$</font>"
       ],
       "metadata": {},
       "output_type": "display_data",
       "text": [
        "<IPython.core.display.HTML object>"
       ]
      },
      {
       "html": [
        "<font size=3 color=black>$ = 0$</font>"
       ],
       "metadata": {},
       "output_type": "display_data",
       "text": [
        "<IPython.core.display.HTML object>"
       ]
      },
      {
       "output_type": "stream",
       "stream": "stdout",
       "text": [
        "\n"
       ]
      },
      {
       "html": [
        "<font size=3 color=black>Doing $R^{\\alpha=1}_{\\rho=1, \\gamma=1, \\beta=1}$</font>"
       ],
       "metadata": {},
       "output_type": "display_data",
       "text": [
        "<IPython.core.display.HTML object>"
       ]
      },
      {
       "html": [
        "<font size=3 color=black>&nbsp; &nbsp; &nbsp; &nbsp;&nbsp; &nbsp; &nbsp; &nbsp;$\\sigma=0:\\;$$\\Gamma^{x}{}_{xt} \\Gamma^{t}{}_{xx} = 0$</font>"
       ],
       "metadata": {},
       "output_type": "display_data",
       "text": [
        "<IPython.core.display.HTML object>"
       ]
      },
      {
       "html": [
        "<font size=3 color=black>&nbsp; &nbsp; &nbsp; &nbsp;&nbsp; &nbsp; &nbsp; &nbsp;$\\sigma=1:\\;$$\\Gamma^{x}{}_{xx} \\Gamma^{x}{}_{xx} = 0$</font>"
       ],
       "metadata": {},
       "output_type": "display_data",
       "text": [
        "<IPython.core.display.HTML object>"
       ]
      },
      {
       "html": [
        "<font size=3 color=black>&nbsp; &nbsp; &nbsp; &nbsp;1st product = 0</font>"
       ],
       "metadata": {},
       "output_type": "display_data",
       "text": [
        "<IPython.core.display.HTML object>"
       ]
      },
      {
       "html": [
        "<font size=3 color=black>&nbsp; &nbsp; &nbsp; &nbsp;&nbsp; &nbsp; &nbsp; &nbsp;$\\sigma=0:\\;$$\\Gamma^{x}{}_{xt} \\Gamma^{t}{}_{xx} = 0$</font>"
       ],
       "metadata": {},
       "output_type": "display_data",
       "text": [
        "<IPython.core.display.HTML object>"
       ]
      },
      {
       "html": [
        "<font size=3 color=black>&nbsp; &nbsp; &nbsp; &nbsp;&nbsp; &nbsp; &nbsp; &nbsp;$\\sigma=1:\\;$$\\Gamma^{x}{}_{xx} \\Gamma^{x}{}_{xx} = 0$</font>"
       ],
       "metadata": {},
       "output_type": "display_data",
       "text": [
        "<IPython.core.display.HTML object>"
       ]
      },
      {
       "html": [
        "<font size=3 color=black>&nbsp; &nbsp; &nbsp; &nbsp;2nd product = 0</font>"
       ],
       "metadata": {},
       "output_type": "display_data",
       "text": [
        "<IPython.core.display.HTML object>"
       ]
      },
      {
       "html": [
        "<font size=3 color=black>&nbsp; &nbsp; &nbsp; &nbsp;$\\partial_{x} \\Gamma^{x}{}_{xx} = 0$</font>"
       ],
       "metadata": {},
       "output_type": "display_data",
       "text": [
        "<IPython.core.display.HTML object>"
       ]
      },
      {
       "html": [
        "<font size=3 color=black>&nbsp; &nbsp; &nbsp; &nbsp;$\\partial_{x} \\Gamma^{x}{}_{xx} = 0$</font>"
       ],
       "metadata": {},
       "output_type": "display_data",
       "text": [
        "<IPython.core.display.HTML object>"
       ]
      },
      {
       "html": [
        "<font size=3 color=black>$R^{x}{}_{xxx}$</font>"
       ],
       "metadata": {},
       "output_type": "display_data",
       "text": [
        "<IPython.core.display.HTML object>"
       ]
      },
      {
       "html": [
        "<font size=3 color=black>$ = (0)-(0)+(0)-(0)$</font>"
       ],
       "metadata": {},
       "output_type": "display_data",
       "text": [
        "<IPython.core.display.HTML object>"
       ]
      },
      {
       "html": [
        "<font size=3 color=black>$ = 0$</font>"
       ],
       "metadata": {},
       "output_type": "display_data",
       "text": [
        "<IPython.core.display.HTML object>"
       ]
      },
      {
       "output_type": "stream",
       "stream": "stdout",
       "text": [
        "\n"
       ]
      },
      {
       "html": [
        "<font size=3 color=black>(2, 2, 2, 2)</font>"
       ],
       "metadata": {},
       "output_type": "display_data",
       "text": [
        "<IPython.core.display.HTML object>"
       ]
      },
      {
       "latex": [
        "$$\\begin{bmatrix}\\begin{bmatrix}\\begin{bmatrix}\\begin{bmatrix}0, & 0\\end{bmatrix}, & \\begin{bmatrix}0, & 0\\end{bmatrix}\\end{bmatrix}, & \\begin{bmatrix}\\begin{bmatrix}0, & \\frac{g^{2}}{\\left(- 2 g x - 1\\right)^{2}}\\end{bmatrix}, & \\begin{bmatrix}- \\frac{g^{2}}{\\left(- 2 g x - 1\\right)^{2}}, & 0\\end{bmatrix}\\end{bmatrix}\\end{bmatrix}, & \\begin{bmatrix}\\begin{bmatrix}\\begin{bmatrix}0, & - \\frac{g^{2}}{- 2 g x - 1}\\end{bmatrix}, & \\begin{bmatrix}\\frac{g^{2}}{- 2 g x - 1}, & 0\\end{bmatrix}\\end{bmatrix}, & \\begin{bmatrix}\\begin{bmatrix}0, & 0\\end{bmatrix}, & \\begin{bmatrix}0, & 0\\end{bmatrix}\\end{bmatrix}\\end{bmatrix}\\end{bmatrix}$$"
       ],
       "metadata": {},
       "output_type": "pyout",
       "png": "[encoded data removed]",
       "prompt_number": 73,
       "text": [
        "\u23a1\u23a1                  \u23a1\u23a1          2     \u23a4  \u23a1       2        \u23a4\u23a4\u23a4  \u23a1\u23a1\u23a1        2   \n",
        "\u23a2\u23a2                  \u23a2\u23a2         g      \u23a5  \u23a2     -g         \u23a5\u23a5\u23a5  \u23a2\u23a2\u23a2      -g    \n",
        "\u23a2\u23a2[[0, 0], [0, 0]], \u23a2\u23a20, \u2500\u2500\u2500\u2500\u2500\u2500\u2500\u2500\u2500\u2500\u2500\u2500\u2500\u23a5, \u23a2\u2500\u2500\u2500\u2500\u2500\u2500\u2500\u2500\u2500\u2500\u2500\u2500\u2500, 0\u23a5\u23a5\u23a5, \u23a2\u23a2\u23a20, \u2500\u2500\u2500\u2500\u2500\u2500\u2500\u2500\u2500\n",
        "\u23a2\u23a2                  \u23a2\u23a2               2\u23a5  \u23a2            2   \u23a5\u23a5\u23a5  \u23a3\u23a3\u23a3   -2\u22c5g\u22c5x - \n",
        "\u23a3\u23a3                  \u23a3\u23a3   (-2\u22c5g\u22c5x - 1) \u23a6  \u23a3(-2\u22c5g\u22c5x - 1)    \u23a6\u23a6\u23a6                 \n",
        "\n",
        " \u23a4  \u23a1     2       \u23a4\u23a4                  \u23a4\u23a4\n",
        " \u23a5  \u23a2    g        \u23a5\u23a5                  \u23a5\u23a5\n",
        "\u2500\u23a5, \u23a2\u2500\u2500\u2500\u2500\u2500\u2500\u2500\u2500\u2500\u2500, 0\u23a5\u23a5, [[0, 0], [0, 0]]\u23a5\u23a5\n",
        "1\u23a6  \u23a3-2\u22c5g\u22c5x - 1   \u23a6\u23a6                  \u23a6\u23a5\n",
        "                                       \u23a6"
       ]
      }
     ],
     "prompt_number": 73
    },
    {
     "cell_type": "code",
     "collapsed": false,
     "input": [
      "ricci_tensor = calc_ricci_tensor(riemann_tensor)\n",
      "ricci_tensor"
     ],
     "language": "python",
     "metadata": {},
     "outputs": [
      {
       "latex": [
        "$$\\begin{bmatrix}\\begin{bmatrix}\\frac{g^{2}}{- 2 g x - 1}, & 0\\end{bmatrix}, & \\begin{bmatrix}0, & \\frac{g^{2}}{\\left(- 2 g x - 1\\right)^{2}}\\end{bmatrix}\\end{bmatrix}$$"
       ],
       "metadata": {},
       "output_type": "pyout",
       "png": "[encoded data removed]",
       "prompt_number": 74,
       "text": [
        "\u23a1\u23a1     2       \u23a4  \u23a1          2     \u23a4\u23a4\n",
        "\u23a2\u23a2    g        \u23a5  \u23a2         g      \u23a5\u23a5\n",
        "\u23a2\u23a2\u2500\u2500\u2500\u2500\u2500\u2500\u2500\u2500\u2500\u2500, 0\u23a5, \u23a20, \u2500\u2500\u2500\u2500\u2500\u2500\u2500\u2500\u2500\u2500\u2500\u2500\u2500\u23a5\u23a5\n",
        "\u23a2\u23a3-2\u22c5g\u22c5x - 1   \u23a6  \u23a2               2\u23a5\u23a5\n",
        "\u23a3                 \u23a3   (-2\u22c5g\u22c5x - 1) \u23a6\u23a6"
       ]
      }
     ],
     "prompt_number": 74
    },
    {
     "cell_type": "code",
     "collapsed": false,
     "input": [
      "R = calc_ricci_scalar(g, ricci_tensor)\n",
      "R.simplify()"
     ],
     "language": "python",
     "metadata": {},
     "outputs": [
      {
       "latex": [
        "$$\\frac{2 g^{2}}{\\left(2 g x + 1\\right)^{2}}$$"
       ],
       "metadata": {},
       "output_type": "pyout",
       "png": "[encoded data removed]",
       "prompt_number": 75,
       "text": [
        "       2    \n",
        "    2\u22c5g     \n",
        "\u2500\u2500\u2500\u2500\u2500\u2500\u2500\u2500\u2500\u2500\u2500\u2500\n",
        "           2\n",
        "(2\u22c5g\u22c5x + 1) "
       ]
      }
     ],
     "prompt_number": 75
    },
    {
     "cell_type": "code",
     "collapsed": false,
     "input": [
      "a = calculate_geodesic(X, Gamma, v=True)\n",
      "a"
     ],
     "language": "python",
     "metadata": {},
     "outputs": [
      {
       "html": [
        "<font size=3 color=black>$\\ddot{x}^0 = $</font>"
       ],
       "metadata": {},
       "output_type": "display_data",
       "text": [
        "<IPython.core.display.HTML object>"
       ]
      },
      {
       "html": [
        "<font size=3 color=black>$\\;\\;\\;\\; -\\Gamma^t{}_{t t}\\,$$\\dot{x}^t\\dot{x}^t$$(0)\\,(\\frac{d}{d \\tau} t)\\,(\\frac{d}{d \\tau} t) = 0$</font>"
       ],
       "metadata": {},
       "output_type": "display_data",
       "text": [
        "<IPython.core.display.HTML object>"
       ]
      },
      {
       "html": [
        "<font size=3 color=black>$\\;\\;\\;\\; -\\Gamma^t{}_{t x}\\,$$\\dot{x}^t\\dot{x}^t$$(\\frac{g}{- 2 g x - 1})\\,(\\frac{d}{d \\tau} t)\\,(\\frac{d}{d \\tau} x) = \\frac{g \\frac{d}{d \\tau} t \\frac{d}{d \\tau} x}{- 2 g x - 1}$</font>"
       ],
       "metadata": {},
       "output_type": "display_data",
       "text": [
        "<IPython.core.display.HTML object>"
       ]
      },
      {
       "html": [
        "<font size=3 color=black>$\\;\\;\\;\\; -\\Gamma^t{}_{x t}\\,$$\\dot{x}^t\\dot{x}^x$$(\\frac{g}{- 2 g x - 1})\\,(\\frac{d}{d \\tau} x)\\,(\\frac{d}{d \\tau} t) = \\frac{g \\frac{d}{d \\tau} t \\frac{d}{d \\tau} x}{- 2 g x - 1}$</font>"
       ],
       "metadata": {},
       "output_type": "display_data",
       "text": [
        "<IPython.core.display.HTML object>"
       ]
      },
      {
       "html": [
        "<font size=3 color=black>$\\;\\;\\;\\; -\\Gamma^t{}_{x x}\\,$$\\dot{x}^t\\dot{x}^x$$(0)\\,(\\frac{d}{d \\tau} x)\\,(\\frac{d}{d \\tau} x) = 0$</font>"
       ],
       "metadata": {},
       "output_type": "display_data",
       "text": [
        "<IPython.core.display.HTML object>"
       ]
      },
      {
       "html": [
        "<font size=3 color=black>$\\ddot{x}^1 = $</font>"
       ],
       "metadata": {},
       "output_type": "display_data",
       "text": [
        "<IPython.core.display.HTML object>"
       ]
      },
      {
       "html": [
        "<font size=3 color=black>$\\;\\;\\;\\; -\\Gamma^x{}_{t t}\\,$$\\dot{x}^x\\dot{x}^t$$(- g)\\,(\\frac{d}{d \\tau} t)\\,(\\frac{d}{d \\tau} t) = - g \\left(\\frac{d}{d \\tau} t\\right)^{2}$</font>"
       ],
       "metadata": {},
       "output_type": "display_data",
       "text": [
        "<IPython.core.display.HTML object>"
       ]
      },
      {
       "html": [
        "<font size=3 color=black>$\\;\\;\\;\\; -\\Gamma^x{}_{t x}\\,$$\\dot{x}^x\\dot{x}^t$$(0)\\,(\\frac{d}{d \\tau} t)\\,(\\frac{d}{d \\tau} x) = 0$</font>"
       ],
       "metadata": {},
       "output_type": "display_data",
       "text": [
        "<IPython.core.display.HTML object>"
       ]
      },
      {
       "html": [
        "<font size=3 color=black>$\\;\\;\\;\\; -\\Gamma^x{}_{x t}\\,$$\\dot{x}^x\\dot{x}^x$$(0)\\,(\\frac{d}{d \\tau} x)\\,(\\frac{d}{d \\tau} t) = 0$</font>"
       ],
       "metadata": {},
       "output_type": "display_data",
       "text": [
        "<IPython.core.display.HTML object>"
       ]
      },
      {
       "html": [
        "<font size=3 color=black>$\\;\\;\\;\\; -\\Gamma^x{}_{x x}\\,$$\\dot{x}^x\\dot{x}^x$$(0)\\,(\\frac{d}{d \\tau} x)\\,(\\frac{d}{d \\tau} x) = 0$</font>"
       ],
       "metadata": {},
       "output_type": "display_data",
       "text": [
        "<IPython.core.display.HTML object>"
       ]
      },
      {
       "latex": [
        "$$\\begin{bmatrix}\\frac{2 g \\frac{d}{d \\tau} t \\frac{d}{d \\tau} x}{- 2 g x - 1}, & - g \\left(\\frac{d}{d \\tau} t\\right)^{2}\\end{bmatrix}$$"
       ],
       "metadata": {},
       "output_type": "pyout",
       "png": "[encoded data removed]",
       "prompt_number": 76,
       "text": [
        "\u23a1    d     d                 \u23a4\n",
        "\u23a22\u22c5g\u22c5\u2500\u2500(t)\u22c5\u2500\u2500(x)            2\u23a5\n",
        "\u23a2    d\u03c4    d\u03c4        \u239bd    \u239e \u23a5\n",
        "\u23a2\u2500\u2500\u2500\u2500\u2500\u2500\u2500\u2500\u2500\u2500\u2500\u2500\u2500\u2500\u2500, -g\u22c5\u239c\u2500\u2500(t)\u239f \u23a5\n",
        "\u23a3   -2\u22c5g\u22c5x - 1       \u239dd\u03c4   \u23a0 \u23a6"
       ]
      }
     ],
     "prompt_number": 76
    }
   ],
   "metadata": {}
  }
 ]
}